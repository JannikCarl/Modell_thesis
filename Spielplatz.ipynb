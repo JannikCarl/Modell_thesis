{
 "cells": [
  {
   "cell_type": "code",
   "execution_count": 2,
   "metadata": {},
   "outputs": [],
   "source": [
    "import pandas as pd\n",
    "import numpy as np\n",
    "import matplotlib.pyplot as plt\n",
    "from mpl_toolkits.basemap import Basemap\n",
    "from datetime import datetime\n",
    "\n",
    "%matplotlib inline"
   ]
  },
  {
   "cell_type": "code",
   "execution_count": 8,
   "metadata": {},
   "outputs": [],
   "source": [
    "tsl = pd.Series(np.random.randn(20), index=pd.date_range('2017-01-03', periods=20, freq='h'))\n",
    "tsl2 = pd.DataFrame(np.random.randn(100), index=pd.date_range('2017-01-01', periods=100, freq='h'))"
   ]
  },
  {
   "cell_type": "code",
   "execution_count": 11,
   "metadata": {},
   "outputs": [
    {
     "data": {
      "text/html": [
       "<div>\n",
       "<style scoped>\n",
       "    .dataframe tbody tr th:only-of-type {\n",
       "        vertical-align: middle;\n",
       "    }\n",
       "\n",
       "    .dataframe tbody tr th {\n",
       "        vertical-align: top;\n",
       "    }\n",
       "\n",
       "    .dataframe thead th {\n",
       "        text-align: right;\n",
       "    }\n",
       "</style>\n",
       "<table border=\"1\" class=\"dataframe\">\n",
       "  <thead>\n",
       "    <tr style=\"text-align: right;\">\n",
       "      <th></th>\n",
       "      <th>0</th>\n",
       "    </tr>\n",
       "  </thead>\n",
       "  <tbody>\n",
       "    <tr>\n",
       "      <th>2017-01-03 00:00:00</th>\n",
       "      <td>-0.322841</td>\n",
       "    </tr>\n",
       "    <tr>\n",
       "      <th>2017-01-03 01:00:00</th>\n",
       "      <td>-0.148449</td>\n",
       "    </tr>\n",
       "    <tr>\n",
       "      <th>2017-01-03 02:00:00</th>\n",
       "      <td>0.453131</td>\n",
       "    </tr>\n",
       "    <tr>\n",
       "      <th>2017-01-03 03:00:00</th>\n",
       "      <td>0.411649</td>\n",
       "    </tr>\n",
       "    <tr>\n",
       "      <th>2017-01-03 04:00:00</th>\n",
       "      <td>0.641693</td>\n",
       "    </tr>\n",
       "    <tr>\n",
       "      <th>2017-01-03 05:00:00</th>\n",
       "      <td>-1.524248</td>\n",
       "    </tr>\n",
       "    <tr>\n",
       "      <th>2017-01-03 06:00:00</th>\n",
       "      <td>0.617492</td>\n",
       "    </tr>\n",
       "    <tr>\n",
       "      <th>2017-01-03 07:00:00</th>\n",
       "      <td>-2.117179</td>\n",
       "    </tr>\n",
       "    <tr>\n",
       "      <th>2017-01-03 08:00:00</th>\n",
       "      <td>-1.022903</td>\n",
       "    </tr>\n",
       "    <tr>\n",
       "      <th>2017-01-03 09:00:00</th>\n",
       "      <td>-0.123752</td>\n",
       "    </tr>\n",
       "    <tr>\n",
       "      <th>2017-01-03 10:00:00</th>\n",
       "      <td>1.625373</td>\n",
       "    </tr>\n",
       "    <tr>\n",
       "      <th>2017-01-03 11:00:00</th>\n",
       "      <td>-0.066883</td>\n",
       "    </tr>\n",
       "    <tr>\n",
       "      <th>2017-01-03 12:00:00</th>\n",
       "      <td>-0.481443</td>\n",
       "    </tr>\n",
       "    <tr>\n",
       "      <th>2017-01-03 13:00:00</th>\n",
       "      <td>1.727453</td>\n",
       "    </tr>\n",
       "    <tr>\n",
       "      <th>2017-01-03 14:00:00</th>\n",
       "      <td>-1.925526</td>\n",
       "    </tr>\n",
       "    <tr>\n",
       "      <th>2017-01-03 15:00:00</th>\n",
       "      <td>-1.969963</td>\n",
       "    </tr>\n",
       "    <tr>\n",
       "      <th>2017-01-03 16:00:00</th>\n",
       "      <td>0.490636</td>\n",
       "    </tr>\n",
       "    <tr>\n",
       "      <th>2017-01-03 17:00:00</th>\n",
       "      <td>0.351348</td>\n",
       "    </tr>\n",
       "    <tr>\n",
       "      <th>2017-01-03 18:00:00</th>\n",
       "      <td>-0.996195</td>\n",
       "    </tr>\n",
       "    <tr>\n",
       "      <th>2017-01-03 19:00:00</th>\n",
       "      <td>-0.786546</td>\n",
       "    </tr>\n",
       "  </tbody>\n",
       "</table>\n",
       "</div>"
      ],
      "text/plain": [
       "                            0\n",
       "2017-01-03 00:00:00 -0.322841\n",
       "2017-01-03 01:00:00 -0.148449\n",
       "2017-01-03 02:00:00  0.453131\n",
       "2017-01-03 03:00:00  0.411649\n",
       "2017-01-03 04:00:00  0.641693\n",
       "2017-01-03 05:00:00 -1.524248\n",
       "2017-01-03 06:00:00  0.617492\n",
       "2017-01-03 07:00:00 -2.117179\n",
       "2017-01-03 08:00:00 -1.022903\n",
       "2017-01-03 09:00:00 -0.123752\n",
       "2017-01-03 10:00:00  1.625373\n",
       "2017-01-03 11:00:00 -0.066883\n",
       "2017-01-03 12:00:00 -0.481443\n",
       "2017-01-03 13:00:00  1.727453\n",
       "2017-01-03 14:00:00 -1.925526\n",
       "2017-01-03 15:00:00 -1.969963\n",
       "2017-01-03 16:00:00  0.490636\n",
       "2017-01-03 17:00:00  0.351348\n",
       "2017-01-03 18:00:00 -0.996195\n",
       "2017-01-03 19:00:00 -0.786546"
      ]
     },
     "execution_count": 11,
     "metadata": {},
     "output_type": "execute_result"
    }
   ],
   "source": [
    "tsl2.loc[tsl.index]"
   ]
  },
  {
   "cell_type": "code",
   "execution_count": 30,
   "metadata": {},
   "outputs": [
    {
     "data": {
      "text/plain": [
       "0    1.313359\n",
       "Name: 2017-01-01 02:00:00, dtype: float64"
      ]
     },
     "execution_count": 30,
     "metadata": {},
     "output_type": "execute_result"
    }
   ],
   "source": [
    "tsl.loc['201701010200']"
   ]
  }
 ],
 "metadata": {
  "kernelspec": {
   "display_name": "Python 3",
   "language": "python",
   "name": "python3"
  },
  "language_info": {
   "codemirror_mode": {
    "name": "ipython",
    "version": 3
   },
   "file_extension": ".py",
   "mimetype": "text/x-python",
   "name": "python",
   "nbconvert_exporter": "python",
   "pygments_lexer": "ipython3",
   "version": "3.6.4"
  }
 },
 "nbformat": 4,
 "nbformat_minor": 2
}
