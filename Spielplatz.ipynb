{
 "cells": [
  {
   "cell_type": "code",
   "execution_count": 3,
   "metadata": {},
   "outputs": [],
   "source": [
    "import pandas as pd\n",
    "import numpy as np\n",
    "import matplotlib.pyplot as plt\n",
    "from mpl_toolkits.basemap import Basemap\n",
    "from datetime import datetime\n",
    "\n",
    "%matplotlib inline"
   ]
  },
  {
   "cell_type": "code",
   "execution_count": 4,
   "metadata": {},
   "outputs": [],
   "source": [
    "tsl = pd.Series(np.random.randn(20), index=pd.date_range('2017-01-03', periods=20, freq='h'))\n",
    "tsl2 = pd.DataFrame(np.random.randn(100), index=pd.date_range('2017-01-01', periods=100, freq='h'))"
   ]
  },
  {
   "cell_type": "code",
   "execution_count": 35,
   "metadata": {},
   "outputs": [
    {
     "data": {
      "text/html": [
       "<div>\n",
       "<style scoped>\n",
       "    .dataframe tbody tr th:only-of-type {\n",
       "        vertical-align: middle;\n",
       "    }\n",
       "\n",
       "    .dataframe tbody tr th {\n",
       "        vertical-align: top;\n",
       "    }\n",
       "\n",
       "    .dataframe thead th {\n",
       "        text-align: right;\n",
       "    }\n",
       "</style>\n",
       "<table border=\"1\" class=\"dataframe\">\n",
       "  <thead>\n",
       "    <tr style=\"text-align: right;\">\n",
       "      <th></th>\n",
       "      <th>0</th>\n",
       "      <th>1</th>\n",
       "      <th>2</th>\n",
       "      <th>3</th>\n",
       "      <th>4</th>\n",
       "      <th>5</th>\n",
       "      <th>6</th>\n",
       "      <th>7</th>\n",
       "      <th>8</th>\n",
       "    </tr>\n",
       "  </thead>\n",
       "  <tbody>\n",
       "    <tr>\n",
       "      <th>Braunkohle</th>\n",
       "      <td>0.5</td>\n",
       "      <td>9</td>\n",
       "      <td>0.370</td>\n",
       "      <td>4000</td>\n",
       "      <td>4000</td>\n",
       "      <td>8</td>\n",
       "      <td>20</td>\n",
       "      <td>0.04</td>\n",
       "      <td>0.04</td>\n",
       "    </tr>\n",
       "    <tr>\n",
       "      <th>Steinkohle</th>\n",
       "      <td>0.5</td>\n",
       "      <td>-</td>\n",
       "      <td>0.355</td>\n",
       "      <td>4000</td>\n",
       "      <td>4000</td>\n",
       "      <td>8</td>\n",
       "      <td>16</td>\n",
       "      <td>0.05</td>\n",
       "      <td>0.05</td>\n",
       "    </tr>\n",
       "    <tr>\n",
       "      <th>Erdgas</th>\n",
       "      <td>0.4</td>\n",
       "      <td>21.13</td>\n",
       "      <td>0.250</td>\n",
       "      <td>7500</td>\n",
       "      <td>b</td>\n",
       "      <td>8</td>\n",
       "      <td>16</td>\n",
       "      <td>0.05</td>\n",
       "      <td>0.05</td>\n",
       "    </tr>\n",
       "    <tr>\n",
       "      <th>GuD</th>\n",
       "      <td>-</td>\n",
       "      <td>21.13</td>\n",
       "      <td>0.500</td>\n",
       "      <td>8000</td>\n",
       "      <td>800</td>\n",
       "      <td>8</td>\n",
       "      <td>7</td>\n",
       "      <td>0.10</td>\n",
       "      <td>0.10</td>\n",
       "    </tr>\n",
       "  </tbody>\n",
       "</table>\n",
       "</div>"
      ],
      "text/plain": [
       "              0      1      2     3     4  5   6     7     8\n",
       "Braunkohle  0.5      9  0.370  4000  4000  8  20  0.04  0.04\n",
       "Steinkohle  0.5      -  0.355  4000  4000  8  16  0.05  0.05\n",
       "Erdgas      0.4  21.13  0.250  7500     b  8  16  0.05  0.05\n",
       "GuD           -  21.13  0.500  8000   800  8   7  0.10  0.10"
      ]
     },
     "execution_count": 35,
     "metadata": {},
     "output_type": "execute_result"
    }
   ],
   "source": [
    "df_generators_ucData = pd.DataFrame(\n",
    "    [[0.5,9,0.37,4000,4000,8,20,0.04,0.04],\n",
    "     [0.5,'-',0.355,4000,4000,8,16,0.05,0.05],\n",
    "     [0.4,21.13,0.25,7500,'b',8,16,0.05,0.05],\n",
    "     ['-',21.13,0.5,8000,800,8,'7',0.1,0.1]],\n",
    "    index=[\"Braunkohle\",\"Steinkohle\",\"Erdgas\",\"GuD\"],\n",
    "    columns=[i for i in range(9)]\n",
    ")\n",
    "df_generators_ucData"
   ]
  },
  {
   "cell_type": "code",
   "execution_count": 40,
   "metadata": {},
   "outputs": [
    {
     "data": {
      "text/html": [
       "<div>\n",
       "<style scoped>\n",
       "    .dataframe tbody tr th:only-of-type {\n",
       "        vertical-align: middle;\n",
       "    }\n",
       "\n",
       "    .dataframe tbody tr th {\n",
       "        vertical-align: top;\n",
       "    }\n",
       "\n",
       "    .dataframe thead th {\n",
       "        text-align: right;\n",
       "    }\n",
       "</style>\n",
       "<table border=\"1\" class=\"dataframe\">\n",
       "  <thead>\n",
       "    <tr style=\"text-align: right;\">\n",
       "      <th></th>\n",
       "      <th>0</th>\n",
       "      <th>1</th>\n",
       "      <th>2</th>\n",
       "      <th>3</th>\n",
       "      <th>4</th>\n",
       "      <th>5</th>\n",
       "      <th>6</th>\n",
       "      <th>7</th>\n",
       "      <th>8</th>\n",
       "    </tr>\n",
       "  </thead>\n",
       "  <tbody>\n",
       "    <tr>\n",
       "      <th>Braunkohle</th>\n",
       "      <td>0.5</td>\n",
       "      <td>9.00</td>\n",
       "      <td>0.370</td>\n",
       "      <td>4000</td>\n",
       "      <td>4000</td>\n",
       "      <td>8</td>\n",
       "      <td>20</td>\n",
       "      <td>0.04</td>\n",
       "      <td>0.04</td>\n",
       "    </tr>\n",
       "    <tr>\n",
       "      <th>Steinkohle</th>\n",
       "      <td>0.5</td>\n",
       "      <td>0.00</td>\n",
       "      <td>0.355</td>\n",
       "      <td>4000</td>\n",
       "      <td>4000</td>\n",
       "      <td>8</td>\n",
       "      <td>16</td>\n",
       "      <td>0.05</td>\n",
       "      <td>0.05</td>\n",
       "    </tr>\n",
       "    <tr>\n",
       "      <th>Erdgas</th>\n",
       "      <td>0.4</td>\n",
       "      <td>21.13</td>\n",
       "      <td>0.250</td>\n",
       "      <td>7500</td>\n",
       "      <td>0</td>\n",
       "      <td>8</td>\n",
       "      <td>16</td>\n",
       "      <td>0.05</td>\n",
       "      <td>0.05</td>\n",
       "    </tr>\n",
       "    <tr>\n",
       "      <th>GuD</th>\n",
       "      <td>0.0</td>\n",
       "      <td>21.13</td>\n",
       "      <td>0.500</td>\n",
       "      <td>8000</td>\n",
       "      <td>800</td>\n",
       "      <td>8</td>\n",
       "      <td>0</td>\n",
       "      <td>0.10</td>\n",
       "      <td>0.10</td>\n",
       "    </tr>\n",
       "  </tbody>\n",
       "</table>\n",
       "</div>"
      ],
      "text/plain": [
       "              0      1      2     3     4  5   6     7     8\n",
       "Braunkohle  0.5   9.00  0.370  4000  4000  8  20  0.04  0.04\n",
       "Steinkohle  0.5   0.00  0.355  4000  4000  8  16  0.05  0.05\n",
       "Erdgas      0.4  21.13  0.250  7500     0  8  16  0.05  0.05\n",
       "GuD         0.0  21.13  0.500  8000   800  8   0  0.10  0.10"
      ]
     },
     "execution_count": 40,
     "metadata": {},
     "output_type": "execute_result"
    }
   ],
   "source": [
    "findings = df_generators_ucData.applymap(lambda item: 0 if not(np.isreal(item)) else item)\n",
    "findings"
   ]
  },
  {
   "cell_type": "raw",
   "metadata": {},
   "source": [
    "for x in df_generators_ucData.columns:\n",
    "    df_generators_ucData[x] = df_generators_ucData[x].map(lambda item: 0 if not(np.isreal(item)) else item)"
   ]
  },
  {
   "cell_type": "code",
   "execution_count": 39,
   "metadata": {},
   "outputs": [
    {
     "data": {
      "text/plain": [
       "0     0.5\n",
       "1       9\n",
       "2    0.37\n",
       "3    4000\n",
       "4    4000\n",
       "5       8\n",
       "6      20\n",
       "7    0.04\n",
       "8    0.04\n",
       "Name: Braunkohle, dtype: object"
      ]
     },
     "execution_count": 39,
     "metadata": {},
     "output_type": "execute_result"
    }
   ],
   "source": [
    "df_generators_ucData.iloc[0]"
   ]
  }
 ],
 "metadata": {
  "kernelspec": {
   "display_name": "Python 3",
   "language": "python",
   "name": "python3"
  },
  "language_info": {
   "codemirror_mode": {
    "name": "ipython",
    "version": 3
   },
   "file_extension": ".py",
   "mimetype": "text/x-python",
   "name": "python",
   "nbconvert_exporter": "python",
   "pygments_lexer": "ipython3",
   "version": "3.6.4"
  }
 },
 "nbformat": 4,
 "nbformat_minor": 2
}
