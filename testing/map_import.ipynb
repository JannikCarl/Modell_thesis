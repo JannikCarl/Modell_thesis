{
 "cells": [
  {
   "cell_type": "code",
   "execution_count": 1,
   "metadata": {
    "collapsed": true
   },
   "outputs": [],
   "source": [
    "from __future__ import print_function, division\n",
    "import numpy as np\n",
    "import pandas as pd\n",
    "import matplotlib.pyplot as plt\n",
    "from datetime import datetime\n",
    "import math\n",
    "\n",
    "import pypsa\n",
    "\n",
    "%matplotlib inline"
   ]
  },
  {
   "cell_type": "code",
   "execution_count": 21,
   "metadata": {
    "collapsed": true
   },
   "outputs": [],
   "source": [
    "nw = pypsa.Network()\n",
    "\n",
    "cur_path = r\"C:\\Users\\janni\\OneDrive\\TU Berlin\\4 - Abschlussarbeiten\\01 - Bachelorarbeit\\modell\\data\\\\\"\n",
    "\n",
    "ex1 = pd.ExcelFile(cur_path + \"map_cities.xlsx\")\n",
    "ex2 = pd.ExcelFile(cur_path + \"map_countries.xlsx\")"
   ]
  },
  {
   "cell_type": "markdown",
   "metadata": {},
   "source": [
    "Load city- and country-buses"
   ]
  },
  {
   "cell_type": "code",
   "execution_count": 3,
   "metadata": {
    "collapsed": true
   },
   "outputs": [],
   "source": [
    "df_cities = pd.read_excel(ex1, sheetname=\"buses\", header=0, parse_cols=\"B:D\")\n",
    "df_countries = pd.read_excel(ex2, sheetname=\"buses\", header=0, parse_cols=\"B:D\")\n",
    "df_buses = df_cities.append(df_countries).reset_index(drop=True)"
   ]
  },
  {
   "cell_type": "code",
   "execution_count": 4,
   "metadata": {},
   "outputs": [
    {
     "data": {
      "text/html": [
       "<div>\n",
       "<style>\n",
       "    .dataframe thead tr:only-child th {\n",
       "        text-align: right;\n",
       "    }\n",
       "\n",
       "    .dataframe thead th {\n",
       "        text-align: left;\n",
       "    }\n",
       "\n",
       "    .dataframe tbody tr th {\n",
       "        vertical-align: top;\n",
       "    }\n",
       "</style>\n",
       "<table border=\"1\" class=\"dataframe\">\n",
       "  <thead>\n",
       "    <tr style=\"text-align: right;\">\n",
       "      <th></th>\n",
       "      <th>name</th>\n",
       "      <th>x</th>\n",
       "      <th>y</th>\n",
       "    </tr>\n",
       "  </thead>\n",
       "  <tbody>\n",
       "    <tr>\n",
       "      <th>0</th>\n",
       "      <td>Mecklenburg-Vorpommertn, Schleswig-Holstein</td>\n",
       "      <td>12.43</td>\n",
       "      <td>53.61</td>\n",
       "    </tr>\n",
       "    <tr>\n",
       "      <th>1</th>\n",
       "      <td>Berlin, Brandenburg</td>\n",
       "      <td>13.40</td>\n",
       "      <td>52.52</td>\n",
       "    </tr>\n",
       "    <tr>\n",
       "      <th>2</th>\n",
       "      <td>Hamburg, Bremen, Niedersachsen</td>\n",
       "      <td>9.99</td>\n",
       "      <td>53.55</td>\n",
       "    </tr>\n",
       "    <tr>\n",
       "      <th>3</th>\n",
       "      <td>Nordrhein-Westfalen (Köln)</td>\n",
       "      <td>6.96</td>\n",
       "      <td>50.94</td>\n",
       "    </tr>\n",
       "    <tr>\n",
       "      <th>4</th>\n",
       "      <td>Rheinland-Pfalz, Saarland</td>\n",
       "      <td>7.31</td>\n",
       "      <td>50.12</td>\n",
       "    </tr>\n",
       "    <tr>\n",
       "      <th>5</th>\n",
       "      <td>Hessen</td>\n",
       "      <td>9.16</td>\n",
       "      <td>50.65</td>\n",
       "    </tr>\n",
       "    <tr>\n",
       "      <th>6</th>\n",
       "      <td>Baden-Würtemberg (Stuttgart)</td>\n",
       "      <td>9.18</td>\n",
       "      <td>48.76</td>\n",
       "    </tr>\n",
       "    <tr>\n",
       "      <th>7</th>\n",
       "      <td>Bayern (München)</td>\n",
       "      <td>11.58</td>\n",
       "      <td>48.14</td>\n",
       "    </tr>\n",
       "    <tr>\n",
       "      <th>8</th>\n",
       "      <td>Sachsen, Sachen-Anhalt, Thüringen</td>\n",
       "      <td>13.20</td>\n",
       "      <td>51.11</td>\n",
       "    </tr>\n",
       "    <tr>\n",
       "      <th>9</th>\n",
       "      <td>Skandinavien</td>\n",
       "      <td>9.62</td>\n",
       "      <td>56.00</td>\n",
       "    </tr>\n",
       "    <tr>\n",
       "      <th>10</th>\n",
       "      <td>Niederlande</td>\n",
       "      <td>6.36</td>\n",
       "      <td>52.10</td>\n",
       "    </tr>\n",
       "    <tr>\n",
       "      <th>11</th>\n",
       "      <td>Belgien</td>\n",
       "      <td>5.00</td>\n",
       "      <td>50.58</td>\n",
       "    </tr>\n",
       "    <tr>\n",
       "      <th>12</th>\n",
       "      <td>Frankreich</td>\n",
       "      <td>4.38</td>\n",
       "      <td>48.17</td>\n",
       "    </tr>\n",
       "    <tr>\n",
       "      <th>13</th>\n",
       "      <td>Schweiz</td>\n",
       "      <td>8.89</td>\n",
       "      <td>47.08</td>\n",
       "    </tr>\n",
       "    <tr>\n",
       "      <th>14</th>\n",
       "      <td>Oesterreich</td>\n",
       "      <td>14.08</td>\n",
       "      <td>47.82</td>\n",
       "    </tr>\n",
       "    <tr>\n",
       "      <th>15</th>\n",
       "      <td>Tschechien</td>\n",
       "      <td>13.24</td>\n",
       "      <td>49.92</td>\n",
       "    </tr>\n",
       "    <tr>\n",
       "      <th>16</th>\n",
       "      <td>Polen</td>\n",
       "      <td>15.83</td>\n",
       "      <td>52.54</td>\n",
       "    </tr>\n",
       "  </tbody>\n",
       "</table>\n",
       "</div>"
      ],
      "text/plain": [
       "                                           name      x      y\n",
       "0   Mecklenburg-Vorpommertn, Schleswig-Holstein  12.43  53.61\n",
       "1                           Berlin, Brandenburg  13.40  52.52\n",
       "2                Hamburg, Bremen, Niedersachsen   9.99  53.55\n",
       "3                    Nordrhein-Westfalen (Köln)   6.96  50.94\n",
       "4                     Rheinland-Pfalz, Saarland   7.31  50.12\n",
       "5                                        Hessen   9.16  50.65\n",
       "6                  Baden-Würtemberg (Stuttgart)   9.18  48.76\n",
       "7                              Bayern (München)  11.58  48.14\n",
       "8             Sachsen, Sachen-Anhalt, Thüringen  13.20  51.11\n",
       "9                                  Skandinavien   9.62  56.00\n",
       "10                                  Niederlande   6.36  52.10\n",
       "11                                      Belgien   5.00  50.58\n",
       "12                                   Frankreich   4.38  48.17\n",
       "13                                      Schweiz   8.89  47.08\n",
       "14                                  Oesterreich  14.08  47.82\n",
       "15                                   Tschechien  13.24  49.92\n",
       "16                                        Polen  15.83  52.54"
      ]
     },
     "execution_count": 4,
     "metadata": {},
     "output_type": "execute_result"
    }
   ],
   "source": [
    "df_buses"
   ]
  },
  {
   "cell_type": "code",
   "execution_count": 19,
   "metadata": {},
   "outputs": [
    {
     "data": {
      "text/plain": [
       "4"
      ]
     },
     "execution_count": 19,
     "metadata": {},
     "output_type": "execute_result"
    }
   ],
   "source": [
    "[i for i, s in enumerate(df_buses[\"name\"]) if \"Rhein\" in s][0]"
   ]
  },
  {
   "cell_type": "markdown",
   "metadata": {},
   "source": [
    "Load lines between buses"
   ]
  },
  {
   "cell_type": "code",
   "execution_count": 5,
   "metadata": {
    "collapsed": true
   },
   "outputs": [],
   "source": [
    "df_cities_lines = pd.read_excel(ex1, sheetname=\"lines\", header=0, parse_cols=\"B:D\")\n",
    "df_countries_lines = pd.read_excel(ex2, sheetname=\"lines\", header=0, parse_cols=\"B:D\")\n",
    "df_lines = df_cities_lines.append(df_countries_lines).reset_index(drop=True)"
   ]
  },
  {
   "cell_type": "markdown",
   "metadata": {},
   "source": [
    "Calculating the length of each line by Pythagoras.\n",
    "The factor enables converting the distance in lattitude/longitude to kilometers"
   ]
  },
  {
   "cell_type": "code",
   "execution_count": 6,
   "metadata": {
    "collapsed": true
   },
   "outputs": [],
   "source": [
    "df_lines[\"length\"] = 0\n",
    "factor_coords_to_km = 111\n",
    "\n",
    "for i in range(len(df_lines)):\n",
    "    x_val = df_buses[\"x\"][df_lines[\"bus0\"][i]] - df_buses[\"x\"][df_lines[\"bus1\"][i]]\n",
    "    y_val = df_buses[\"y\"][df_lines[\"bus0\"][i]] - df_buses[\"y\"][df_lines[\"bus1\"][i]]\n",
    "    df_lines.at[i, \"length\"] = (math.sqrt(x_val**2 + y_val**2) * factor_coords_to_km)"
   ]
  },
  {
   "cell_type": "code",
   "execution_count": 8,
   "metadata": {
    "collapsed": true
   },
   "outputs": [],
   "source": [
    "pypsa.io.import_components_from_dataframe(nw, df_buses, \"Bus\")"
   ]
  },
  {
   "cell_type": "code",
   "execution_count": 9,
   "metadata": {
    "collapsed": true
   },
   "outputs": [],
   "source": [
    "pypsa.io.import_components_from_dataframe(nw, df_lines, \"Line\")"
   ]
  },
  {
   "cell_type": "code",
   "execution_count": 10,
   "metadata": {},
   "outputs": [
    {
     "data": {
      "text/plain": [
       "(<matplotlib.collections.PathCollection at 0x2597f81c6a0>,\n",
       " <matplotlib.collections.LineCollection at 0x2597f81ccc0>)"
      ]
     },
     "execution_count": 10,
     "metadata": {},
     "output_type": "execute_result"
    },
    {
     "data": {
      "image/png": "[encoded data removed]",
      "text/plain": [
       "<matplotlib.figure.Figure at 0x2597f6d6be0>"
      ]
     },
     "metadata": {},
     "output_type": "display_data"
    }
   ],
   "source": [
    "fig,ax=plt.subplots(1,1)\n",
    "fig.set_size_inches(6,6)\n",
    "\n",
    "nw.plot(bus_sizes=20, title=\"Zweiter Test\")"
   ]
  }
 ],
 "metadata": {
  "kernelspec": {
   "display_name": "Python 3",
   "language": "python",
   "name": "python3"
  },
  "language_info": {
   "codemirror_mode": {
    "name": "ipython",
    "version": 3
   },
   "file_extension": ".py",
   "mimetype": "text/x-python",
   "name": "python",
   "nbconvert_exporter": "python",
   "pygments_lexer": "ipython3",
   "version": "3.6.3"
  }
 },
 "nbformat": 4,
 "nbformat_minor": 2
}
