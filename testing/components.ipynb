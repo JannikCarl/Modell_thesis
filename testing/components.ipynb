{
 "cells": [
  {
   "cell_type": "code",
   "execution_count": 26,
   "metadata": {},
   "outputs": [],
   "source": [
    "from __future__ import print_function, division\n",
    "import numpy as np\n",
    "import pandas as pd\n",
    "import matplotlib.pyplot as plt\n",
    "from datetime import datetime\n",
    "import math\n",
    "import random\n",
    "import csv\n",
    "import dill as pickle\n",
    "\n",
    "import pypsa\n",
    "\n",
    "%matplotlib inline"
   ]
  },
  {
   "cell_type": "code",
   "execution_count": 27,
   "metadata": {},
   "outputs": [],
   "source": [
    "nw = pypsa.Network()"
   ]
  },
  {
   "cell_type": "code",
   "execution_count": 28,
   "metadata": {},
   "outputs": [],
   "source": [
    "nw.set_snapshots([p for p in range(10)])"
   ]
  },
  {
   "cell_type": "code",
   "execution_count": 29,
   "metadata": {},
   "outputs": [],
   "source": [
    "cur_path = r\"C:\\Users\\janni\\OneDrive\\TU Berlin\\4 - Abschlussarbeiten\\01 - Bachelorarbeit\\modell\\data\\\\\""
   ]
  },
  {
   "cell_type": "code",
   "execution_count": 31,
   "metadata": {},
   "outputs": [],
   "source": [
    "for i in range(3):\n",
    "    nw.add(\"Bus\",\"My bus {}\".format(i))\n",
    "    \n",
    "for i in range(3):\n",
    "    nw.add(\"Line\",\"My line {}\".format(i),\n",
    "                bus0=\"My bus {}\".format(i),\n",
    "                bus1=\"My bus {}\".format((i+1)%3),\n",
    "                x=0.0001,\n",
    "                s_nom=60000)"
   ]
  },
  {
   "cell_type": "raw",
   "metadata": {},
   "source": [
    "for i in range(2):\n",
    "    nw.add(\"Load\", \"My load {0}\".format(i), bus=\"My bus {0}\".format(i+1), p_set=[random.randint(500, 1000) for p in range(len(nw.snapshots))])"
   ]
  },
  {
   "cell_type": "code",
   "execution_count": 32,
   "metadata": {},
   "outputs": [],
   "source": [
    "for i in range(2):\n",
    "    nw.add(\"Load\", \"My load {0}\".format(i),\n",
    "           bus=\"My bus {0}\".format(i+1),\n",
    "           p_set=[2000 for p in range(len(nw.snapshots))])"
   ]
  },
  {
   "cell_type": "code",
   "execution_count": 33,
   "metadata": {},
   "outputs": [],
   "source": [
    "nw.add(\"Generator\", name=\"backup\",\n",
    "       bus=\"My bus 0\",\n",
    "       carrier=\"gas\",\n",
    "       #marginal_cost=20,\n",
    "       p_nom=\"20000\",\n",
    "       committable=True)"
   ]
  },
  {
   "cell_type": "markdown",
   "metadata": {},
   "source": [
    " "
   ]
  },
  {
   "cell_type": "markdown",
   "metadata": {},
   "source": [
    " ====================================================================="
   ]
  },
  {
   "cell_type": "markdown",
   "metadata": {},
   "source": [
    " "
   ]
  },
  {
   "cell_type": "code",
   "execution_count": 34,
   "metadata": {},
   "outputs": [],
   "source": [
    "power = 2000\n",
    "av = [random.randint(0, power) for p in range(len(nw.snapshots))]"
   ]
  },
  {
   "cell_type": "code",
   "execution_count": 35,
   "metadata": {},
   "outputs": [],
   "source": [
    "nw.add(\"Generator\", name=\"Offshore Nordsee\",\n",
    "       bus=\"My bus 1\",\n",
    "       carrier=\"wind\",\n",
    "       marginal_cost=500,\n",
    "       p_nom=power,\n",
    "       p_min_pu=[p/power for p in av],\n",
    "       p_max_pu=[p/power for p in av],\n",
    "       committable=False)"
   ]
  },
  {
   "cell_type": "markdown",
   "metadata": {},
   "source": [
    " "
   ]
  },
  {
   "cell_type": "markdown",
   "metadata": {},
   "source": [
    " ====================================================================="
   ]
  },
  {
   "cell_type": "markdown",
   "metadata": {},
   "source": [
    " "
   ]
  },
  {
   "cell_type": "code",
   "execution_count": 36,
   "metadata": {},
   "outputs": [
    {
     "name": "stderr",
     "output_type": "stream",
     "text": [
      "INFO:pypsa.pf:Slack bus for sub-network 0 is My bus 0\n",
      "INFO:pypsa.opf:Performed preliminary steps\n",
      "INFO:pypsa.opf:Building pyomo model using `angles` formulation\n",
      "INFO:pypsa.opf:Solving model using gurobi\n",
      "INFO:pypsa.opf:Optimization successful\n"
     ]
    },
    {
     "name": "stdout",
     "output_type": "stream",
     "text": [
      "# ==========================================================\n",
      "# = Solver Results                                         =\n",
      "# ==========================================================\n",
      "# ----------------------------------------------------------\n",
      "#   Problem Information\n",
      "# ----------------------------------------------------------\n",
      "Problem: \n",
      "- Name: x91\n",
      "  Lower bound: 5598500.0\n",
      "  Upper bound: 5598500.0\n",
      "  Number of objectives: 1\n",
      "  Number of constraints: 151\n",
      "  Number of variables: 91\n",
      "  Number of binary variables: 10\n",
      "  Number of integer variables: 10\n",
      "  Number of continuous variables: 81\n",
      "  Number of nonzeros: 271\n",
      "  Sense: minimize\n",
      "# ----------------------------------------------------------\n",
      "#   Solver Information\n",
      "# ----------------------------------------------------------\n",
      "Solver: \n",
      "- Status: ok\n",
      "  Return code: 0\n",
      "  Message: Model was solved to optimality (subject to tolerances), and an optimal solution is available.\n",
      "  Termination condition: optimal\n",
      "  Termination message: Model was solved to optimality (subject to tolerances), and an optimal solution is available.\n",
      "  Wall time: 0.00180435180664\n",
      "  Error rc: 0\n",
      "  Time: 0.16271114349365234\n",
      "# ----------------------------------------------------------\n",
      "#   Solution Information\n",
      "# ----------------------------------------------------------\n",
      "Solution: \n",
      "- number of solutions: 0\n",
      "  number of solutions displayed: 0\n"
     ]
    },
    {
     "data": {
      "text/plain": [
       "('ok', 'optimal')"
      ]
     },
     "execution_count": 36,
     "metadata": {},
     "output_type": "execute_result"
    }
   ],
   "source": [
    "nw.lopf(nw.snapshots, solver_name=\"gurobi\")"
   ]
  },
  {
   "cell_type": "code",
   "execution_count": 37,
   "metadata": {},
   "outputs": [
    {
     "data": {
      "text/plain": [
       "5598500.0"
      ]
     },
     "execution_count": 37,
     "metadata": {},
     "output_type": "execute_result"
    }
   ],
   "source": [
    "nw.objective"
   ]
  },
  {
   "cell_type": "code",
   "execution_count": 38,
   "metadata": {},
   "outputs": [
    {
     "data": {
      "text/html": [
       "<div>\n",
       "<style scoped>\n",
       "    .dataframe tbody tr th:only-of-type {\n",
       "        vertical-align: middle;\n",
       "    }\n",
       "\n",
       "    .dataframe tbody tr th {\n",
       "        vertical-align: top;\n",
       "    }\n",
       "\n",
       "    .dataframe thead th {\n",
       "        text-align: right;\n",
       "    }\n",
       "</style>\n",
       "<table border=\"1\" class=\"dataframe\">\n",
       "  <thead>\n",
       "    <tr style=\"text-align: right;\">\n",
       "      <th></th>\n",
       "      <th>0</th>\n",
       "      <th>1</th>\n",
       "      <th>2</th>\n",
       "      <th>3</th>\n",
       "      <th>4</th>\n",
       "      <th>5</th>\n",
       "      <th>6</th>\n",
       "      <th>7</th>\n",
       "      <th>8</th>\n",
       "      <th>9</th>\n",
       "    </tr>\n",
       "  </thead>\n",
       "  <tbody>\n",
       "    <tr>\n",
       "      <th>backup</th>\n",
       "      <td>3693.0</td>\n",
       "      <td>2650.0</td>\n",
       "      <td>2399.0</td>\n",
       "      <td>2774.0</td>\n",
       "      <td>3539.0</td>\n",
       "      <td>3151.0</td>\n",
       "      <td>3163.0</td>\n",
       "      <td>2958.0</td>\n",
       "      <td>2075.0</td>\n",
       "      <td>2401.0</td>\n",
       "    </tr>\n",
       "    <tr>\n",
       "      <th>Offshore Nordsee</th>\n",
       "      <td>307.0</td>\n",
       "      <td>1350.0</td>\n",
       "      <td>1601.0</td>\n",
       "      <td>1226.0</td>\n",
       "      <td>461.0</td>\n",
       "      <td>849.0</td>\n",
       "      <td>837.0</td>\n",
       "      <td>1042.0</td>\n",
       "      <td>1925.0</td>\n",
       "      <td>1599.0</td>\n",
       "    </tr>\n",
       "  </tbody>\n",
       "</table>\n",
       "</div>"
      ],
      "text/plain": [
       "                       0       1       2       3       4       5       6  \\\n",
       "backup            3693.0  2650.0  2399.0  2774.0  3539.0  3151.0  3163.0   \n",
       "Offshore Nordsee   307.0  1350.0  1601.0  1226.0   461.0   849.0   837.0   \n",
       "\n",
       "                       7       8       9  \n",
       "backup            2958.0  2075.0  2401.0  \n",
       "Offshore Nordsee  1042.0  1925.0  1599.0  "
      ]
     },
     "execution_count": 38,
     "metadata": {},
     "output_type": "execute_result"
    }
   ],
   "source": [
    "nw.generators_t.p.T"
   ]
  },
  {
   "cell_type": "code",
   "execution_count": 39,
   "metadata": {},
   "outputs": [
    {
     "data": {
      "text/plain": [
       "Text(0,0.5,'MW')"
      ]
     },
     "execution_count": 39,
     "metadata": {},
     "output_type": "execute_result"
    },
    {
     "data": {
      "image/png": "[encoded data removed]",
      "text/plain": [
       "<matplotlib.figure.Figure at 0x1e6b66e8e10>"
      ]
     },
     "metadata": {},
     "output_type": "display_data"
    }
   ],
   "source": [
    "fig,ax = plt.subplots(1,1)\n",
    "fig.set_size_inches(30,10)\n",
    "\n",
    "(nw.generators_t.p).plot(kind=\"area\",ax=ax, grid=True)\n",
    "\n",
    "ax.set_xlabel(\"Snaps\")\n",
    "ax.set_ylabel(\"MW\")"
   ]
  },
  {
   "cell_type": "code",
   "execution_count": 40,
   "metadata": {},
   "outputs": [],
   "source": [
    "with open(\"results.csv\", \"r+\", newline=\"\") as csvfile:\n",
    "    resfile = csv.writer(csvfile)\n",
    "    resfile.writerow(\"Halloo\")"
   ]
  },
  {
   "cell_type": "code",
   "execution_count": 41,
   "metadata": {},
   "outputs": [],
   "source": [
    "f = open(\"testing.pickle\", 'wb')\n",
    "pickle.dump(nw, f)\n",
    "f.close()"
   ]
  }
 ],
 "metadata": {
  "kernelspec": {
   "display_name": "Python 3",
   "language": "python",
   "name": "python3"
  },
  "language_info": {
   "codemirror_mode": {
    "name": "ipython",
    "version": 3
   },
   "file_extension": ".py",
   "mimetype": "text/x-python",
   "name": "python",
   "nbconvert_exporter": "python",
   "pygments_lexer": "ipython3",
   "version": "3.6.4"
  }
 },
 "nbformat": 4,
 "nbformat_minor": 2
}
