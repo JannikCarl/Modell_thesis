{
 "cells": [
  {
   "cell_type": "code",
   "execution_count": 1,
   "metadata": {
    "collapsed": true
   },
   "outputs": [],
   "source": [
    "from __future__ import print_function, division\n",
    "import numpy as np\n",
    "import pandas as pd\n",
    "import matplotlib.pyplot as plt\n",
    "from datetime import datetime\n",
    "import math\n",
    "\n",
    "import pypsa\n",
    "import pypsa.plot as bmplot\n",
    "\n",
    "%matplotlib inline"
   ]
  },
  {
   "cell_type": "code",
   "execution_count": 2,
   "metadata": {
    "collapsed": true
   },
   "outputs": [],
   "source": [
    "nw = pypsa.Network()\n",
    "\n",
    "cur_path = r\"C:\\Users\\janni\\OneDrive\\TU Berlin\\4 - Abschlussarbeiten\\01 - Bachelorarbeit\\modell\\data\\\\\"\n",
    "\n",
    "ex1 = pd.ExcelFile(cur_path + \"map_cities.xlsx\")\n",
    "ex2 = pd.ExcelFile(cur_path + \"map_countries.xlsx\")"
   ]
  },
  {
   "cell_type": "markdown",
   "metadata": {},
   "source": [
    "Load city- and country-buses"
   ]
  },
  {
   "cell_type": "code",
   "execution_count": 3,
   "metadata": {},
   "outputs": [],
   "source": [
    "df_cities = pd.read_excel(ex1, sheetname=\"buses\", header=0, parse_cols=\"B:D\")\n",
    "df_countries = pd.read_excel(ex2, sheetname=\"buses\", header=0, parse_cols=\"B:D\")\n",
    "df_buses = df_cities.append(df_countries).reset_index(drop=True)"
   ]
  },
  {
   "cell_type": "markdown",
   "metadata": {},
   "source": [
    "Load lines between buses"
   ]
  },
  {
   "cell_type": "code",
   "execution_count": 4,
   "metadata": {},
   "outputs": [],
   "source": [
    "df_cities_lines = pd.read_excel(ex1, sheetname=\"lines\", header=0, parse_cols=\"B:D\")\n",
    "df_countries_lines = pd.read_excel(ex2, sheetname=\"lines\", header=0, parse_cols=\"B:D\")\n",
    "df_lines = df_cities_lines.append(df_countries_lines).reset_index(drop=True)"
   ]
  },
  {
   "cell_type": "markdown",
   "metadata": {},
   "source": [
    "Calculating the length of each line by Pythagoras.\n",
    "The factor enables converting the distance in lattitude/longitude to kilometers"
   ]
  },
  {
   "cell_type": "code",
   "execution_count": 24,
   "metadata": {},
   "outputs": [],
   "source": [
    "df_lines[\"length\"] = 0\n",
    "factor_coords_to_km = 111\n",
    "\n",
    "for i in range(len(df_lines)):\n",
    "    x_val = df_buses[\"x\"][df_lines[\"bus0\"][i]] - df_buses[\"x\"][df_lines[\"bus1\"][i]]\n",
    "    y_val = df_buses[\"y\"][df_lines[\"bus0\"][i]] - df_buses[\"y\"][df_lines[\"bus1\"][i]]\n",
    "    df_lines.at[i, \"length\"] = (math.sqrt(x_val**2 + y_val**2) * factor_coords_to_km)"
   ]
  },
  {
   "cell_type": "code",
   "execution_count": null,
   "metadata": {
    "collapsed": true
   },
   "outputs": [],
   "source": [
    "pypsa.io.import_components_from_dataframe(nw, df_buses, \"Bus\")"
   ]
  },
  {
   "cell_type": "code",
   "execution_count": null,
   "metadata": {
    "collapsed": true
   },
   "outputs": [],
   "source": [
    "pypsa.io.import_components_from_dataframe(nw, df_lines, \"Line\")"
   ]
  },
  {
   "cell_type": "code",
   "execution_count": null,
   "metadata": {},
   "outputs": [],
   "source": [
    "fig,ax=plt.subplots(1,1)\n",
    "fig.set_size_inches(6,6)\n",
    "\n",
    "nw.plot(bus_sizes=20, title=\"Zweiter Test\")"
   ]
  }
 ],
 "metadata": {
  "kernelspec": {
   "display_name": "Python 3",
   "language": "python",
   "name": "python3"
  },
  "language_info": {
   "codemirror_mode": {
    "name": "ipython",
    "version": 3
   },
   "file_extension": ".py",
   "mimetype": "text/x-python",
   "name": "python",
   "nbconvert_exporter": "python",
   "pygments_lexer": "ipython3",
   "version": "3.6.3"
  }
 },
 "nbformat": 4,
 "nbformat_minor": 2
}
