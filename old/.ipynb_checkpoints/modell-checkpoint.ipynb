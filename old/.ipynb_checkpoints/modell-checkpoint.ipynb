{
 "cells": [
  {
   "cell_type": "markdown",
   "metadata": {},
   "source": [
    "# Modell zur Bachelorarbeit"
   ]
  },
  {
   "cell_type": "markdown",
   "metadata": {},
   "source": [
    "### Einrichtung"
   ]
  },
  {
   "cell_type": "code",
   "execution_count": 1,
   "metadata": {
    "collapsed": true
   },
   "outputs": [],
   "source": [
    "from __future__ import print_function, division\n",
    "import numpy as np\n",
    "import pandas as pd\n",
    "import matplotlib.pyplot as plt\n",
    "from datetime import datetime\n",
    "import math\n",
    "\n",
    "import pypsa\n",
    "import pypsa.plot as bmplot\n",
    "\n",
    "%matplotlib inline"
   ]
  },
  {
   "cell_type": "markdown",
   "metadata": {},
   "source": [
    "## Setup"
   ]
  },
  {
   "cell_type": "markdown",
   "metadata": {},
   "source": [
    "Einrichtung aller wichtigen Kompnenten und Einlesen der Daten\n",
    "\n",
    "Die jeweiligen Daten entstammen einer anderen Bachelorarbeit und werden über die von pandas zur Verfügung gestellten Funktionen aus Excel-Dateien eingelesen und als Dataframe gespeichert. Aus diesem werden dann wiederum nur die benötigten Werte verwendet."
   ]
  },
  {
   "cell_type": "markdown",
   "metadata": {},
   "source": [
    "### Variablen"
   ]
  },
  {
   "cell_type": "code",
   "execution_count": 2,
   "metadata": {
    "collapsed": true
   },
   "outputs": [],
   "source": [
    "nw = pypsa.Network()"
   ]
  },
  {
   "cell_type": "code",
   "execution_count": 3,
   "metadata": {
    "collapsed": true
   },
   "outputs": [],
   "source": [
    "dates = pd.date_range(\"2015-11-01T04:00:00Z\", periods=5, freq=\"4H\")\n",
    "\n",
    "nw.set_snapshots(dates)"
   ]
  },
  {
   "cell_type": "markdown",
   "metadata": {},
   "source": [
    "### Einlesen der Datenbanken"
   ]
  },
  {
   "cell_type": "code",
   "execution_count": 4,
   "metadata": {
    "collapsed": true
   },
   "outputs": [],
   "source": [
    "cur_path = r\"C:\\Users\\janni\\OneDrive\\TU Berlin\\4 - Abschlussarbeiten\\01 - Bachelorarbeit\\modell\\data\\\\\""
   ]
  },
  {
   "cell_type": "markdown",
   "metadata": {},
   "source": [
    "Zuerst werden die zur Verfügung gestellten Daten eingelesen, danach werden diese noch um einige benötigte Werte von Hand erweitert, die zur Durchführung des Unit Commitment nötig sind"
   ]
  },
  {
   "cell_type": "code",
   "execution_count": 5,
   "metadata": {
    "collapsed": true
   },
   "outputs": [],
   "source": [
    "gen_data = [pd.DataFrame for i in range(2)]\n",
    "ex = pd.ExcelFile(cur_path + \"Technische Daten Gaskraftwerke.xlsx\")\n",
    "\n",
    "for i in range(len(gen_data)):\n",
    "    # Extract last two columns from worksheet and only rows 5-13\n",
    "    gen_data[i] = ex.parse(i).iloc[4:12,[-2,-1]]\n",
    "    # Use values from first column as index\n",
    "    gen_data[i].index = gen_data[i].iloc[:,0]\n",
    "    # Delete column in the middle\n",
    "    gen_data[i] = gen_data[i].iloc[:, -1]\n",
    "    gen_data[i].set_value(\"committable\", True)"
   ]
  },
  {
   "cell_type": "code",
   "execution_count": 6,
   "metadata": {
    "collapsed": true
   },
   "outputs": [],
   "source": [
    "wind_data = pd.read_excel(cur_path + \"Stromlast und Windeinspeisung.xlsx\",\n",
    "                    sheet_name=\"Tabelle1\",\n",
    "                    header=3,\n",
    "                    index_col=0,\n",
    "                    parse_cols=\"A:F\")\n",
    "\n",
    "# Extract only the first day, every Xh\n",
    "intervall = 16\n",
    "wind_data_modell = wind_data.iloc[intervall::intervall,[0,1]].head((96//intervall)-1)"
   ]
  },
  {
   "cell_type": "markdown",
   "metadata": {},
   "source": [
    "### Temporary Additional code\n",
    "### ================================================"
   ]
  },
  {
   "cell_type": "code",
   "execution_count": 7,
   "metadata": {
    "collapsed": true
   },
   "outputs": [],
   "source": [
    "filenames = [\"vertices\", \"lines\", \"loads_modell\"]\n",
    "units = [\"Bus\", \"Line\", \"Load\"]\n",
    "components = [pd.DataFrame for i in range(len(filenames))]"
   ]
  },
  {
   "cell_type": "code",
   "execution_count": 8,
   "metadata": {
    "collapsed": true
   },
   "outputs": [],
   "source": [
    "for i in range(len(components)):\n",
    "    components[i] = pd.read_csv(cur_path + filenames[i] + \".csv\")\n",
    "    components[i].fillna(0,inplace=True)\n",
    "\n",
    "components[1].rename(columns={\"wid\":\"x\",\"len\":\"length\",\"cap\":\"s_nom\"},inplace=True)"
   ]
  },
  {
   "cell_type": "code",
   "execution_count": 9,
   "metadata": {},
   "outputs": [
    {
     "data": {
      "text/html": [
       "<div>\n",
       "<style>\n",
       "    .dataframe thead tr:only-child th {\n",
       "        text-align: right;\n",
       "    }\n",
       "\n",
       "    .dataframe thead th {\n",
       "        text-align: left;\n",
       "    }\n",
       "\n",
       "    .dataframe tbody tr th {\n",
       "        vertical-align: top;\n",
       "    }\n",
       "</style>\n",
       "<table border=\"1\" class=\"dataframe\">\n",
       "  <thead>\n",
       "    <tr style=\"text-align: right;\">\n",
       "      <th></th>\n",
       "      <th>Last</th>\n",
       "      <th>Windeinspeisung Original</th>\n",
       "    </tr>\n",
       "    <tr>\n",
       "      <th>Datum, Zeit</th>\n",
       "      <th></th>\n",
       "      <th></th>\n",
       "    </tr>\n",
       "  </thead>\n",
       "  <tbody>\n",
       "    <tr>\n",
       "      <th>2015-11-01T04:00:00Z</th>\n",
       "      <td>5490.714286</td>\n",
       "      <td>6388</td>\n",
       "    </tr>\n",
       "    <tr>\n",
       "      <th>2015-11-01T08:00:00Z</th>\n",
       "      <td>6456.142857</td>\n",
       "      <td>5370</td>\n",
       "    </tr>\n",
       "    <tr>\n",
       "      <th>2015-11-01T12:00:00Z</th>\n",
       "      <td>6008.714286</td>\n",
       "      <td>4379</td>\n",
       "    </tr>\n",
       "    <tr>\n",
       "      <th>2015-11-01T16:00:00Z</th>\n",
       "      <td>7076.857143</td>\n",
       "      <td>5165</td>\n",
       "    </tr>\n",
       "    <tr>\n",
       "      <th>2015-11-01T20:00:00Z</th>\n",
       "      <td>6916.000000</td>\n",
       "      <td>8393</td>\n",
       "    </tr>\n",
       "  </tbody>\n",
       "</table>\n",
       "</div>"
      ],
      "text/plain": [
       "                             Last  Windeinspeisung Original\n",
       "Datum, Zeit                                                \n",
       "2015-11-01T04:00:00Z  5490.714286                      6388\n",
       "2015-11-01T08:00:00Z  6456.142857                      5370\n",
       "2015-11-01T12:00:00Z  6008.714286                      4379\n",
       "2015-11-01T16:00:00Z  7076.857143                      5165\n",
       "2015-11-01T20:00:00Z  6916.000000                      8393"
      ]
     },
     "execution_count": 9,
     "metadata": {},
     "output_type": "execute_result"
    }
   ],
   "source": [
    "wind_data_modell[\"Last\"] = wind_data_modell[\"Last\"]/7\n",
    "gen_data[1][1] = gen_data[1][1]*3\n",
    "wind_data_modell"
   ]
  },
  {
   "cell_type": "markdown",
   "metadata": {},
   "source": [
    "### ================================================"
   ]
  },
  {
   "cell_type": "markdown",
   "metadata": {},
   "source": [
    "Einlesen der als *.csv gespeicherten Daten in ein pandas DataFrame, alle NaN werden durch 0 ersetzt"
   ]
  },
  {
   "cell_type": "code",
   "execution_count": 10,
   "metadata": {
    "collapsed": true
   },
   "outputs": [],
   "source": [
    "for i in range(len(components)):\n",
    "    components[i] = pd.read_csv(cur_path + filenames[i] + \".csv\")\n",
    "    components[i].fillna(0,inplace=True)"
   ]
  },
  {
   "cell_type": "code",
   "execution_count": 11,
   "metadata": {
    "collapsed": true
   },
   "outputs": [],
   "source": [
    "components[1].rename(columns={\"wid\":\"x\",\"len\":\"length\",\"cap\":\"s_nom\"},inplace=True)\n",
    "components[2].rename(columns={\"marg. Cost\":\"marginal_cost\",\"min power\":\"p_min_pu\",\"startup costs\":\"start_up_cost\",\"nom power\":\"p_nom\"},inplace=True)"
   ]
  },
  {
   "cell_type": "markdown",
   "metadata": {},
   "source": [
    "Uebertragen der Daten von pandas in das Netzwerk"
   ]
  },
  {
   "cell_type": "code",
   "execution_count": 12,
   "metadata": {
    "collapsed": true
   },
   "outputs": [],
   "source": [
    "for i in range(len(components)):\n",
    "    pypsa.io.import_components_from_dataframe(nw, components[i], units[i])"
   ]
  },
  {
   "cell_type": "code",
   "execution_count": 13,
   "metadata": {},
   "outputs": [
    {
     "data": {
      "text/html": [
       "<div>\n",
       "<style>\n",
       "    .dataframe thead tr:only-child th {\n",
       "        text-align: right;\n",
       "    }\n",
       "\n",
       "    .dataframe thead th {\n",
       "        text-align: left;\n",
       "    }\n",
       "\n",
       "    .dataframe tbody tr th {\n",
       "        vertical-align: top;\n",
       "    }\n",
       "</style>\n",
       "<table border=\"1\" class=\"dataframe\">\n",
       "  <thead>\n",
       "    <tr style=\"text-align: right;\">\n",
       "      <th></th>\n",
       "      <th>Last</th>\n",
       "      <th>Windeinspeisung Original</th>\n",
       "    </tr>\n",
       "    <tr>\n",
       "      <th>Datum, Zeit</th>\n",
       "      <th></th>\n",
       "      <th></th>\n",
       "    </tr>\n",
       "  </thead>\n",
       "  <tbody>\n",
       "    <tr>\n",
       "      <th>2015-11-01T04:00:00Z</th>\n",
       "      <td>5490.714286</td>\n",
       "      <td>6388</td>\n",
       "    </tr>\n",
       "    <tr>\n",
       "      <th>2015-11-01T08:00:00Z</th>\n",
       "      <td>6456.142857</td>\n",
       "      <td>5370</td>\n",
       "    </tr>\n",
       "    <tr>\n",
       "      <th>2015-11-01T12:00:00Z</th>\n",
       "      <td>6008.714286</td>\n",
       "      <td>4379</td>\n",
       "    </tr>\n",
       "    <tr>\n",
       "      <th>2015-11-01T16:00:00Z</th>\n",
       "      <td>7076.857143</td>\n",
       "      <td>5165</td>\n",
       "    </tr>\n",
       "    <tr>\n",
       "      <th>2015-11-01T20:00:00Z</th>\n",
       "      <td>6916.000000</td>\n",
       "      <td>8393</td>\n",
       "    </tr>\n",
       "  </tbody>\n",
       "</table>\n",
       "</div>"
      ],
      "text/plain": [
       "                             Last  Windeinspeisung Original\n",
       "Datum, Zeit                                                \n",
       "2015-11-01T04:00:00Z  5490.714286                      6388\n",
       "2015-11-01T08:00:00Z  6456.142857                      5370\n",
       "2015-11-01T12:00:00Z  6008.714286                      4379\n",
       "2015-11-01T16:00:00Z  7076.857143                      5165\n",
       "2015-11-01T20:00:00Z  6916.000000                      8393"
      ]
     },
     "execution_count": 13,
     "metadata": {},
     "output_type": "execute_result"
    }
   ],
   "source": [
    "wind_data_modell"
   ]
  },
  {
   "cell_type": "markdown",
   "metadata": {},
   "source": [
    "Einlesen der Werte pro Zeitintervall"
   ]
  },
  {
   "cell_type": "code",
   "execution_count": 14,
   "metadata": {},
   "outputs": [],
   "source": [
    "temp_df = pd.DataFrame({\"0\":wind_data_modell[\"Windeinspeisung Original\"]})\n",
    "temp_df.index = nw.snapshots\n",
    "#nw.import_series_from_dataframe(temp_df, \"Generator\", \"p_nom\")"
   ]
  },
  {
   "cell_type": "code",
   "execution_count": 15,
   "metadata": {
    "collapsed": true
   },
   "outputs": [],
   "source": [
    "temp_df = pd.DataFrame({\"0\":wind_data_modell[\"Last\"]})\n",
    "temp_df.index = nw.snapshots\n",
    "temp_df\n",
    "nw.import_series_from_dataframe(temp_df, \"Load\", \"p_set\")"
   ]
  },
  {
   "cell_type": "code",
   "execution_count": 16,
   "metadata": {},
   "outputs": [],
   "source": [
    "temp_df = pd.DataFrame({1:gen_data[0], 2:gen_data[1]})"
   ]
  },
  {
   "cell_type": "code",
   "execution_count": 17,
   "metadata": {
    "collapsed": true
   },
   "outputs": [],
   "source": [
    "pypsa.io.import_components_from_dataframe(nw, temp_df.T, \"Generator\")"
   ]
  },
  {
   "cell_type": "markdown",
   "metadata": {},
   "source": [
    "### ================================================"
   ]
  },
  {
   "cell_type": "code",
   "execution_count": 18,
   "metadata": {
    "scrolled": true
   },
   "outputs": [
    {
     "data": {
      "text/html": [
       "<div>\n",
       "<style>\n",
       "    .dataframe thead tr:only-child th {\n",
       "        text-align: right;\n",
       "    }\n",
       "\n",
       "    .dataframe thead th {\n",
       "        text-align: left;\n",
       "    }\n",
       "\n",
       "    .dataframe tbody tr th {\n",
       "        vertical-align: top;\n",
       "    }\n",
       "</style>\n",
       "<table border=\"1\" class=\"dataframe\">\n",
       "  <thead>\n",
       "    <tr style=\"text-align: right;\">\n",
       "      <th></th>\n",
       "      <th>Unnamed: 3</th>\n",
       "      <th>carrier</th>\n",
       "      <th>control</th>\n",
       "      <th>name</th>\n",
       "      <th>sub_network</th>\n",
       "      <th>type</th>\n",
       "      <th>v_mag_pu_max</th>\n",
       "      <th>v_mag_pu_min</th>\n",
       "      <th>v_mag_pu_set</th>\n",
       "      <th>v_nom</th>\n",
       "      <th>x</th>\n",
       "      <th>y</th>\n",
       "    </tr>\n",
       "  </thead>\n",
       "  <tbody>\n",
       "    <tr>\n",
       "      <th>0</th>\n",
       "      <td>0.0</td>\n",
       "      <td>AC</td>\n",
       "      <td>PQ</td>\n",
       "      <td>mybus0</td>\n",
       "      <td></td>\n",
       "      <td></td>\n",
       "      <td>inf</td>\n",
       "      <td>0.0</td>\n",
       "      <td>1.0</td>\n",
       "      <td>1.0</td>\n",
       "      <td>50.0</td>\n",
       "      <td>10.0</td>\n",
       "    </tr>\n",
       "    <tr>\n",
       "      <th>1</th>\n",
       "      <td>0.0</td>\n",
       "      <td>AC</td>\n",
       "      <td>PQ</td>\n",
       "      <td>mybus1</td>\n",
       "      <td></td>\n",
       "      <td></td>\n",
       "      <td>inf</td>\n",
       "      <td>0.0</td>\n",
       "      <td>1.0</td>\n",
       "      <td>1.0</td>\n",
       "      <td>70.0</td>\n",
       "      <td>10.0</td>\n",
       "    </tr>\n",
       "    <tr>\n",
       "      <th>2</th>\n",
       "      <td>0.0</td>\n",
       "      <td>AC</td>\n",
       "      <td>PQ</td>\n",
       "      <td>mybus2</td>\n",
       "      <td></td>\n",
       "      <td></td>\n",
       "      <td>inf</td>\n",
       "      <td>0.0</td>\n",
       "      <td>1.0</td>\n",
       "      <td>1.0</td>\n",
       "      <td>60.0</td>\n",
       "      <td>40.0</td>\n",
       "    </tr>\n",
       "    <tr>\n",
       "      <th>3</th>\n",
       "      <td>0.0</td>\n",
       "      <td>AC</td>\n",
       "      <td>PQ</td>\n",
       "      <td>northsea0</td>\n",
       "      <td></td>\n",
       "      <td></td>\n",
       "      <td>inf</td>\n",
       "      <td>0.0</td>\n",
       "      <td>1.0</td>\n",
       "      <td>1.0</td>\n",
       "      <td>60.0</td>\n",
       "      <td>80.0</td>\n",
       "    </tr>\n",
       "  </tbody>\n",
       "</table>\n",
       "</div>"
      ],
      "text/plain": [
       "   Unnamed: 3 carrier control       name sub_network type  v_mag_pu_max  \\\n",
       "0         0.0      AC      PQ     mybus0                            inf   \n",
       "1         0.0      AC      PQ     mybus1                            inf   \n",
       "2         0.0      AC      PQ     mybus2                            inf   \n",
       "3         0.0      AC      PQ  northsea0                            inf   \n",
       "\n",
       "   v_mag_pu_min  v_mag_pu_set  v_nom     x     y  \n",
       "0           0.0           1.0    1.0  50.0  10.0  \n",
       "1           0.0           1.0    1.0  70.0  10.0  \n",
       "2           0.0           1.0    1.0  60.0  40.0  \n",
       "3           0.0           1.0    1.0  60.0  80.0  "
      ]
     },
     "execution_count": 18,
     "metadata": {},
     "output_type": "execute_result"
    }
   ],
   "source": [
    "nw.buses"
   ]
  },
  {
   "cell_type": "code",
   "execution_count": 19,
   "metadata": {},
   "outputs": [
    {
     "data": {
      "text/html": [
       "<div>\n",
       "<style>\n",
       "    .dataframe thead tr:only-child th {\n",
       "        text-align: right;\n",
       "    }\n",
       "\n",
       "    .dataframe thead th {\n",
       "        text-align: left;\n",
       "    }\n",
       "\n",
       "    .dataframe tbody tr th {\n",
       "        vertical-align: top;\n",
       "    }\n",
       "</style>\n",
       "<table border=\"1\" class=\"dataframe\">\n",
       "  <thead>\n",
       "    <tr style=\"text-align: right;\">\n",
       "      <th></th>\n",
       "      <th>b</th>\n",
       "      <th>b_pu</th>\n",
       "      <th>bus0</th>\n",
       "      <th>bus1</th>\n",
       "      <th>capital_cost</th>\n",
       "      <th>g</th>\n",
       "      <th>g_pu</th>\n",
       "      <th>id</th>\n",
       "      <th>length</th>\n",
       "      <th>name</th>\n",
       "      <th>...</th>\n",
       "      <th>s_nom_max</th>\n",
       "      <th>s_nom_min</th>\n",
       "      <th>s_nom_opt</th>\n",
       "      <th>sub_network</th>\n",
       "      <th>terrain_factor</th>\n",
       "      <th>type</th>\n",
       "      <th>v_ang_max</th>\n",
       "      <th>v_ang_min</th>\n",
       "      <th>x</th>\n",
       "      <th>x_pu</th>\n",
       "    </tr>\n",
       "  </thead>\n",
       "  <tbody>\n",
       "    <tr>\n",
       "      <th>0</th>\n",
       "      <td>0.0</td>\n",
       "      <td>0.0</td>\n",
       "      <td>0</td>\n",
       "      <td>1</td>\n",
       "      <td>0.0</td>\n",
       "      <td>0.0</td>\n",
       "      <td>0.0</td>\n",
       "      <td>0.0</td>\n",
       "      <td>40.0</td>\n",
       "      <td>myline0</td>\n",
       "      <td>...</td>\n",
       "      <td>inf</td>\n",
       "      <td>0.0</td>\n",
       "      <td>0.0</td>\n",
       "      <td></td>\n",
       "      <td>1.0</td>\n",
       "      <td></td>\n",
       "      <td>inf</td>\n",
       "      <td>-inf</td>\n",
       "      <td>0.0001</td>\n",
       "      <td>0.0</td>\n",
       "    </tr>\n",
       "    <tr>\n",
       "      <th>1</th>\n",
       "      <td>0.0</td>\n",
       "      <td>0.0</td>\n",
       "      <td>1</td>\n",
       "      <td>2</td>\n",
       "      <td>0.0</td>\n",
       "      <td>0.0</td>\n",
       "      <td>0.0</td>\n",
       "      <td>1.0</td>\n",
       "      <td>31.6</td>\n",
       "      <td>myline1</td>\n",
       "      <td>...</td>\n",
       "      <td>inf</td>\n",
       "      <td>0.0</td>\n",
       "      <td>0.0</td>\n",
       "      <td></td>\n",
       "      <td>1.0</td>\n",
       "      <td></td>\n",
       "      <td>inf</td>\n",
       "      <td>-inf</td>\n",
       "      <td>0.0001</td>\n",
       "      <td>0.0</td>\n",
       "    </tr>\n",
       "    <tr>\n",
       "      <th>2</th>\n",
       "      <td>0.0</td>\n",
       "      <td>0.0</td>\n",
       "      <td>2</td>\n",
       "      <td>0</td>\n",
       "      <td>0.0</td>\n",
       "      <td>0.0</td>\n",
       "      <td>0.0</td>\n",
       "      <td>2.0</td>\n",
       "      <td>31.6</td>\n",
       "      <td>myline2</td>\n",
       "      <td>...</td>\n",
       "      <td>inf</td>\n",
       "      <td>0.0</td>\n",
       "      <td>0.0</td>\n",
       "      <td></td>\n",
       "      <td>1.0</td>\n",
       "      <td></td>\n",
       "      <td>inf</td>\n",
       "      <td>-inf</td>\n",
       "      <td>0.0001</td>\n",
       "      <td>0.0</td>\n",
       "    </tr>\n",
       "    <tr>\n",
       "      <th>3</th>\n",
       "      <td>0.0</td>\n",
       "      <td>0.0</td>\n",
       "      <td>3</td>\n",
       "      <td>2</td>\n",
       "      <td>0.0</td>\n",
       "      <td>0.0</td>\n",
       "      <td>0.0</td>\n",
       "      <td>3.0</td>\n",
       "      <td>40.0</td>\n",
       "      <td>offshoreline</td>\n",
       "      <td>...</td>\n",
       "      <td>inf</td>\n",
       "      <td>0.0</td>\n",
       "      <td>0.0</td>\n",
       "      <td></td>\n",
       "      <td>1.0</td>\n",
       "      <td></td>\n",
       "      <td>inf</td>\n",
       "      <td>-inf</td>\n",
       "      <td>0.0001</td>\n",
       "      <td>0.0</td>\n",
       "    </tr>\n",
       "  </tbody>\n",
       "</table>\n",
       "<p>4 rows × 26 columns</p>\n",
       "</div>"
      ],
      "text/plain": [
       "     b  b_pu bus0 bus1  capital_cost    g  g_pu   id  length          name  \\\n",
       "0  0.0   0.0    0    1           0.0  0.0   0.0  0.0    40.0       myline0   \n",
       "1  0.0   0.0    1    2           0.0  0.0   0.0  1.0    31.6       myline1   \n",
       "2  0.0   0.0    2    0           0.0  0.0   0.0  2.0    31.6       myline2   \n",
       "3  0.0   0.0    3    2           0.0  0.0   0.0  3.0    40.0  offshoreline   \n",
       "\n",
       "  ...   s_nom_max  s_nom_min  s_nom_opt  sub_network  terrain_factor  type  \\\n",
       "0 ...         inf        0.0        0.0                          1.0         \n",
       "1 ...         inf        0.0        0.0                          1.0         \n",
       "2 ...         inf        0.0        0.0                          1.0         \n",
       "3 ...         inf        0.0        0.0                          1.0         \n",
       "\n",
       "   v_ang_max  v_ang_min       x x_pu  \n",
       "0        inf       -inf  0.0001  0.0  \n",
       "1        inf       -inf  0.0001  0.0  \n",
       "2        inf       -inf  0.0001  0.0  \n",
       "3        inf       -inf  0.0001  0.0  \n",
       "\n",
       "[4 rows x 26 columns]"
      ]
     },
     "execution_count": 19,
     "metadata": {},
     "output_type": "execute_result"
    }
   ],
   "source": [
    "nw.lines"
   ]
  },
  {
   "cell_type": "code",
   "execution_count": 20,
   "metadata": {},
   "outputs": [
    {
     "data": {
      "text/html": [
       "<div>\n",
       "<style>\n",
       "    .dataframe thead tr:only-child th {\n",
       "        text-align: right;\n",
       "    }\n",
       "\n",
       "    .dataframe thead th {\n",
       "        text-align: left;\n",
       "    }\n",
       "\n",
       "    .dataframe tbody tr th {\n",
       "        vertical-align: top;\n",
       "    }\n",
       "</style>\n",
       "<table border=\"1\" class=\"dataframe\">\n",
       "  <thead>\n",
       "    <tr style=\"text-align: right;\">\n",
       "      <th></th>\n",
       "      <th>bus</th>\n",
       "      <th>capital_cost</th>\n",
       "      <th>carrier</th>\n",
       "      <th>committable</th>\n",
       "      <th>control</th>\n",
       "      <th>efficiency</th>\n",
       "      <th>initial_status</th>\n",
       "      <th>marginal_cost</th>\n",
       "      <th>min_down_time</th>\n",
       "      <th>min_up_time</th>\n",
       "      <th>...</th>\n",
       "      <th>p_set</th>\n",
       "      <th>q_set</th>\n",
       "      <th>ramp_limit_down</th>\n",
       "      <th>ramp_limit_shut_down</th>\n",
       "      <th>ramp_limit_start_up</th>\n",
       "      <th>ramp_limit_up</th>\n",
       "      <th>shut_down_cost</th>\n",
       "      <th>sign</th>\n",
       "      <th>start_up_cost</th>\n",
       "      <th>type</th>\n",
       "    </tr>\n",
       "  </thead>\n",
       "  <tbody>\n",
       "    <tr>\n",
       "      <th>1</th>\n",
       "      <td>2</td>\n",
       "      <td>0.0</td>\n",
       "      <td>gas</td>\n",
       "      <td>True</td>\n",
       "      <td>PQ</td>\n",
       "      <td>0.60390</td>\n",
       "      <td>1</td>\n",
       "      <td>0.0</td>\n",
       "      <td>0</td>\n",
       "      <td>0</td>\n",
       "      <td>...</td>\n",
       "      <td>0.0</td>\n",
       "      <td>0.0</td>\n",
       "      <td>35.0</td>\n",
       "      <td>1.0</td>\n",
       "      <td>1.0</td>\n",
       "      <td>35.0</td>\n",
       "      <td>0.0</td>\n",
       "      <td>1.0</td>\n",
       "      <td>0.0</td>\n",
       "      <td></td>\n",
       "    </tr>\n",
       "    <tr>\n",
       "      <th>2</th>\n",
       "      <td>1</td>\n",
       "      <td>0.0</td>\n",
       "      <td>gas</td>\n",
       "      <td>True</td>\n",
       "      <td>PQ</td>\n",
       "      <td>0.35657</td>\n",
       "      <td>1</td>\n",
       "      <td>0.0</td>\n",
       "      <td>0</td>\n",
       "      <td>0</td>\n",
       "      <td>...</td>\n",
       "      <td>0.0</td>\n",
       "      <td>0.0</td>\n",
       "      <td>10.0</td>\n",
       "      <td>1.0</td>\n",
       "      <td>1.0</td>\n",
       "      <td>10.0</td>\n",
       "      <td>0.0</td>\n",
       "      <td>1.0</td>\n",
       "      <td>0.0</td>\n",
       "      <td></td>\n",
       "    </tr>\n",
       "  </tbody>\n",
       "</table>\n",
       "<p>2 rows × 29 columns</p>\n",
       "</div>"
      ],
      "text/plain": [
       "  bus  capital_cost carrier  committable control  efficiency  initial_status  \\\n",
       "1   2           0.0     gas         True      PQ     0.60390               1   \n",
       "2   1           0.0     gas         True      PQ     0.35657               1   \n",
       "\n",
       "   marginal_cost  min_down_time  min_up_time  ...  p_set  q_set  \\\n",
       "1            0.0              0            0  ...    0.0    0.0   \n",
       "2            0.0              0            0  ...    0.0    0.0   \n",
       "\n",
       "  ramp_limit_down  ramp_limit_shut_down  ramp_limit_start_up  ramp_limit_up  \\\n",
       "1            35.0                   1.0                  1.0           35.0   \n",
       "2            10.0                   1.0                  1.0           10.0   \n",
       "\n",
       "   shut_down_cost  sign  start_up_cost  type  \n",
       "1             0.0   1.0            0.0        \n",
       "2             0.0   1.0            0.0        \n",
       "\n",
       "[2 rows x 29 columns]"
      ]
     },
     "execution_count": 20,
     "metadata": {},
     "output_type": "execute_result"
    }
   ],
   "source": [
    "nw.generators"
   ]
  },
  {
   "cell_type": "code",
   "execution_count": 24,
   "metadata": {},
   "outputs": [
    {
     "data": {
      "text/plain": [
       "{'p': Empty DataFrame\n",
       " Columns: []\n",
       " Index: [2015-11-01 04:00:00+00:00, 2015-11-01 08:00:00+00:00, 2015-11-01 12:00:00+00:00, 2015-11-01 16:00:00+00:00, 2015-11-01 20:00:00+00:00],\n",
       " 'p_set':                             0\n",
       " 2015-11-01 04:00:00+00:00 NaN\n",
       " 2015-11-01 08:00:00+00:00 NaN\n",
       " 2015-11-01 12:00:00+00:00 NaN\n",
       " 2015-11-01 16:00:00+00:00 NaN\n",
       " 2015-11-01 20:00:00+00:00 NaN,\n",
       " 'q': Empty DataFrame\n",
       " Columns: []\n",
       " Index: [2015-11-01 04:00:00+00:00, 2015-11-01 08:00:00+00:00, 2015-11-01 12:00:00+00:00, 2015-11-01 16:00:00+00:00, 2015-11-01 20:00:00+00:00],\n",
       " 'q_set': Empty DataFrame\n",
       " Columns: []\n",
       " Index: [2015-11-01 04:00:00+00:00, 2015-11-01 08:00:00+00:00, 2015-11-01 12:00:00+00:00, 2015-11-01 16:00:00+00:00, 2015-11-01 20:00:00+00:00]}"
      ]
     },
     "execution_count": 24,
     "metadata": {},
     "output_type": "execute_result"
    }
   ],
   "source": [
    "nw.loads_t"
   ]
  },
  {
   "cell_type": "markdown",
   "metadata": {},
   "source": [
    "### ================================================"
   ]
  },
  {
   "cell_type": "markdown",
   "metadata": {},
   "source": [
    "## Optimierung"
   ]
  },
  {
   "cell_type": "code",
   "execution_count": 22,
   "metadata": {},
   "outputs": [
    {
     "name": "stderr",
     "output_type": "stream",
     "text": [
      "INFO:pypsa.pf:Slack bus for sub-network 0 is 2\n",
      "INFO:pypsa.opf:Performed preliminary steps\n",
      "INFO:pypsa.opf:Building pyomo model using `angles` formulation\n",
      "INFO:pypsa.opf:Solving model using glpk\n"
     ]
    },
    {
     "ename": "AssertionError",
     "evalue": "",
     "output_type": "error",
     "traceback": [
      "\u001b[1;31m---------------------------------------------------------------------------\u001b[0m",
      "\u001b[1;31mAssertionError\u001b[0m                            Traceback (most recent call last)",
      "\u001b[1;32m<ipython-input-22-033121711182>\u001b[0m in \u001b[0;36m<module>\u001b[1;34m()\u001b[0m\n\u001b[1;32m----> 1\u001b[1;33m \u001b[0mnw\u001b[0m\u001b[1;33m.\u001b[0m\u001b[0mlopf\u001b[0m\u001b[1;33m(\u001b[0m\u001b[1;33m)\u001b[0m\u001b[1;33m\u001b[0m\u001b[0m\n\u001b[0m",
      "\u001b[1;32m~\\Anaconda3\\lib\\site-packages\\pypsa\\opf.py\u001b[0m in \u001b[0;36mnetwork_lopf\u001b[1;34m(network, snapshots, solver_name, solver_io, skip_pre, extra_functionality, solver_options, keep_files, formulation, ptdf_tolerance, free_memory)\u001b[0m\n\u001b[0;32m   1483\u001b[0m     \u001b[0mnetwork_lopf_prepare_solver\u001b[0m\u001b[1;33m(\u001b[0m\u001b[0mnetwork\u001b[0m\u001b[1;33m,\u001b[0m \u001b[0msolver_name\u001b[0m\u001b[1;33m=\u001b[0m\u001b[0msolver_name\u001b[0m\u001b[1;33m,\u001b[0m \u001b[0msolver_io\u001b[0m\u001b[1;33m=\u001b[0m\u001b[0msolver_io\u001b[0m\u001b[1;33m)\u001b[0m\u001b[1;33m\u001b[0m\u001b[0m\n\u001b[0;32m   1484\u001b[0m \u001b[1;33m\u001b[0m\u001b[0m\n\u001b[1;32m-> 1485\u001b[1;33m     \u001b[1;32mreturn\u001b[0m \u001b[0mnetwork_lopf_solve\u001b[0m\u001b[1;33m(\u001b[0m\u001b[0mnetwork\u001b[0m\u001b[1;33m,\u001b[0m \u001b[0msnapshots\u001b[0m\u001b[1;33m,\u001b[0m \u001b[0mformulation\u001b[0m\u001b[1;33m=\u001b[0m\u001b[0mformulation\u001b[0m\u001b[1;33m,\u001b[0m \u001b[0msolver_options\u001b[0m\u001b[1;33m=\u001b[0m\u001b[0msolver_options\u001b[0m\u001b[1;33m,\u001b[0m \u001b[0mkeep_files\u001b[0m\u001b[1;33m=\u001b[0m\u001b[0mkeep_files\u001b[0m\u001b[1;33m,\u001b[0m \u001b[0mfree_memory\u001b[0m\u001b[1;33m=\u001b[0m\u001b[0mfree_memory\u001b[0m\u001b[1;33m)\u001b[0m\u001b[1;33m\u001b[0m\u001b[0m\n\u001b[0m",
      "\u001b[1;32m~\\Anaconda3\\lib\\site-packages\\pypsa\\opf.py\u001b[0m in \u001b[0;36mnetwork_lopf_solve\u001b[1;34m(network, snapshots, formulation, solver_options, keep_files, free_memory)\u001b[0m\n\u001b[0;32m   1408\u001b[0m             \u001b[0mnetwork\u001b[0m\u001b[1;33m.\u001b[0m\u001b[0mresults\u001b[0m \u001b[1;33m=\u001b[0m \u001b[0mnetwork\u001b[0m\u001b[1;33m.\u001b[0m\u001b[0mopt\u001b[0m\u001b[1;33m.\u001b[0m\u001b[0msolve\u001b[0m\u001b[1;33m(\u001b[0m\u001b[1;33m*\u001b[0m\u001b[0margs\u001b[0m\u001b[1;33m,\u001b[0m \u001b[0msuffixes\u001b[0m\u001b[1;33m=\u001b[0m\u001b[1;33m[\u001b[0m\u001b[1;34m\"dual\"\u001b[0m\u001b[1;33m]\u001b[0m\u001b[1;33m,\u001b[0m \u001b[0mkeepfiles\u001b[0m\u001b[1;33m=\u001b[0m\u001b[0mkeep_files\u001b[0m\u001b[1;33m,\u001b[0m \u001b[0moptions\u001b[0m\u001b[1;33m=\u001b[0m\u001b[0msolver_options\u001b[0m\u001b[1;33m)\u001b[0m\u001b[1;33m\u001b[0m\u001b[0m\n\u001b[0;32m   1409\u001b[0m     \u001b[1;32melse\u001b[0m\u001b[1;33m:\u001b[0m\u001b[1;33m\u001b[0m\u001b[0m\n\u001b[1;32m-> 1410\u001b[1;33m         \u001b[0mnetwork\u001b[0m\u001b[1;33m.\u001b[0m\u001b[0mresults\u001b[0m \u001b[1;33m=\u001b[0m \u001b[0mnetwork\u001b[0m\u001b[1;33m.\u001b[0m\u001b[0mopt\u001b[0m\u001b[1;33m.\u001b[0m\u001b[0msolve\u001b[0m\u001b[1;33m(\u001b[0m\u001b[1;33m*\u001b[0m\u001b[0margs\u001b[0m\u001b[1;33m,\u001b[0m \u001b[0msuffixes\u001b[0m\u001b[1;33m=\u001b[0m\u001b[1;33m[\u001b[0m\u001b[1;34m\"dual\"\u001b[0m\u001b[1;33m]\u001b[0m\u001b[1;33m,\u001b[0m \u001b[0mkeepfiles\u001b[0m\u001b[1;33m=\u001b[0m\u001b[0mkeep_files\u001b[0m\u001b[1;33m,\u001b[0m \u001b[0moptions\u001b[0m\u001b[1;33m=\u001b[0m\u001b[0msolver_options\u001b[0m\u001b[1;33m)\u001b[0m\u001b[1;33m\u001b[0m\u001b[0m\n\u001b[0m\u001b[0;32m   1411\u001b[0m \u001b[1;33m\u001b[0m\u001b[0m\n\u001b[0;32m   1412\u001b[0m     \u001b[1;32mif\u001b[0m \u001b[0mlogger\u001b[0m\u001b[1;33m.\u001b[0m\u001b[0misEnabledFor\u001b[0m\u001b[1;33m(\u001b[0m\u001b[0mlogging\u001b[0m\u001b[1;33m.\u001b[0m\u001b[0mINFO\u001b[0m\u001b[1;33m)\u001b[0m\u001b[1;33m:\u001b[0m\u001b[1;33m\u001b[0m\u001b[0m\n",
      "\u001b[1;32m~\\Anaconda3\\lib\\site-packages\\pyomo\\opt\\base\\solvers.py\u001b[0m in \u001b[0;36msolve\u001b[1;34m(self, *args, **kwds)\u001b[0m\n\u001b[0;32m    594\u001b[0m             \u001b[0minitial_time\u001b[0m \u001b[1;33m=\u001b[0m \u001b[0mtime\u001b[0m\u001b[1;33m.\u001b[0m\u001b[0mtime\u001b[0m\u001b[1;33m(\u001b[0m\u001b[1;33m)\u001b[0m\u001b[1;33m\u001b[0m\u001b[0m\n\u001b[0;32m    595\u001b[0m \u001b[1;33m\u001b[0m\u001b[0m\n\u001b[1;32m--> 596\u001b[1;33m             \u001b[0mself\u001b[0m\u001b[1;33m.\u001b[0m\u001b[0m_presolve\u001b[0m\u001b[1;33m(\u001b[0m\u001b[1;33m*\u001b[0m\u001b[0margs\u001b[0m\u001b[1;33m,\u001b[0m \u001b[1;33m**\u001b[0m\u001b[0mkwds\u001b[0m\u001b[1;33m)\u001b[0m\u001b[1;33m\u001b[0m\u001b[0m\n\u001b[0m\u001b[0;32m    597\u001b[0m \u001b[1;33m\u001b[0m\u001b[0m\n\u001b[0;32m    598\u001b[0m             \u001b[0mpresolve_completion_time\u001b[0m \u001b[1;33m=\u001b[0m \u001b[0mtime\u001b[0m\u001b[1;33m.\u001b[0m\u001b[0mtime\u001b[0m\u001b[1;33m(\u001b[0m\u001b[1;33m)\u001b[0m\u001b[1;33m\u001b[0m\u001b[0m\n",
      "\u001b[1;32m~\\Anaconda3\\lib\\site-packages\\pyomo\\opt\\solver\\shellcmd.py\u001b[0m in \u001b[0;36m_presolve\u001b[1;34m(self, *args, **kwds)\u001b[0m\n\u001b[0;32m    194\u001b[0m         \u001b[0mself\u001b[0m\u001b[1;33m.\u001b[0m\u001b[0m_keepfiles\u001b[0m \u001b[1;33m=\u001b[0m \u001b[0mkwds\u001b[0m\u001b[1;33m.\u001b[0m\u001b[0mpop\u001b[0m\u001b[1;33m(\u001b[0m\u001b[1;34m\"keepfiles\"\u001b[0m\u001b[1;33m,\u001b[0m \u001b[1;32mFalse\u001b[0m\u001b[1;33m)\u001b[0m\u001b[1;33m\u001b[0m\u001b[0m\n\u001b[0;32m    195\u001b[0m \u001b[1;33m\u001b[0m\u001b[0m\n\u001b[1;32m--> 196\u001b[1;33m         \u001b[0mOptSolver\u001b[0m\u001b[1;33m.\u001b[0m\u001b[0m_presolve\u001b[0m\u001b[1;33m(\u001b[0m\u001b[0mself\u001b[0m\u001b[1;33m,\u001b[0m \u001b[1;33m*\u001b[0m\u001b[0margs\u001b[0m\u001b[1;33m,\u001b[0m \u001b[1;33m**\u001b[0m\u001b[0mkwds\u001b[0m\u001b[1;33m)\u001b[0m\u001b[1;33m\u001b[0m\u001b[0m\n\u001b[0m\u001b[0;32m    197\u001b[0m \u001b[1;33m\u001b[0m\u001b[0m\n\u001b[0;32m    198\u001b[0m         \u001b[1;31m#\u001b[0m\u001b[1;33m\u001b[0m\u001b[1;33m\u001b[0m\u001b[0m\n",
      "\u001b[1;32m~\\Anaconda3\\lib\\site-packages\\pyomo\\opt\\base\\solvers.py\u001b[0m in \u001b[0;36m_presolve\u001b[1;34m(self, *args, **kwds)\u001b[0m\n\u001b[0;32m    691\u001b[0m                                       \u001b[0mself\u001b[0m\u001b[1;33m.\u001b[0m\u001b[0m_problem_format\u001b[0m\u001b[1;33m,\u001b[0m\u001b[1;33m\u001b[0m\u001b[0m\n\u001b[0;32m    692\u001b[0m                                       \u001b[0mself\u001b[0m\u001b[1;33m.\u001b[0m\u001b[0m_valid_problem_formats\u001b[0m\u001b[1;33m,\u001b[0m\u001b[1;33m\u001b[0m\u001b[0m\n\u001b[1;32m--> 693\u001b[1;33m                                       **kwds)\n\u001b[0m\u001b[0;32m    694\u001b[0m             \u001b[0mtotal_time\u001b[0m \u001b[1;33m=\u001b[0m \u001b[0mtime\u001b[0m\u001b[1;33m.\u001b[0m\u001b[0mtime\u001b[0m\u001b[1;33m(\u001b[0m\u001b[1;33m)\u001b[0m \u001b[1;33m-\u001b[0m \u001b[0mwrite_start_time\u001b[0m\u001b[1;33m\u001b[0m\u001b[0m\n\u001b[0;32m    695\u001b[0m             \u001b[1;32mif\u001b[0m \u001b[0mself\u001b[0m\u001b[1;33m.\u001b[0m\u001b[0m_report_timing\u001b[0m\u001b[1;33m:\u001b[0m\u001b[1;33m\u001b[0m\u001b[0m\n",
      "\u001b[1;32m~\\Anaconda3\\lib\\site-packages\\pyomo\\opt\\base\\solvers.py\u001b[0m in \u001b[0;36m_convert_problem\u001b[1;34m(self, args, problem_format, valid_problem_formats, **kwds)\u001b[0m\n\u001b[0;32m    762\u001b[0m                                \u001b[0mvalid_problem_formats\u001b[0m\u001b[1;33m,\u001b[0m\u001b[1;33m\u001b[0m\u001b[0m\n\u001b[0;32m    763\u001b[0m                                \u001b[0mself\u001b[0m\u001b[1;33m.\u001b[0m\u001b[0mhas_capability\u001b[0m\u001b[1;33m,\u001b[0m\u001b[1;33m\u001b[0m\u001b[0m\n\u001b[1;32m--> 764\u001b[1;33m                                **kwds)\n\u001b[0m\u001b[0;32m    765\u001b[0m \u001b[1;33m\u001b[0m\u001b[0m\n\u001b[0;32m    766\u001b[0m     \u001b[1;32mdef\u001b[0m \u001b[0m_default_results_format\u001b[0m\u001b[1;33m(\u001b[0m\u001b[0mself\u001b[0m\u001b[1;33m,\u001b[0m \u001b[0mprob_format\u001b[0m\u001b[1;33m)\u001b[0m\u001b[1;33m:\u001b[0m\u001b[1;33m\u001b[0m\u001b[0m\n",
      "\u001b[1;32m~\\Anaconda3\\lib\\site-packages\\pyomo\\opt\\base\\convert.py\u001b[0m in \u001b[0;36mconvert_problem\u001b[1;34m(args, target_problem_type, valid_problem_types, has_capability, **kwds)\u001b[0m\n\u001b[0;32m    108\u001b[0m                     \u001b[0mtmpkw\u001b[0m \u001b[1;33m=\u001b[0m \u001b[0mkwds\u001b[0m\u001b[1;33m\u001b[0m\u001b[0m\n\u001b[0;32m    109\u001b[0m                     \u001b[0mtmpkw\u001b[0m\u001b[1;33m[\u001b[0m\u001b[1;34m'capabilities'\u001b[0m\u001b[1;33m]\u001b[0m \u001b[1;33m=\u001b[0m \u001b[0mhas_capability\u001b[0m\u001b[1;33m\u001b[0m\u001b[0m\n\u001b[1;32m--> 110\u001b[1;33m                     \u001b[0mproblem_files\u001b[0m\u001b[1;33m,\u001b[0m \u001b[0msymbol_map\u001b[0m \u001b[1;33m=\u001b[0m \u001b[0mconverter\u001b[0m\u001b[1;33m.\u001b[0m\u001b[0mapply\u001b[0m\u001b[1;33m(\u001b[0m\u001b[1;33m*\u001b[0m\u001b[0mtmp\u001b[0m\u001b[1;33m,\u001b[0m \u001b[1;33m**\u001b[0m\u001b[0mtmpkw\u001b[0m\u001b[1;33m)\u001b[0m\u001b[1;33m\u001b[0m\u001b[0m\n\u001b[0m\u001b[0;32m    111\u001b[0m                     \u001b[1;32mreturn\u001b[0m \u001b[0mproblem_files\u001b[0m\u001b[1;33m,\u001b[0m \u001b[0mptype\u001b[0m\u001b[1;33m,\u001b[0m \u001b[0msymbol_map\u001b[0m\u001b[1;33m\u001b[0m\u001b[0m\n\u001b[0;32m    112\u001b[0m \u001b[1;33m\u001b[0m\u001b[0m\n",
      "\u001b[1;32m~\\Anaconda3\\lib\\site-packages\\pyomo\\solvers\\plugins\\converter\\model.py\u001b[0m in \u001b[0;36mapply\u001b[1;34m(self, *args, **kwds)\u001b[0m\n\u001b[0;32m     94\u001b[0m                             \u001b[0mformat\u001b[0m\u001b[1;33m=\u001b[0m\u001b[0mProblemFormat\u001b[0m\u001b[1;33m.\u001b[0m\u001b[0mcpxlp\u001b[0m\u001b[1;33m,\u001b[0m\u001b[1;33m\u001b[0m\u001b[0m\n\u001b[0;32m     95\u001b[0m                             \u001b[0msolver_capability\u001b[0m\u001b[1;33m=\u001b[0m\u001b[0mcapabilities\u001b[0m\u001b[1;33m,\u001b[0m\u001b[1;33m\u001b[0m\u001b[0m\n\u001b[1;32m---> 96\u001b[1;33m                             io_options=io_options)\n\u001b[0m\u001b[0;32m     97\u001b[0m                 \u001b[1;32mreturn\u001b[0m \u001b[1;33m(\u001b[0m\u001b[0mproblem_filename\u001b[0m\u001b[1;33m,\u001b[0m\u001b[1;33m)\u001b[0m\u001b[1;33m,\u001b[0m \u001b[0msymbol_map_id\u001b[0m\u001b[1;33m\u001b[0m\u001b[0m\n\u001b[0;32m     98\u001b[0m             \u001b[1;32melse\u001b[0m\u001b[1;33m:\u001b[0m\u001b[1;33m\u001b[0m\u001b[0m\n",
      "\u001b[1;32m~\\Anaconda3\\lib\\site-packages\\pyomo\\core\\base\\block.py\u001b[0m in \u001b[0;36mwrite\u001b[1;34m(self, filename, format, solver_capability, io_options)\u001b[0m\n\u001b[0;32m   1645\u001b[0m                                           \u001b[0mfilename\u001b[0m\u001b[1;33m,\u001b[0m\u001b[1;33m\u001b[0m\u001b[0m\n\u001b[0;32m   1646\u001b[0m                                           \u001b[0msolver_capability\u001b[0m\u001b[1;33m,\u001b[0m\u001b[1;33m\u001b[0m\u001b[0m\n\u001b[1;32m-> 1647\u001b[1;33m                                           io_options)\n\u001b[0m\u001b[0;32m   1648\u001b[0m         \u001b[0msmap_id\u001b[0m \u001b[1;33m=\u001b[0m \u001b[0mid\u001b[0m\u001b[1;33m(\u001b[0m\u001b[0msmap\u001b[0m\u001b[1;33m)\u001b[0m\u001b[1;33m\u001b[0m\u001b[0m\n\u001b[0;32m   1649\u001b[0m         \u001b[1;32mif\u001b[0m \u001b[1;32mnot\u001b[0m \u001b[0mhasattr\u001b[0m\u001b[1;33m(\u001b[0m\u001b[0mself\u001b[0m\u001b[1;33m,\u001b[0m \u001b[1;34m'solutions'\u001b[0m\u001b[1;33m)\u001b[0m\u001b[1;33m:\u001b[0m\u001b[1;33m\u001b[0m\u001b[0m\n",
      "\u001b[1;32m~\\Anaconda3\\lib\\site-packages\\pyomo\\repn\\plugins\\cpxlp.py\u001b[0m in \u001b[0;36m__call__\u001b[1;34m(self, model, output_filename, solver_capability, io_options)\u001b[0m\n\u001b[0;32m    174\u001b[0m                     \u001b[0mskip_trivial_constraints\u001b[0m\u001b[1;33m=\u001b[0m\u001b[0mskip_trivial_constraints\u001b[0m\u001b[1;33m,\u001b[0m\u001b[1;33m\u001b[0m\u001b[0m\n\u001b[0;32m    175\u001b[0m                     \u001b[0mforce_objective_constant\u001b[0m\u001b[1;33m=\u001b[0m\u001b[0mforce_objective_constant\u001b[0m\u001b[1;33m,\u001b[0m\u001b[1;33m\u001b[0m\u001b[0m\n\u001b[1;32m--> 176\u001b[1;33m                     include_all_variable_bounds=include_all_variable_bounds)\n\u001b[0m\u001b[0;32m    177\u001b[0m \u001b[1;33m\u001b[0m\u001b[0m\n\u001b[0;32m    178\u001b[0m         \u001b[0mself\u001b[0m\u001b[1;33m.\u001b[0m\u001b[0m_referenced_variable_ids\u001b[0m\u001b[1;33m.\u001b[0m\u001b[0mclear\u001b[0m\u001b[1;33m(\u001b[0m\u001b[1;33m)\u001b[0m\u001b[1;33m\u001b[0m\u001b[0m\n",
      "\u001b[1;32m~\\Anaconda3\\lib\\site-packages\\pyomo\\repn\\plugins\\cpxlp.py\u001b[0m in \u001b[0;36m_print_model_LP\u001b[1;34m(self, model, output_file, solver_capability, labeler, output_fixed_variable_bounds, file_determinism, row_order, column_order, skip_trivial_constraints, force_objective_constant, include_all_variable_bounds)\u001b[0m\n\u001b[0;32m    735\u001b[0m             \u001b[1;32mif\u001b[0m \u001b[0mconstraint_data\u001b[0m\u001b[1;33m.\u001b[0m\u001b[0mequality\u001b[0m\u001b[1;33m:\u001b[0m\u001b[1;33m\u001b[0m\u001b[0m\n\u001b[0;32m    736\u001b[0m                 \u001b[1;32massert\u001b[0m \u001b[0mvalue\u001b[0m\u001b[1;33m(\u001b[0m\u001b[0mconstraint_data\u001b[0m\u001b[1;33m.\u001b[0m\u001b[0mlower\u001b[0m\u001b[1;33m)\u001b[0m \u001b[1;33m==\u001b[0m\u001b[0;31m \u001b[0m\u001b[0;31m\\\u001b[0m\u001b[1;33m\u001b[0m\u001b[0m\n\u001b[1;32m--> 737\u001b[1;33m                     \u001b[0mvalue\u001b[0m\u001b[1;33m(\u001b[0m\u001b[0mconstraint_data\u001b[0m\u001b[1;33m.\u001b[0m\u001b[0mupper\u001b[0m\u001b[1;33m)\u001b[0m\u001b[1;33m\u001b[0m\u001b[0m\n\u001b[0m\u001b[0;32m    738\u001b[0m                 \u001b[0mlabel\u001b[0m \u001b[1;33m=\u001b[0m \u001b[1;34m'c_e_'\u001b[0m \u001b[1;33m+\u001b[0m \u001b[0mcon_symbol\u001b[0m \u001b[1;33m+\u001b[0m \u001b[1;34m'_'\u001b[0m\u001b[1;33m\u001b[0m\u001b[0m\n\u001b[0;32m    739\u001b[0m                 \u001b[0malias_symbol_func\u001b[0m\u001b[1;33m(\u001b[0m\u001b[0msymbol_map\u001b[0m\u001b[1;33m,\u001b[0m \u001b[0mconstraint_data\u001b[0m\u001b[1;33m,\u001b[0m \u001b[0mlabel\u001b[0m\u001b[1;33m)\u001b[0m\u001b[1;33m\u001b[0m\u001b[0m\n",
      "\u001b[1;31mAssertionError\u001b[0m: "
     ]
    }
   ],
   "source": [
    "nw.lopf()"
   ]
  },
  {
   "cell_type": "markdown",
   "metadata": {},
   "source": [
    "## Aufbereitung der Daten"
   ]
  },
  {
   "cell_type": "code",
   "execution_count": null,
   "metadata": {
    "collapsed": true
   },
   "outputs": [],
   "source": [
    "gen_outs = nw.generators_t.p\n",
    "caps_by_carrier = nw.generators.groupby(\"carrier\")[\"p_nom\"].sum()\n",
    "gen_pot_remaining = nw.generators.p_nom - gen_outs\n",
    "print(gen_outs)"
   ]
  },
  {
   "cell_type": "code",
   "execution_count": null,
   "metadata": {
    "collapsed": true
   },
   "outputs": [],
   "source": [
    "#dates = pd.date_range(\"2017-01-01\", periods=6, freq=\"4H\")\n",
    "#dates"
   ]
  },
  {
   "cell_type": "code",
   "execution_count": null,
   "metadata": {
    "collapsed": true
   },
   "outputs": [],
   "source": [
    "gen_pot_remaining"
   ]
  },
  {
   "cell_type": "markdown",
   "metadata": {},
   "source": [
    "## Visualization"
   ]
  },
  {
   "cell_type": "code",
   "execution_count": null,
   "metadata": {
    "collapsed": true
   },
   "outputs": [],
   "source": [
    "diag_rows = len(nw.generators)\n",
    "diag_cols = len(nw.snapshots)\n",
    "diag_inches = 4\n",
    "\n",
    "fig, axes = plt.subplots(nrows=diag_rows, ncols=diag_cols)\n",
    "fig.set_size_inches(diag_inches*diag_cols, diag_inches*diag_cols)\n",
    "\n",
    "for i in range(diag_rows):\n",
    "    for j in range(diag_cols):\n",
    "        perc_labels = [\"Available\", \"Dispatched\"]\n",
    "        sizes = [gen_pot_remaining.loc[dates[j],\"{0}\".format(i)],\n",
    "                 gen_outs.loc[dates[j],\"{0}\".format(i)]]\n",
    "        colors = [\"green\", \"blue\"]\n",
    "\n",
    "        axes[i,j].pie(sizes, labels=perc_labels, colors=colors, autopct=\"%1.1f%%\")\n",
    "        axes[i,j].axis(\"equal\")\n",
    "        axes[0,j].set_title(dates[j])\n",
    "        axes[i,0].set_ylabel(components[2][\"name\"][i])\n",
    "        plt.subplots_adjust(wspace=0.7, hspace=0.2)\n",
    "        #plt.pie(fig, labels=perc_labels, colors=colors, autopct=\"%1.1f%%\")\n",
    "        #plt.axis(\"equal\")"
   ]
  },
  {
   "cell_type": "code",
   "execution_count": null,
   "metadata": {
    "collapsed": true
   },
   "outputs": [],
   "source": [
    "workload_rows = len(nw.generators)\n",
    "workload_inches = 4\n",
    "\n",
    "# 3 columns to \n",
    "fig, axes = plt.subplots(nrows=math.ceil(workload_rows/3), ncols=3)\n",
    "fig.set_size_inches(diag_inches*diag_cols, diag_inches*diag_cols)"
   ]
  },
  {
   "cell_type": "markdown",
   "metadata": {},
   "source": [
    "Line graph to display the dispatched amount of energy per plant"
   ]
  },
  {
   "cell_type": "code",
   "execution_count": null,
   "metadata": {
    "collapsed": true
   },
   "outputs": [],
   "source": [
    "gen_plot = gen_outs.plot(kind=\"area\",grid=True)\n",
    "lines, labels = gen_plot.get_legend_handles_labels()\n",
    "gen_plot.legend(lines[:len(nw.generators)], components[2]['name'].values.tolist(), loc='best')\n",
    "plt.ylabel(\"MW\")"
   ]
  },
  {
   "cell_type": "markdown",
   "metadata": {},
   "source": [
    "network graph showing the distribution of buses etc."
   ]
  },
  {
   "cell_type": "code",
   "execution_count": null,
   "metadata": {
    "collapsed": true
   },
   "outputs": [],
   "source": [
    "bmplot.plot(nw, title=\"Aufbau Netz\")\n",
    "plt.xlim([0,120])\n",
    "plt.ylim([0,120])"
   ]
  }
 ],
 "metadata": {
  "kernelspec": {
   "display_name": "Python 3",
   "language": "python",
   "name": "python3"
  },
  "language_info": {
   "codemirror_mode": {
    "name": "ipython",
    "version": 3
   },
   "file_extension": ".py",
   "mimetype": "text/x-python",
   "name": "python",
   "nbconvert_exporter": "python",
   "pygments_lexer": "ipython3",
   "version": "3.6.3"
  }
 },
 "nbformat": 4,
 "nbformat_minor": 2
}
