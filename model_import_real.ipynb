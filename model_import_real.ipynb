{
 "cells": [
  {
   "cell_type": "markdown",
   "metadata": {},
   "source": [
    "# Import des Netzwerks für das Modell"
   ]
  },
  {
   "cell_type": "markdown",
   "metadata": {},
   "source": [
    "### Einrichtung"
   ]
  },
  {
   "cell_type": "code",
   "execution_count": 1,
   "metadata": {},
   "outputs": [],
   "source": [
    "from __future__ import print_function, division\n",
    "import numpy as np\n",
    "import pandas as pd\n",
    "import matplotlib.pyplot as plt\n",
    "from datetime import datetime\n",
    "import math\n",
    "\n",
    "import pypsa\n",
    "\n",
    "%matplotlib inline"
   ]
  },
  {
   "cell_type": "markdown",
   "metadata": {},
   "source": [
    "## Setup"
   ]
  },
  {
   "cell_type": "markdown",
   "metadata": {},
   "source": [
    "Einrichtung aller wichtigen Kompnenten und Einlesen der Daten\n",
    "\n",
    "Die jeweiligen Daten entstammen einer anderen Bachelorarbeit und werden über die von pandas zur Verfügung gestellten Funktionen aus Excel-Dateien eingelesen und als Dataframe gespeichert. Aus diesem werden dann wiederum nur die benötigten Werte verwendet."
   ]
  },
  {
   "cell_type": "markdown",
   "metadata": {},
   "source": [
    "### Variablen"
   ]
  },
  {
   "cell_type": "code",
   "execution_count": 2,
   "metadata": {},
   "outputs": [],
   "source": [
    "nw = pypsa.Network()"
   ]
  },
  {
   "cell_type": "code",
   "execution_count": 3,
   "metadata": {},
   "outputs": [],
   "source": [
    "# dates = pd.date_range(\"2015-11-01T04:00:00Z\", periods=5, freq=\"4H\")\n",
    "\n",
    "# nw.set_snapshots(dates)\n",
    "nw.set_snapshots([\"morgens\", \"mittags\", \"abends\"])"
   ]
  },
  {
   "cell_type": "code",
   "execution_count": 4,
   "metadata": {},
   "outputs": [],
   "source": [
    "cur_path = r\"C:\\Users\\janni\\OneDrive\\TU Berlin\\4 - Abschlussarbeiten\\01 - Bachelorarbeit\\modell\\data\\\\\""
   ]
  },
  {
   "cell_type": "markdown",
   "metadata": {},
   "source": [
    "### Einlesen der Datenbanken"
   ]
  },
  {
   "cell_type": "code",
   "execution_count": 5,
   "metadata": {},
   "outputs": [],
   "source": [
    "ex1 = pd.ExcelFile(cur_path + \"map_cities.xlsx\")\n",
    "ex2 = pd.ExcelFile(cur_path + \"map_countries.xlsx\")\n",
    "\n",
    "all_gens = pd.read_excel(cur_path + \"Kraftwerksliste_ÜNB_Entwurf_Szenariorahmen_2030_V2019.xlsx\")"
   ]
  },
  {
   "cell_type": "markdown",
   "metadata": {},
   "source": [
    "### Aufbau Inland"
   ]
  },
  {
   "cell_type": "code",
   "execution_count": 6,
   "metadata": {},
   "outputs": [
    {
     "name": "stderr",
     "output_type": "stream",
     "text": [
      "C:\\Users\\janni\\Anaconda3\\lib\\site-packages\\ipykernel_launcher.py:1: FutureWarning: the 'parse_cols' keyword is deprecated, use 'usecols' instead\n",
      "  \"\"\"Entry point for launching an IPython kernel.\n",
      "C:\\Users\\janni\\Anaconda3\\lib\\site-packages\\pandas\\util\\_decorators.py:118: FutureWarning: The `sheetname` keyword is deprecated, use `sheet_name` instead\n",
      "  return func(*args, **kwargs)\n",
      "C:\\Users\\janni\\Anaconda3\\lib\\site-packages\\ipykernel_launcher.py:2: FutureWarning: the 'parse_cols' keyword is deprecated, use 'usecols' instead\n",
      "  \n"
     ]
    }
   ],
   "source": [
    "df_buses = pd.read_excel(ex1, sheetname=\"buses\", header=0, parse_cols=\"B:D\")\n",
    "df_lines = pd.read_excel(ex1, sheetname=\"lines\", header=0, parse_cols=\"B:D\")"
   ]
  },
  {
   "cell_type": "markdown",
   "metadata": {},
   "source": [
    "### Aufbau Ausland"
   ]
  },
  {
   "cell_type": "code",
   "execution_count": 7,
   "metadata": {},
   "outputs": [
    {
     "name": "stderr",
     "output_type": "stream",
     "text": [
      "C:\\Users\\janni\\Anaconda3\\lib\\site-packages\\ipykernel_launcher.py:1: FutureWarning: the 'parse_cols' keyword is deprecated, use 'usecols' instead\n",
      "  \"\"\"Entry point for launching an IPython kernel.\n",
      "C:\\Users\\janni\\Anaconda3\\lib\\site-packages\\pandas\\util\\_decorators.py:118: FutureWarning: The `sheetname` keyword is deprecated, use `sheet_name` instead\n",
      "  return func(*args, **kwargs)\n",
      "C:\\Users\\janni\\Anaconda3\\lib\\site-packages\\ipykernel_launcher.py:2: FutureWarning: the 'parse_cols' keyword is deprecated, use 'usecols' instead\n",
      "  \n"
     ]
    }
   ],
   "source": [
    "df_countries = pd.read_excel(ex2, sheetname=\"buses\", header=0, parse_cols=\"B:D\")\n",
    "df_countries_lines = pd.read_excel(ex2, sheetname=\"lines\", header=0, parse_cols=\"B:D\")\n",
    "df_buses = df_buses.append(df_countries).reset_index(drop=True)\n",
    "df_lines = df_lines.append(df_countries_lines).reset_index(drop=True)"
   ]
  },
  {
   "cell_type": "markdown",
   "metadata": {},
   "source": [
    "Calculating the length of each line by Pythagoras.\n",
    "The factor enables converting the distance in lattitude/longitude to kilometers"
   ]
  },
  {
   "cell_type": "code",
   "execution_count": 8,
   "metadata": {},
   "outputs": [],
   "source": [
    "df_lines[\"length\"] = 0\n",
    "df_lines[\"x\"]=0.0001\n",
    "df_lines[\"s_nom\"]=2500\n",
    "factor_coords_to_km = 111\n",
    "\n",
    "for i in range(len(df_lines)):\n",
    "    x_val = df_buses[\"x\"][df_lines[\"bus0\"][i]] - df_buses[\"x\"][df_lines[\"bus1\"][i]]\n",
    "    y_val = df_buses[\"y\"][df_lines[\"bus0\"][i]] - df_buses[\"y\"][df_lines[\"bus1\"][i]]\n",
    "    df_lines.at[i, \"length\"] = (math.sqrt(x_val**2 + y_val**2) * factor_coords_to_km)"
   ]
  },
  {
   "cell_type": "code",
   "execution_count": 9,
   "metadata": {},
   "outputs": [],
   "source": [
    "pypsa.io.import_components_from_dataframe(nw, df_buses, \"Bus\")"
   ]
  },
  {
   "cell_type": "code",
   "execution_count": 10,
   "metadata": {},
   "outputs": [],
   "source": [
    "pypsa.io.import_components_from_dataframe(nw, df_lines, \"Line\")"
   ]
  },
  {
   "cell_type": "code",
   "execution_count": 11,
   "metadata": {},
   "outputs": [
    {
     "data": {
      "text/plain": [
       "(<matplotlib.collections.PathCollection at 0x18d07047320>,\n",
       " <matplotlib.collections.LineCollection at 0x18d07047978>)"
      ]
     },
     "execution_count": 11,
     "metadata": {},
     "output_type": "execute_result"
    },
    {
     "data": {
      "image/png": "[encoded data removed]",
      "text/plain": [
       "<matplotlib.figure.Figure at 0x18d04a0ed68>"
      ]
     },
     "metadata": {},
     "output_type": "display_data"
    }
   ],
   "source": [
    "fig,ax=plt.subplots(1,1)\n",
    "fig.set_size_inches(6,6)\n",
    "\n",
    "nw.plot(bus_sizes=20, title=\"Aufbau\")"
   ]
  },
  {
   "cell_type": "markdown",
   "metadata": {},
   "source": [
    "### Generators"
   ]
  },
  {
   "cell_type": "code",
   "execution_count": 12,
   "metadata": {},
   "outputs": [],
   "source": [
    "# only active generators\n",
    "filtered = all_gens.loc[all_gens[\"Status 31.12.2016\"]==\"In Betrieb\"]\n",
    "# take the most powerful of each type of generator for each of the ÜNB\n",
    "filtered = filtered.groupby([all_gens[\"Energieträger\"], all_gens[\"ÜNB\"]]).max()\n",
    "# only 3 kinds of energysource\n",
    "classic_gens = filtered[(filtered.Energieträger==\"Braunkohle\") | (filtered.Energieträger==\"Steinkohle\") | (filtered.Energieträger==\"Erdgas\")]\n",
    "# get rid of multiple index columns\n",
    "classic_gens.reset_index(drop=True, inplace=True)\n",
    "# Vereinfachung der Indizes\n",
    "classic_gens = classic_gens[[\"Betreiber\", \"Energieträger\", \"ÜNB\", \"Bundesland\", \"Nettoleistung 31.12.2016 [MW]\"]].copy()"
   ]
  },
  {
   "cell_type": "markdown",
   "metadata": {},
   "source": [
    "Add correct busnumber to each generator by comparing regions from df with buses"
   ]
  },
  {
   "cell_type": "code",
   "execution_count": 13,
   "metadata": {},
   "outputs": [],
   "source": [
    "classic_gens[\"bus\"] = 0\n",
    "\n",
    "for j in range(len(classic_gens)):\n",
    "    # find out index of \"Bundesland\" of each generator\n",
    "    indices = [i for i, s in enumerate(nw.buses.name) if classic_gens[\"Bundesland\"][j] in s]\n",
    "    classic_gens.at[j, \"bus\"] = indices[0]"
   ]
  },
  {
   "cell_type": "code",
   "execution_count": 14,
   "metadata": {},
   "outputs": [],
   "source": [
    "classic_gens.rename(columns={\"Betreiber\":\"name\",\n",
    "                             \"Energieträger\":\"carrier\",\n",
    "                             \"Nettoleistung 31.12.2016 [MW]\":\"p_nom\"}, inplace=True)\n",
    "classic_gens[\"committable\"] = True"
   ]
  },
  {
   "cell_type": "code",
   "execution_count": 15,
   "metadata": {},
   "outputs": [],
   "source": [
    "pypsa.io.import_components_from_dataframe(nw, classic_gens, \"Generator\")"
   ]
  },
  {
   "cell_type": "raw",
   "metadata": {},
   "source": [
    "nw.add(\"Generator\", \"Offshore Nordsee\",\n",
    "       bus=2,\n",
    "       carrier=\"wind\",\n",
    "       p_nom=\"500\",\n",
    "       committable=True,\n",
    "       efficiency=0.95,\n",
    "       ramp_limit_up=100,\n",
    "       ramp_limit_down=100,\n",
    "       marginal_cost=5,\n",
    "       p_min=\"5\")"
   ]
  },
  {
   "cell_type": "code",
   "execution_count": 16,
   "metadata": {},
   "outputs": [],
   "source": [
    "nw.add(\"Generator\", name=\"Offshore Nordsee\",\n",
    "       bus=17,\n",
    "       carrier=\"wind\",\n",
    "       p_nom=\"300\",\n",
    "       committable=True)\n",
    "\n",
    "nw.add(\"Generator\", name=\"Offshore Ostsee\",\n",
    "       bus=18,\n",
    "       carrier=\"wind\",\n",
    "       p_nom=\"500\",\n",
    "       committable=True)"
   ]
  },
  {
   "cell_type": "code",
   "execution_count": 17,
   "metadata": {},
   "outputs": [
    {
     "data": {
      "text/plain": [
       "7792.0"
      ]
     },
     "execution_count": 17,
     "metadata": {},
     "output_type": "execute_result"
    }
   ],
   "source": [
    "nw.generators.p_nom.sum()"
   ]
  },
  {
   "cell_type": "markdown",
   "metadata": {},
   "source": [
    "### Temporary Loads for testing"
   ]
  },
  {
   "cell_type": "raw",
   "metadata": {},
   "source": [
    "for i in range(len(nw.buses)):\n",
    "    nw.add(\"Load\", \"myload{0}\".format(i), bus=i, p_set=400)"
   ]
  },
  {
   "cell_type": "code",
   "execution_count": 18,
   "metadata": {},
   "outputs": [],
   "source": [
    "nw.add(\"Load\", \"giantload\", bus=5, p_set=5000)"
   ]
  },
  {
   "cell_type": "code",
   "execution_count": null,
   "metadata": {},
   "outputs": [],
   "source": []
  },
  {
   "cell_type": "markdown",
   "metadata": {},
   "source": [
    "Einlesen der Werte pro Zeitintervall"
   ]
  },
  {
   "cell_type": "markdown",
   "metadata": {},
   "source": [
    "## Aufbereitung der Daten"
   ]
  },
  {
   "cell_type": "code",
   "execution_count": 19,
   "metadata": {},
   "outputs": [
    {
     "name": "stderr",
     "output_type": "stream",
     "text": [
      "INFO:pypsa.pf:Slack bus for sub-network 0 is 8\n",
      "INFO:pypsa.opf:Performed preliminary steps\n",
      "INFO:pypsa.opf:Building pyomo model using `angles` formulation\n",
      "INFO:pypsa.opf:Solving model using gurobi\n",
      "INFO:pypsa.opf:Optimization successful\n"
     ]
    },
    {
     "name": "stdout",
     "output_type": "stream",
     "text": [
      "# ==========================================================\n",
      "# = Solver Results                                         =\n",
      "# ==========================================================\n",
      "# ----------------------------------------------------------\n",
      "#   Problem Information\n",
      "# ----------------------------------------------------------\n",
      "Problem: \n",
      "- Name: x217\n",
      "  Lower bound: 0.0\n",
      "  Upper bound: 0.0\n",
      "  Number of objectives: 1\n",
      "  Number of constraints: 382\n",
      "  Number of variables: 217\n",
      "  Number of binary variables: 39\n",
      "  Number of integer variables: 39\n",
      "  Number of continuous variables: 178\n",
      "  Number of nonzeros: 727\n",
      "  Sense: minimize\n",
      "# ----------------------------------------------------------\n",
      "#   Solver Information\n",
      "# ----------------------------------------------------------\n",
      "Solver: \n",
      "- Status: ok\n",
      "  Return code: 0\n",
      "  Message: Model was solved to optimality (subject to tolerances), and an optimal solution is available.\n",
      "  Termination condition: optimal\n",
      "  Termination message: Model was solved to optimality (subject to tolerances), and an optimal solution is available.\n",
      "  Wall time: 0.00502777099609\n",
      "  Error rc: 0\n",
      "  Time: 0.2532062530517578\n",
      "# ----------------------------------------------------------\n",
      "#   Solution Information\n",
      "# ----------------------------------------------------------\n",
      "Solution: \n",
      "- number of solutions: 0\n",
      "  number of solutions displayed: 0\n"
     ]
    },
    {
     "data": {
      "text/plain": [
       "('ok', 'optimal')"
      ]
     },
     "execution_count": 19,
     "metadata": {},
     "output_type": "execute_result"
    }
   ],
   "source": [
    "nw.lopf(solver_name=\"gurobi\")"
   ]
  },
  {
   "cell_type": "markdown",
   "metadata": {},
   "source": [
    "## Visualization"
   ]
  },
  {
   "cell_type": "code",
   "execution_count": 20,
   "metadata": {},
   "outputs": [],
   "source": [
    "gen_outs = nw.generators_t.p\n",
    "caps_by_carrier = nw.generators.groupby(\"carrier\")[\"p_nom\"].sum()\n",
    "gen_pot_remaining = nw.generators.p_nom - gen_outs"
   ]
  },
  {
   "cell_type": "markdown",
   "metadata": {},
   "source": [
    "Line graph to display the dispatched amount of energy per plant"
   ]
  },
  {
   "cell_type": "code",
   "execution_count": 21,
   "metadata": {},
   "outputs": [
    {
     "data": {
      "text/plain": [
       "Text(0,0.5,'MW')"
      ]
     },
     "execution_count": 21,
     "metadata": {},
     "output_type": "execute_result"
    },
    {
     "data": {
      "image/png": "[encoded data removed]",
      "text/plain": [
       "<matplotlib.figure.Figure at 0x18d04b4a4e0>"
      ]
     },
     "metadata": {},
     "output_type": "display_data"
    }
   ],
   "source": [
    "gen_plot = gen_outs.plot(kind=\"area\",grid=True)\n",
    "lines, labels = gen_plot.get_legend_handles_labels()\n",
    "gen_plot.legend(lines[:len(nw.generators)], nw.generators['name'].values.tolist(), loc='best')\n",
    "plt.ylabel(\"MW\")"
   ]
  },
  {
   "cell_type": "markdown",
   "metadata": {},
   "source": [
    "network graph showing the distribution of buses etc."
   ]
  }
 ],
 "metadata": {
  "kernelspec": {
   "display_name": "Python 3",
   "language": "python",
   "name": "python3"
  },
  "language_info": {
   "codemirror_mode": {
    "name": "ipython",
    "version": 3
   },
   "file_extension": ".py",
   "mimetype": "text/x-python",
   "name": "python",
   "nbconvert_exporter": "python",
   "pygments_lexer": "ipython3",
   "version": "3.6.4"
  }
 },
 "nbformat": 4,
 "nbformat_minor": 2
}
