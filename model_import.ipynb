{
 "cells": [
  {
   "cell_type": "markdown",
   "metadata": {},
   "source": [
    "# Import des Netzwerks für das Modell"
   ]
  },
  {
   "cell_type": "markdown",
   "metadata": {},
   "source": [
    "### Einrichtung"
   ]
  },
  {
   "cell_type": "code",
   "execution_count": 68,
   "metadata": {},
   "outputs": [],
   "source": [
    "from __future__ import print_function, division\n",
    "import numpy as np # 1.14.0\n",
    "import pandas as pd # 0.22\n",
    "import matplotlib.pyplot as plt # 2.1.2\n",
    "from datetime import datetime \n",
    "import math\n",
    "import dill as pickle # Transfer data for analysis # dill version 0.2.7.1\n",
    "\n",
    "import pypsa # 0.13.1\n",
    "import pypsa.geo as geo\n",
    "\n",
    "%matplotlib inline"
   ]
  },
  {
   "cell_type": "markdown",
   "metadata": {},
   "source": [
    "## Setup"
   ]
  },
  {
   "cell_type": "markdown",
   "metadata": {},
   "source": [
    "Setting up all the network's main components\n",
    "\n",
    "All of the data is taken from another thesis, written at the same chair at TU Berlin as this one. The data is provided in the form of excel-files and is read using methods from pandas."
   ]
  },
  {
   "cell_type": "markdown",
   "metadata": {},
   "source": [
    "### Variables"
   ]
  },
  {
   "cell_type": "code",
   "execution_count": 69,
   "metadata": {},
   "outputs": [],
   "source": [
    "network = pypsa.Network()"
   ]
  },
  {
   "cell_type": "code",
   "execution_count": 70,
   "metadata": {},
   "outputs": [],
   "source": [
    "snap_amount = 96\n",
    "# tag = 96, woche = 672, monat = 2880\n",
    "# snap_num = len(network.snapshots)\n",
    "snap_size = 4\n",
    "# snaps are given quarterly, setting this to 4 will aggregate the demand to hours\n",
    "\n",
    "network.set_snapshots([p for p in range(snap_amount // snap_size)])"
   ]
  },
  {
   "cell_type": "code",
   "execution_count": 71,
   "metadata": {},
   "outputs": [],
   "source": [
    "cur_path = r\"C:\\Users\\janni\\OneDrive\\TU Berlin\\4 - Abschlussarbeiten\\01 - Bachelorarbeit\\modell\\data\\\\\""
   ]
  },
  {
   "cell_type": "code",
   "execution_count": 72,
   "metadata": {},
   "outputs": [],
   "source": [
    "marginal_costs_carrier = {\"Wind\":5,\n",
    "                          \"ee\":5,\n",
    "                          \"Import\":100000000}"
   ]
  },
  {
   "cell_type": "code",
   "execution_count": 73,
   "metadata": {},
   "outputs": [],
   "source": [
    "laendervert = [0.054, 0.074, 0.126, 0.217, 0.061, 0.075, 0.133, 0.157, 0.103]"
   ]
  },
  {
   "cell_type": "markdown",
   "metadata": {},
   "source": [
    "Variables that are to be considered during unit commitment"
   ]
  },
  {
   "cell_type": "code",
   "execution_count": 74,
   "metadata": {},
   "outputs": [],
   "source": [
    "added_vals = [\"p_nom_min\",\n",
    "              \"marginal_cost\",\n",
    "              \"efficiency\",\n",
    "              \"start_up_cost\",\n",
    "              \"shut_down_cost\",\n",
    "              \"min_up_time\",\n",
    "              \"min_down_time\",\n",
    "              #\"ramp_limit_up\",\n",
    "              #\"ramp_limit_down\"\n",
    "              ]"
   ]
  },
  {
   "cell_type": "markdown",
   "metadata": {},
   "source": [
    "## Data Import"
   ]
  },
  {
   "cell_type": "code",
   "execution_count": 75,
   "metadata": {},
   "outputs": [],
   "source": [
    "excelFile_mapGermany = pd.ExcelFile(cur_path + \"map_cities.xlsx\")\n",
    "excelFile_mapAbroad = pd.ExcelFile(cur_path + \"map_countries.xlsx\")\n",
    "excelFile_generators_fossil = pd.ExcelFile(cur_path + \"power_grid_mapping_generator_fleet.xlsx\")\n",
    "excelFile_generators_ucData = pd.ExcelFile(cur_path + \"uc_data.xlsx\")\n",
    "excelFile_demand = pd.ExcelFile(cur_path + \"DE Realisierter Stromverbrauch 2017.xlsx\")\n",
    "excelFile_dispatch_ee = pd.ExcelFile(cur_path+ \"DE Realisierte Erzeugung 2017.xlsx\")"
   ]
  },
  {
   "cell_type": "code",
   "execution_count": 76,
   "metadata": {},
   "outputs": [],
   "source": [
    "df_generators_fossil = pd.read_excel(excelFile_generators_fossil,\n",
    "                           sheet_name=\"fleet_fuel\", header=0, usecols=\"B:D\")\n",
    "\n",
    "df_generators_ucData = pd.read_excel(excelFile_generators_ucData,\n",
    "                             sheet_name=\"2017\", header=0, usecols=\"A:J\")\n",
    "#wind_file = pd.read_excel(cur_path + \"Stromlast und Windeinspeisung.xlsx\",\n",
    "#                          sheet_name=\"Tabelle1\", index_col=0, header=3, usecols=\"A:F\")\n",
    "\n",
    "df_demand = pd.read_excel(excelFile_demand,\n",
    "                            sheet_name=\"mapping_demand\", index_col=0, header=0, usecols=\"A:J\")\n",
    "\n",
    "df_dispatch_wind = pd.read_excel(excelFile_dispatch_ee,\n",
    "                                   sheet_name=\"mapping_wind\", index_col=0, header=0, usecols=\"A:C\")\n",
    "\n",
    "df_dispatch_ee = pd.read_excel(excelFile_dispatch_ee,\n",
    "                                   sheet_name=\"ee\", index_col=0, header=0, usecols=\"A:F\")"
   ]
  },
  {
   "cell_type": "code",
   "execution_count": 77,
   "metadata": {},
   "outputs": [],
   "source": [
    "df_demand = df_demand.resample('H').sum()\n",
    "df_dispatch_wind = df_dispatch_wind.resample('H').sum()\n",
    "df_dispatch_ee = df_dispatch_ee.resample('H').sum()"
   ]
  },
  {
   "cell_type": "markdown",
   "metadata": {},
   "source": [
    "### Setup within Germany"
   ]
  },
  {
   "cell_type": "code",
   "execution_count": 78,
   "metadata": {},
   "outputs": [],
   "source": [
    "df_buses = pd.read_excel(excelFile_mapGermany,\n",
    "                         sheet_name=\"buses\", header=0, usecols=\"B:D\")\n",
    "df_lines = pd.read_excel(excelFile_mapGermany,\n",
    "                         sheet_name=\"lines\", header=0, usecols=\"B:D\")"
   ]
  },
  {
   "cell_type": "markdown",
   "metadata": {},
   "source": [
    "### Setup abroad"
   ]
  },
  {
   "cell_type": "code",
   "execution_count": 79,
   "metadata": {},
   "outputs": [],
   "source": [
    "df_countries = pd.read_excel(excelFile_mapAbroad,\n",
    "                             sheet_name=\"buses\", header=0, usecols=\"B:D\")\n",
    "df_countries_lines = pd.read_excel(excelFile_mapAbroad,\n",
    "                                   sheet_name=\"lines\", header=0, usecols=\"B:D\")\n",
    "\n",
    "df_buses = df_buses.append(df_countries).reset_index(drop=True)\n",
    "df_lines = df_lines.append(df_countries_lines).reset_index(drop=True)"
   ]
  },
  {
   "cell_type": "markdown",
   "metadata": {},
   "source": [
    "Calculating the length of each line by using the haversine formula (needed to represent the earth's eliptical shape)"
   ]
  },
  {
   "cell_type": "code",
   "execution_count": 80,
   "metadata": {},
   "outputs": [],
   "source": [
    "df_lines[\"length\"] = 0\n",
    "df_lines[\"x\"]=0.0001\n",
    "df_lines[\"s_nom\"]= 1000000\n",
    "# factor_coords_to_km = 111\n",
    "\n",
    "for i in range(len(df_lines)):\n",
    "    start = [df_buses[\"x\"][df_lines[\"bus0\"][i]],df_buses[\"y\"][df_lines[\"bus0\"][i]]]\n",
    "    ende = [df_buses[\"x\"][df_lines[\"bus1\"][i]], df_buses[\"y\"][df_lines[\"bus1\"][i]]]\n",
    "    # Using the haversine forumula to get distance in km\n",
    "    df_lines.at[i, \"length\"] = geo.haversine(start, ende)"
   ]
  },
  {
   "cell_type": "code",
   "execution_count": 81,
   "metadata": {},
   "outputs": [],
   "source": [
    "pypsa.io.import_components_from_dataframe(network, df_buses, \"Bus\")\n",
    "pypsa.io.import_components_from_dataframe(network, df_lines, \"Line\")"
   ]
  },
  {
   "cell_type": "raw",
   "metadata": {},
   "source": [
    "network.add(\"Generator\", name=\"Offshore Nordsee\",\n",
    "       bus=17,\n",
    "       carrier=\"Wind\",\n",
    "       p_nom=1,\n",
    "       marginal_cost=marginal_costs_carrier[\"Wind\"],\n",
    "       # p_min_pu and p_max_pu have to be the same to ensure fixed amount of dispatched power\n",
    "       p_min_pu=p_wind_generators[0],\n",
    "       p_max_pu=p_wind_generators[0],\n",
    "       committable=False)"
   ]
  },
  {
   "cell_type": "markdown",
   "metadata": {},
   "source": [
    "Each node abroad gets a capacity of 10 GW to avoid shortages which would result in a crash of the model. Given their high price, they probably won't be used and only become interesting when it comes to future scenarios"
   ]
  },
  {
   "cell_type": "code",
   "execution_count": 82,
   "metadata": {},
   "outputs": [],
   "source": [
    "#print(df_countries)\n",
    "\n",
    "i = 9\n",
    "for country in df_buses[9:17].values:\n",
    "    network.add(\"Generator\", name=(\"Import \" + country[0]),\n",
    "                bus=i,\n",
    "                carrier=\"Import\",\n",
    "                p_nom=10000000000,\n",
    "                marginal_cost=marginal_costs_carrier[\"Import\"],\n",
    "                committable=False)\n",
    "    i += 1"
   ]
  },
  {
   "cell_type": "markdown",
   "metadata": {},
   "source": [
    "## Components"
   ]
  },
  {
   "cell_type": "markdown",
   "metadata": {},
   "source": [
    "### Generators"
   ]
  },
  {
   "cell_type": "code",
   "execution_count": 83,
   "metadata": {},
   "outputs": [],
   "source": [
    "df_generators_fossil.rename(columns={\"fuel\":\"carrier\",\n",
    "                           \"capacity[MW]\":\"p_nom\"}, inplace=True)\n",
    "df_generators_fossil[\"committable\"] = True"
   ]
  },
  {
   "cell_type": "code",
   "execution_count": 84,
   "metadata": {},
   "outputs": [],
   "source": [
    "df_generators_fossil[\"bus\"] = 0\n",
    "\n",
    "for j in range(len(df_generators_fossil)):\n",
    "    # find index of \"Bundesland\" of each generator\n",
    "    indices = [i for i, s in enumerate(network.buses.name) if df_generators_fossil[\"state\"][j] in s]\n",
    "    df_generators_fossil.at[j, \"bus\"] = indices[0]\n",
    "    for k in range(len(added_vals)):\n",
    "        # insert corresponding values according to the unit commitment file to dataframe for import\n",
    "        df_generators_fossil.at[j, added_vals[k]] = uc_file_2017[added_vals[k]][df_generators_fossil[\"carrier\"][j]]"
   ]
  },
  {
   "cell_type": "code",
   "execution_count": 85,
   "metadata": {},
   "outputs": [],
   "source": [
    "pypsa.io.import_components_from_dataframe(network, df_generators_fossil, \"Generator\")"
   ]
  },
  {
   "cell_type": "code",
   "execution_count": 86,
   "metadata": {},
   "outputs": [],
   "source": [
    "# Name of each Generator is a combination of state and carrier name (e.g. \"Berlin Erdgas\")\n",
    "gen_names = [\"{0} {1}\".format(s, c) for s, c in zip(df_generators_fossil[\"state\"], df_generators_fossil[\"carrier\"])]"
   ]
  },
  {
   "cell_type": "markdown",
   "metadata": {},
   "source": [
    "### Wind Energy"
   ]
  },
  {
   "cell_type": "code",
   "execution_count": 87,
   "metadata": {},
   "outputs": [],
   "source": [
    "p_wind_generators = [[], []]\n",
    "\n",
    "for i in range(2):\n",
    "    # grab each column from wind df\n",
    "    tmp = df_dispatch_wind.iloc[:, i].tolist()\n",
    "    # take datapoints corresponding to timestamps in network.snapshots\n",
    "    p_wind_generators[i] = [tmp[i] for i in network.snapshots.tolist()]"
   ]
  },
  {
   "cell_type": "markdown",
   "metadata": {},
   "source": [
    "The nominal power of the generators was set to one because PyPSA internally multiplies p_nom with each value from p_min_pu and p_max_pu to get the dispatched power. Setting p_nom to one offers the possibility to leave the provided data as it is (in MWh)."
   ]
  },
  {
   "cell_type": "code",
   "execution_count": 88,
   "metadata": {},
   "outputs": [],
   "source": [
    "network.add(\"Generator\", name=\"Offshore Nordsee\",\n",
    "       bus=17,\n",
    "       carrier=\"Wind\",\n",
    "       p_nom=1,\n",
    "       marginal_cost=marginal_costs_carrier[\"Wind\"],\n",
    "       # p_min_pu and p_max_pu have to be the same to ensure fixed amount of dispatched power\n",
    "       p_min_pu=p_wind_generators[0],\n",
    "       p_max_pu=p_wind_generators[0],\n",
    "       committable=False)\n",
    "\n",
    "network.add(\"Generator\", name=\"Offshore Ostsee\",\n",
    "       bus=18,\n",
    "       carrier=\"Wind\",\n",
    "       p_nom=1,\n",
    "       marginal_cost=marginal_costs_carrier[\"Wind\"],\n",
    "       # p_min_pu and p_max_pu have to be the same to ensure fixed amount of dispatched power\n",
    "       p_min_pu=p_wind_generators[1],\n",
    "       p_max_pu=p_wind_generators[1],\n",
    "       committable=False)"
   ]
  },
  {
   "cell_type": "markdown",
   "metadata": {},
   "source": [
    "Attaching EE-Generation"
   ]
  },
  {
   "cell_type": "code",
   "execution_count": 89,
   "metadata": {},
   "outputs": [],
   "source": [
    "p_ee_generators = [[], [], [], [], [], [], [], [], []]\n",
    "\n",
    "for i in range(9):\n",
    "    #print(i)\n",
    "    tmp = df_dispatch_ee.iloc[:, 0].tolist()\n",
    "    p_ee_generators[i] = [tmp[i] for i in network.snapshots.tolist()]\n",
    "    network.add(\"Generator\", name=\"EE-Generator {}\".format(i),\n",
    "           bus=i,\n",
    "           carrier=\"ee\",\n",
    "           p_nom=1,\n",
    "           marginal_cost=marginal_costs_carrier[\"ee\"],\n",
    "           # take datapoints corresponding to timestamps in network.snapshots\n",
    "           p_min_pu=[item*laendervert[i] for item in p_ee_generators[i]],\n",
    "           p_max_pu=[item*laendervert[i] for item in p_ee_generators[i]],\n",
    "           committable=False)"
   ]
  },
  {
   "cell_type": "markdown",
   "metadata": {},
   "source": [
    "### Attaching Loads"
   ]
  },
  {
   "cell_type": "markdown",
   "metadata": {},
   "source": [
    "Convert demand to different periods if necessary"
   ]
  },
  {
   "cell_type": "code",
   "execution_count": 90,
   "metadata": {},
   "outputs": [],
   "source": [
    "for i in range(9):\n",
    "    demand_data_real = df_demand.iloc[:, i]\n",
    "    #print(i)\n",
    "    network.add(\"Load\",\n",
    "           \"myload{0}\".format(i),\n",
    "           bus=i,\n",
    "           # take datapoints corresponding to timestamps in network.snapshots\n",
    "           p_set=[demand_data_real[i] for i in network.snapshots.tolist()])"
   ]
  },
  {
   "cell_type": "markdown",
   "metadata": {},
   "source": [
    "## Linear Optimal Power Flow (incl. unit commitment for generators)"
   ]
  },
  {
   "cell_type": "code",
   "execution_count": 91,
   "metadata": {
    "scrolled": true
   },
   "outputs": [
    {
     "name": "stderr",
     "output_type": "stream",
     "text": [
      "INFO:pypsa.pf:Slack bus for sub-network 0 is 9\n",
      "INFO:pypsa.opf:Performed preliminary steps\n",
      "INFO:pypsa.opf:Building pyomo model using `angles` formulation\n",
      "INFO:pypsa.opf:Solving model using gurobi\n",
      "INFO:pypsa.opf:Optimization successful\n"
     ]
    },
    {
     "name": "stdout",
     "output_type": "stream",
     "text": [
      "# ==========================================================\n",
      "# = Solver Results                                         =\n",
      "# ==========================================================\n",
      "# ----------------------------------------------------------\n",
      "#   Problem Information\n",
      "# ----------------------------------------------------------\n",
      "Problem: \n",
      "- Name: x4729\n",
      "  Lower bound: 8036490.83236\n",
      "  Upper bound: 8036490.83316\n",
      "  Number of objectives: 1\n",
      "  Number of constraints: 6431\n",
      "  Number of variables: 4729\n",
      "  Number of binary variables: 792\n",
      "  Number of integer variables: 792\n",
      "  Number of continuous variables: 3937\n",
      "  Number of nonzeros: 22663\n",
      "  Sense: minimize\n",
      "# ----------------------------------------------------------\n",
      "#   Solver Information\n",
      "# ----------------------------------------------------------\n",
      "Solver: \n",
      "- Status: ok\n",
      "  Return code: 0\n",
      "  Message: Model was solved to optimality (subject to tolerances), and an optimal solution is available.\n",
      "  Termination condition: optimal\n",
      "  Termination message: Model was solved to optimality (subject to tolerances), and an optimal solution is available.\n",
      "  Wall time: 0.20627784729\n",
      "  Error rc: 0\n",
      "  Time: 0.4508333206176758\n",
      "# ----------------------------------------------------------\n",
      "#   Solution Information\n",
      "# ----------------------------------------------------------\n",
      "Solution: \n",
      "- number of solutions: 0\n",
      "  number of solutions displayed: 0\n"
     ]
    },
    {
     "data": {
      "text/plain": [
       "('ok', 'optimal')"
      ]
     },
     "execution_count": 91,
     "metadata": {},
     "output_type": "execute_result"
    }
   ],
   "source": [
    "network.lopf(solver_name=\"gurobi\")"
   ]
  },
  {
   "cell_type": "markdown",
   "metadata": {},
   "source": [
    "## Exporting for Visualization & Analysis"
   ]
  },
  {
   "cell_type": "raw",
   "metadata": {},
   "source": [
    "with open(\"network.pickle\", 'wb') as f:\n",
    "    pickle.dump(network, f)"
   ]
  },
  {
   "cell_type": "raw",
   "metadata": {},
   "source": [
    "with open(\"gen_names.pickle\", \"wb\") as f:\n",
    "    pickle.dump(gen_names, f)"
   ]
  },
  {
   "cell_type": "raw",
   "metadata": {},
   "source": [
    "with open(\"network_demand.pickle\", \"wb\") as f:\n",
    "    pickle.dump(df_demand, f)"
   ]
  },
  {
   "cell_type": "markdown",
   "metadata": {},
   "source": [
    "## Visualization"
   ]
  },
  {
   "cell_type": "code",
   "execution_count": 92,
   "metadata": {},
   "outputs": [],
   "source": [
    "gen_outs = network.generators_t.p / 1000\n",
    "# No negative values for plotting\n",
    "gen_outs[gen_outs < 0] = 0\n",
    "power_by_carrier = gen_outs.groupby(network.generators.carrier, axis=1).sum()"
   ]
  },
  {
   "cell_type": "code",
   "execution_count": 93,
   "metadata": {},
   "outputs": [],
   "source": [
    "graph_colors = {\"Erdgas\":\"orange\",\n",
    "                \"Braunkohle\":\"brown\",\n",
    "                \"Steinkohle\":\"black\",\n",
    "                \"Wind\":\"blue\",\n",
    "                \"ee\":\"green\",\n",
    "                \"Import\":\"red\"}\n",
    "\n",
    "col_order = [\"Wind\", \"ee\", \"Braunkohle\", \"Steinkohle\", \"Erdgas\", \"Import\"]\n",
    "power_by_carrier = power_by_carrier[col_order]"
   ]
  },
  {
   "cell_type": "code",
   "execution_count": 94,
   "metadata": {},
   "outputs": [],
   "source": [
    "# Rename columns for graph information\n",
    "for i in range(len(gen_names)):\n",
    "    gen_outs.rename(columns={(\"{}\".format(i)):(\"{}\".format(gen_names[i]))}, inplace=True)"
   ]
  },
  {
   "cell_type": "markdown",
   "metadata": {},
   "source": [
    "Line graph to display the dispatched amount of energy per plant"
   ]
  },
  {
   "cell_type": "code",
   "execution_count": 95,
   "metadata": {},
   "outputs": [
    {
     "data": {
      "text/plain": [
       "8036490.83316"
      ]
     },
     "execution_count": 95,
     "metadata": {},
     "output_type": "execute_result"
    }
   ],
   "source": [
    "network.objective"
   ]
  },
  {
   "cell_type": "raw",
   "metadata": {
    "scrolled": false
   },
   "source": [
    "fig,ax = plt.subplots(1,1)\n",
    "fig.set_size_inches(20,10)\n",
    "\n",
    "(gen_outs).plot(kind=\"area\",ax=ax, grid=True)\n",
    "\n",
    "ax.set_xlabel(\"Snaps\")\n",
    "ax.set_ylabel(\"GWh\")"
   ]
  },
  {
   "cell_type": "code",
   "execution_count": 96,
   "metadata": {
    "scrolled": false
   },
   "outputs": [
    {
     "data": {
      "text/plain": [
       "Text(0,0.5,'MW')"
      ]
     },
     "execution_count": 96,
     "metadata": {},
     "output_type": "execute_result"
    },
    {
     "data": {
      "image/png": "[encoded data removed]",
      "text/plain": [
       "<Figure size 2160x720 with 1 Axes>"
      ]
     },
     "metadata": {},
     "output_type": "display_data"
    }
   ],
   "source": [
    "fig,ax = plt.subplots(1,1)\n",
    "fig.set_size_inches(30,10)\n",
    "\n",
    "power_by_carrier.plot(kind=\"area\",ax=ax, grid=True, color=[graph_colors[i] for i in power_by_carrier.columns])\n",
    "\n",
    "ax.set_xlabel(\"Snaps\")\n",
    "ax.set_ylabel(\"MW\")"
   ]
  },
  {
   "cell_type": "code",
   "execution_count": 97,
   "metadata": {},
   "outputs": [
    {
     "name": "stdout",
     "output_type": "stream",
     "text": [
      "Hello World\n"
     ]
    }
   ],
   "source": [
    "print(\"Hello World\")"
   ]
  }
 ],
 "metadata": {
  "kernelspec": {
   "display_name": "Python 3",
   "language": "python",
   "name": "python3"
  },
  "language_info": {
   "codemirror_mode": {
    "name": "ipython",
    "version": 3
   },
   "file_extension": ".py",
   "mimetype": "text/x-python",
   "name": "python",
   "nbconvert_exporter": "python",
   "pygments_lexer": "ipython3",
   "version": "3.6.4"
  }
 },
 "nbformat": 4,
 "nbformat_minor": 2
}
