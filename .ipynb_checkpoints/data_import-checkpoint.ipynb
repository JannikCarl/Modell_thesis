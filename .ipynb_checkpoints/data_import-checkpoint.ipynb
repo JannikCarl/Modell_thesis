{
 "cells": [
  {
   "cell_type": "code",
   "execution_count": 1,
   "metadata": {
    "collapsed": true
   },
   "outputs": [],
   "source": [
    "from __future__ import print_function, division\n",
    "import numpy as np\n",
    "import pandas as pd\n",
    "import matplotlib.pyplot as plt\n",
    "from datetime import datetime\n",
    "import os\n",
    "import math\n",
    "\n",
    "%matplotlib inline"
   ]
  },
  {
   "cell_type": "code",
   "execution_count": 2,
   "metadata": {
    "collapsed": true
   },
   "outputs": [],
   "source": [
    "cur_path = r\"C:\\Users\\janni\\OneDrive\\TU Berlin\\4 - Abschlussarbeiten\\01 - Bachelorarbeit\\modell\\data\\\\\""
   ]
  },
  {
   "cell_type": "markdown",
   "metadata": {},
   "source": [
    "Von A6:B12"
   ]
  },
  {
   "cell_type": "code",
   "execution_count": 62,
   "metadata": {
    "scrolled": true
   },
   "outputs": [
    {
     "data": {
      "text/plain": [
       "[Empty DataFrame\n",
       " Columns: [wert]\n",
       " Index: [], Empty DataFrame\n",
       " Columns: [wert]\n",
       " Index: []]"
      ]
     },
     "execution_count": 62,
     "metadata": {},
     "output_type": "execute_result"
    }
   ],
   "source": [
    "gen_data = [pd.DataFrame for i in range(2)]\n",
    "\n",
    "for i in range(len(gen_data)):\n",
    "    gen_data[i] = pd.read_excel(cur_path + \"Technische Daten Gaskraftwerke.xlsx\",\n",
    "                                sheet_name=i,\n",
    "                                header=4,\n",
    "                                index_col=0,\n",
    "                                parse_cols=\"C:D\",\n",
    "                                skip_footer=28)[0:7]\n",
    "\n",
    "adds = {\"commitable\":True,\n",
    "        \"startup_cost\":300}\n",
    "\n",
    "#for i,val in adds.items():\n",
    " #   dt.set_value(i, val)\n",
    "    \n",
    "gen_data"
   ]
  },
  {
   "cell_type": "code",
   "execution_count": 103,
   "metadata": {},
   "outputs": [
    {
     "data": {
      "text/plain": [
       "[Unnamed: 2\n",
       " name               Fortuna\n",
       " p_nom               595 MW\n",
       " efficiency          0.6039\n",
       " carrier                gas\n",
       " ramp_limit_up           35\n",
       " ramp_limit_down         35\n",
       " p_min                   50\n",
       " Name: Unnamed: 3, dtype: object, Unnamed: 2\n",
       " name               SGT5-2000E\n",
       " p_nom                  187 MW\n",
       " efficiency            0.35657\n",
       " carrier                   gas\n",
       " ramp_limit_up              10\n",
       " ramp_limit_down            10\n",
       " p_min                      50\n",
       " Name: Unnamed: 3, dtype: object]"
      ]
     },
     "execution_count": 103,
     "metadata": {},
     "output_type": "execute_result"
    }
   ],
   "source": [
    "gen_data = [pd.DataFrame for i in range(2)]\n",
    "ex = pd.ExcelFile(cur_path + \"Technische Daten Gaskraftwerke.xlsx\")\n",
    "\n",
    "for i in range(len(gen_data)):\n",
    "    # Extract last two columns from worksheet and only rows 5-12\n",
    "    gen_data[i] = ex.parse(i).iloc[4:11,[-2,-1]]\n",
    "    # Use values from first column as index\n",
    "    gen_data[i].index = gen_data[i].iloc[:,0]\n",
    "    # Delete column in the middle\n",
    "    gen_data[i] = gen_data[i].iloc[:, -1]\n",
    "    \n",
    "gen_data"
   ]
  },
  {
   "cell_type": "code",
   "execution_count": 94,
   "metadata": {
    "collapsed": true
   },
   "outputs": [],
   "source": [
    "# Multiple row and column selections using iloc and DataFrame\n",
    "# data.iloc[0:5] # first five rows of dataframe\n",
    "# data.iloc[:, 0:2] # first two columns of data frame with all rows\n",
    "# data.iloc[[0,3,6,24], [0,5,6]] # 1st, 4th, 7th, 25th row + 1st 6th 7th columns.\n",
    "# data.iloc[0:5, 5:8] # first 5 rows and 5th, 6th, 7th columns of data frame (county -> phone1)."
   ]
  },
  {
   "cell_type": "code",
   "execution_count": 9,
   "metadata": {},
   "outputs": [
    {
     "data": {
      "text/html": [
       "<div>\n",
       "<style>\n",
       "    .dataframe thead tr:only-child th {\n",
       "        text-align: right;\n",
       "    }\n",
       "\n",
       "    .dataframe thead th {\n",
       "        text-align: left;\n",
       "    }\n",
       "\n",
       "    .dataframe tbody tr th {\n",
       "        vertical-align: top;\n",
       "    }\n",
       "</style>\n",
       "<table border=\"1\" class=\"dataframe\">\n",
       "  <thead>\n",
       "    <tr style=\"text-align: right;\">\n",
       "      <th></th>\n",
       "      <th>Last</th>\n",
       "      <th>Windeinspeisung Original</th>\n",
       "      <th>Differenz</th>\n",
       "      <th>Windeinspeisung verschoben um 48785</th>\n",
       "      <th>Differenz Verschoben</th>\n",
       "    </tr>\n",
       "    <tr>\n",
       "      <th>Datum, Zeit</th>\n",
       "      <th></th>\n",
       "      <th></th>\n",
       "      <th></th>\n",
       "      <th></th>\n",
       "      <th></th>\n",
       "    </tr>\n",
       "  </thead>\n",
       "  <tbody>\n",
       "    <tr>\n",
       "      <th>2015-11-01T00:00:00Z</th>\n",
       "      <td>39567</td>\n",
       "      <td>6948</td>\n",
       "      <td>32619</td>\n",
       "      <td>55733</td>\n",
       "      <td>-16166</td>\n",
       "    </tr>\n",
       "    <tr>\n",
       "      <th>2015-11-01T00:15:00Z</th>\n",
       "      <td>39200</td>\n",
       "      <td>6979</td>\n",
       "      <td>32221</td>\n",
       "      <td>55764</td>\n",
       "      <td>-16564</td>\n",
       "    </tr>\n",
       "    <tr>\n",
       "      <th>2015-11-01T00:30:00Z</th>\n",
       "      <td>38738</td>\n",
       "      <td>7094</td>\n",
       "      <td>31644</td>\n",
       "      <td>55879</td>\n",
       "      <td>-17141</td>\n",
       "    </tr>\n",
       "    <tr>\n",
       "      <th>2015-11-01T00:45:00Z</th>\n",
       "      <td>38153</td>\n",
       "      <td>7087</td>\n",
       "      <td>31066</td>\n",
       "      <td>55872</td>\n",
       "      <td>-17719</td>\n",
       "    </tr>\n",
       "    <tr>\n",
       "      <th>2015-11-01T01:00:00Z</th>\n",
       "      <td>38151</td>\n",
       "      <td>7153</td>\n",
       "      <td>30998</td>\n",
       "      <td>55938</td>\n",
       "      <td>-17787</td>\n",
       "    </tr>\n",
       "  </tbody>\n",
       "</table>\n",
       "</div>"
      ],
      "text/plain": [
       "                       Last  Windeinspeisung Original  Differenz  \\\n",
       "Datum, Zeit                                                        \n",
       "2015-11-01T00:00:00Z  39567                      6948      32619   \n",
       "2015-11-01T00:15:00Z  39200                      6979      32221   \n",
       "2015-11-01T00:30:00Z  38738                      7094      31644   \n",
       "2015-11-01T00:45:00Z  38153                      7087      31066   \n",
       "2015-11-01T01:00:00Z  38151                      7153      30998   \n",
       "\n",
       "                      Windeinspeisung verschoben um 48785  \\\n",
       "Datum, Zeit                                                 \n",
       "2015-11-01T00:00:00Z                                55733   \n",
       "2015-11-01T00:15:00Z                                55764   \n",
       "2015-11-01T00:30:00Z                                55879   \n",
       "2015-11-01T00:45:00Z                                55872   \n",
       "2015-11-01T01:00:00Z                                55938   \n",
       "\n",
       "                      Differenz Verschoben  \n",
       "Datum, Zeit                                 \n",
       "2015-11-01T00:00:00Z                -16166  \n",
       "2015-11-01T00:15:00Z                -16564  \n",
       "2015-11-01T00:30:00Z                -17141  \n",
       "2015-11-01T00:45:00Z                -17719  \n",
       "2015-11-01T01:00:00Z                -17787  "
      ]
     },
     "execution_count": 9,
     "metadata": {},
     "output_type": "execute_result"
    }
   ],
   "source": [
    "lst = pd.read_excel(cur_path + \"Stromlast und Windeinspeisung.xlsx\",\n",
    "                    sheet_name=\"Tabelle1\",\n",
    "                    header=3,\n",
    "                    #skiprows=3,\n",
    "                    index_col=0,\n",
    "                    parse_cols=\"A:F\")\n",
    "\n",
    "lst.head()"
   ]
  }
 ],
 "metadata": {
  "kernelspec": {
   "display_name": "Python 3",
   "language": "python",
   "name": "python3"
  },
  "language_info": {
   "codemirror_mode": {
    "name": "ipython",
    "version": 3
   },
   "file_extension": ".py",
   "mimetype": "text/x-python",
   "name": "python",
   "nbconvert_exporter": "python",
   "pygments_lexer": "ipython3",
   "version": "3.6.3"
  }
 },
 "nbformat": 4,
 "nbformat_minor": 2
}
