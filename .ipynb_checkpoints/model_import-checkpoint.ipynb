{
 "cells": [
  {
   "cell_type": "markdown",
   "metadata": {},
   "source": [
    "# Import des Netzwerks für das Modell"
   ]
  },
  {
   "cell_type": "markdown",
   "metadata": {},
   "source": [
    "### Einrichtung"
   ]
  },
  {
   "cell_type": "code",
   "execution_count": 167,
   "metadata": {},
   "outputs": [],
   "source": [
    "from __future__ import print_function, division\n",
    "import numpy as np # 1.14.0\n",
    "import pandas as pd # 0.22\n",
    "import matplotlib.pyplot as plt # 2.1.2\n",
    "from datetime import datetime \n",
    "import math\n",
    "import os\n",
    "import dill as pickle # Transfer data for analysis # dill version 0.2.7.1\n",
    "\n",
    "import pypsa # 0.13.1\n",
    "import pypsa.geo as geo\n",
    "\n",
    "from custom_thesis_functions import *\n",
    "\n",
    "%matplotlib inline"
   ]
  },
  {
   "cell_type": "markdown",
   "metadata": {},
   "source": [
    "## Setup"
   ]
  },
  {
   "cell_type": "markdown",
   "metadata": {},
   "source": [
    "Setting up all the network's main components\n",
    "\n",
    "All of the data is taken from another thesis, written at the same chair at TU Berlin as this one. The data is provided in the form of excel-files and is read using methods from pandas."
   ]
  },
  {
   "cell_type": "markdown",
   "metadata": {},
   "source": [
    "### Variables"
   ]
  },
  {
   "cell_type": "code",
   "execution_count": 168,
   "metadata": {},
   "outputs": [],
   "source": [
    "period = pd.date_range(start='2017-01-01 00:00', end='2017-01-02 23:45', freq='h')"
   ]
  },
  {
   "cell_type": "markdown",
   "metadata": {},
   "source": [
    "Variable to add further info to filename about e.g. which added_vals were used"
   ]
  },
  {
   "cell_type": "code",
   "execution_count": 169,
   "metadata": {},
   "outputs": [],
   "source": [
    "instance_info = \"\""
   ]
  },
  {
   "cell_type": "code",
   "execution_count": 170,
   "metadata": {},
   "outputs": [],
   "source": [
    "marginal_costs_carrier = {\"Wind\":2,\n",
    "                          \"ee\":2,\n",
    "                          \"Import\":100000000}"
   ]
  },
  {
   "cell_type": "code",
   "execution_count": 171,
   "metadata": {},
   "outputs": [],
   "source": [
    "laendervert = [0.054, 0.074, 0.126, 0.217, 0.061, 0.075, 0.133, 0.157, 0.103]"
   ]
  },
  {
   "cell_type": "markdown",
   "metadata": {},
   "source": [
    "Variables that are to be considered during unit commitment"
   ]
  },
  {
   "cell_type": "code",
   "execution_count": 172,
   "metadata": {},
   "outputs": [],
   "source": [
    "added_vals = [\"p_nom_min\",\n",
    "              \"marginal_cost\",\n",
    "              \"efficiency\",\n",
    "              \"start_up_cost\",\n",
    "              \"shut_down_cost\",\n",
    "              \"min_up_time\",\n",
    "              \"min_down_time\",\n",
    "#               \"ramp_limit_up\",\n",
    "#               \"ramp_limit_down\"\n",
    "              ]"
   ]
  },
  {
   "cell_type": "markdown",
   "metadata": {},
   "source": [
    "This is done here to ease the testing of different parameters"
   ]
  },
  {
   "cell_type": "raw",
   "metadata": {},
   "source": [
    "df_generators_ucData = pd.DataFrame(\n",
    "    [[0.5,9,0.37,30*200,30*200,8,20,0.025,0.025],\n",
    "     [0.5,9.37,0.4,60*200,60*200,8,16,0.0375,0.0375],\n",
    "     [0.4,21.13,0.41,80*200,80*200,8,16,0.1,0.1]],\n",
    "    index=[\"Braunkohle\",\"Steinkohle\",\"Erdgas\"],\n",
    "    columns=[\"p_nom_min\",\"marginal_cost\",\"efficiency\",\"start_up_cost\",\"shut_down_cost\",\"min_up_time\",\"min_down_time\",\"ramp_limit_up\",\"ramp_limit_down\"]\n",
    ")\n",
    "df_generators_ucData"
   ]
  },
  {
   "cell_type": "markdown",
   "metadata": {},
   "source": [
    "# ____"
   ]
  },
  {
   "cell_type": "code",
   "execution_count": 173,
   "metadata": {},
   "outputs": [],
   "source": [
    "network = pypsa.Network()"
   ]
  },
  {
   "cell_type": "code",
   "execution_count": 174,
   "metadata": {},
   "outputs": [],
   "source": [
    "network.set_snapshots(period)"
   ]
  },
  {
   "cell_type": "markdown",
   "metadata": {},
   "source": [
    "## Data Import"
   ]
  },
  {
   "cell_type": "code",
   "execution_count": 175,
   "metadata": {},
   "outputs": [],
   "source": [
    "excelFile_mapGermany = pd.ExcelFile(path_import_data + \"map_cities.xlsx\")\n",
    "excelFile_mapAbroad = pd.ExcelFile(path_import_data + \"map_countries.xlsx\")\n",
    "excelFile_generators_fossil = pd.ExcelFile(path_import_data + \"power_grid_mapping_generator_fleet.xlsx\")\n",
    "excelFile_generators_ucData = pd.ExcelFile(path_import_data + \"uc_data.xlsx\")\n",
    "excelFile_demand = pd.ExcelFile(path_import_data + \"DE Realisierter Stromverbrauch 2017.xlsx\")\n",
    "excelFile_dispatch_ee = pd.ExcelFile(path_import_data+ \"DE Realisierte Erzeugung 2017.xlsx\")"
   ]
  },
  {
   "cell_type": "code",
   "execution_count": 176,
   "metadata": {},
   "outputs": [],
   "source": [
    "df_generators_fossil = pd.read_excel(excelFile_generators_fossil,\n",
    "                                     sheet_name=\"fleet_fuel\", header=0, usecols=\"B:D\")\n",
    "\n",
    "df_generators_ucData = pd.read_excel(excelFile_generators_ucData,\n",
    "                                     sheet_name=\"2017\", header=0, usecols=\"A:J\")\n",
    "#wind_file = pd.read_excel(path_import_data + \"Stromlast und Windeinspeisung.xlsx\",\n",
    "#                          sheet_name=\"Tabelle1\", index_col=0, header=3, usecols=\"A:F\")\n",
    "\n",
    "df_demand = pd.read_excel(excelFile_demand,\n",
    "                          sheet_name=\"mapping_demand\", index_col=0, header=0, usecols=\"A:J\")\n",
    "\n",
    "df_dispatch_wind = pd.read_excel(excelFile_dispatch_ee,\n",
    "                                 sheet_name=\"mapping_wind\", index_col=0, header=0, usecols=\"A:C\")\n",
    "\n",
    "df_dispatch_ee = pd.read_excel(excelFile_dispatch_ee,\n",
    "                               sheet_name=\"Realisierte Erzeugung\", index_col=0, header=0, usecols=\"A,B,C,E,F,G,L\")"
   ]
  },
  {
   "cell_type": "code",
   "execution_count": 177,
   "metadata": {},
   "outputs": [],
   "source": [
    "df_demand = (df_demand.resample('H').sum()\n",
    "             .loc[network.snapshots])\n",
    "df_dispatch_wind = (df_dispatch_wind.resample('H').sum()\n",
    "                    .loc[network.snapshots])\n",
    "s_dispatch_ee = (df_dispatch_ee.replace('-',0)\n",
    "                        .resample('1H').sum()\n",
    "                        .agg('sum', axis='columns')\n",
    "                        .loc[period])"
   ]
  },
  {
   "cell_type": "markdown",
   "metadata": {},
   "source": [
    "### Setup within Germany"
   ]
  },
  {
   "cell_type": "code",
   "execution_count": 179,
   "metadata": {},
   "outputs": [],
   "source": [
    "df_buses = pd.read_excel(excelFile_mapGermany,\n",
    "                         sheet_name=\"buses\", header=0, usecols=\"B:D\")\n",
    "df_lines = pd.read_excel(excelFile_mapGermany,\n",
    "                         sheet_name=\"lines\", header=0, usecols=\"B:D\")"
   ]
  },
  {
   "cell_type": "markdown",
   "metadata": {},
   "source": [
    "### Setup abroad"
   ]
  },
  {
   "cell_type": "code",
   "execution_count": 180,
   "metadata": {},
   "outputs": [],
   "source": [
    "df_countries = pd.read_excel(excelFile_mapAbroad,\n",
    "                             sheet_name=\"buses\", header=0, usecols=\"B:D\")\n",
    "df_countries_lines = pd.read_excel(excelFile_mapAbroad,\n",
    "                                   sheet_name=\"lines\", header=0, usecols=\"B:D\")\n",
    "\n",
    "df_buses = df_buses.append(df_countries).reset_index(drop=True)\n",
    "df_lines = df_lines.append(df_countries_lines).reset_index(drop=True)"
   ]
  },
  {
   "cell_type": "raw",
   "metadata": {},
   "source": [
    "df_dispatch_ee['sum']=df_dispatch_ee.sum(axis=1)"
   ]
  },
  {
   "cell_type": "markdown",
   "metadata": {},
   "source": [
    "Calculating the length of each line by using the haversine formula (needed to represent the earth's eliptical shape)"
   ]
  },
  {
   "cell_type": "code",
   "execution_count": 181,
   "metadata": {},
   "outputs": [],
   "source": [
    "df_lines[\"length\"] = 0\n",
    "df_lines[\"x\"]=0.0001\n",
    "df_lines[\"s_nom\"]= 1000000\n",
    "# factor_coords_to_km = 111\n",
    "\n",
    "for i in range(len(df_lines)):\n",
    "    start = [df_buses[\"x\"][df_lines[\"bus0\"][i]],df_buses[\"y\"][df_lines[\"bus0\"][i]]]\n",
    "    ende = [df_buses[\"x\"][df_lines[\"bus1\"][i]], df_buses[\"y\"][df_lines[\"bus1\"][i]]]\n",
    "    # Using the haversine forumula to get distance in km\n",
    "    df_lines.at[i, \"length\"] = geo.haversine(start, ende)"
   ]
  },
  {
   "cell_type": "code",
   "execution_count": 182,
   "metadata": {},
   "outputs": [],
   "source": [
    "pypsa.io.import_components_from_dataframe(network, df_buses, \"Bus\")\n",
    "pypsa.io.import_components_from_dataframe(network, df_lines, \"Line\")"
   ]
  },
  {
   "cell_type": "markdown",
   "metadata": {},
   "source": [
    "Each node abroad gets a capacity of 10 GW to avoid shortages which would result in a crash of the model. Given their high price, they probably won't be used and only become interesting when it comes to future scenarios"
   ]
  },
  {
   "cell_type": "code",
   "execution_count": 183,
   "metadata": {},
   "outputs": [],
   "source": [
    "#print(df_countries)\n",
    "\n",
    "i = 9\n",
    "for country in df_buses[9:17].values:\n",
    "    network.add(\"Generator\", name=(\"Import \" + country[0]),\n",
    "                bus=i,\n",
    "                carrier=\"Import\",\n",
    "                p_nom=10000000000,\n",
    "                marginal_cost=marginal_costs_carrier[\"Import\"],\n",
    "                committable=False)\n",
    "    i += 1"
   ]
  },
  {
   "cell_type": "markdown",
   "metadata": {},
   "source": [
    "## Components"
   ]
  },
  {
   "cell_type": "markdown",
   "metadata": {},
   "source": [
    "### Generators"
   ]
  },
  {
   "cell_type": "code",
   "execution_count": 184,
   "metadata": {},
   "outputs": [],
   "source": [
    "df_generators_fossil.rename(columns={\"fuel\":\"carrier\",\n",
    "                           \"capacity[MW]\":\"p_nom\"}, inplace=True)\n",
    "df_generators_fossil[\"committable\"] = True"
   ]
  },
  {
   "cell_type": "code",
   "execution_count": 185,
   "metadata": {},
   "outputs": [],
   "source": [
    "df_generators_fossil[\"bus\"] = 0\n",
    "\n",
    "for j in range(len(df_generators_fossil)):\n",
    "    # find index of \"Bundesland\" of each generator\n",
    "    indices = [i for i, s in enumerate(network.buses.name) if df_generators_fossil[\"state\"][j] in s]\n",
    "    df_generators_fossil.at[j, \"bus\"] = indices[0]\n",
    "    for k in range(len(added_vals)):\n",
    "        # insert corresponding values according to the unit commitment file to dataframe for import\n",
    "        df_generators_fossil.at[j, added_vals[k]] = df_generators_ucData[added_vals[k]][df_generators_fossil[\"carrier\"][j]]"
   ]
  },
  {
   "cell_type": "code",
   "execution_count": 186,
   "metadata": {},
   "outputs": [],
   "source": [
    "pypsa.io.import_components_from_dataframe(network, df_generators_fossil, \"Generator\")"
   ]
  },
  {
   "cell_type": "code",
   "execution_count": 187,
   "metadata": {},
   "outputs": [],
   "source": [
    "# Name of each Generator is a combination of state and carrier name (e.g. \"Berlin Erdgas\")\n",
    "gen_names = [\"{0} {1}\".format(s, c) for s, c in zip(df_generators_fossil[\"state\"], df_generators_fossil[\"carrier\"])]"
   ]
  },
  {
   "cell_type": "markdown",
   "metadata": {},
   "source": [
    "### Wind Energy"
   ]
  },
  {
   "cell_type": "code",
   "execution_count": 188,
   "metadata": {},
   "outputs": [],
   "source": [
    "df_info_wind = pd.DataFrame({\n",
    "    'name':['Nordsee', 'Ostsee'],\n",
    "    'bus':[17, 18],\n",
    "    'dispatch':[df_dispatch_wind.iloc[:,0], df_dispatch_wind.iloc[:,1]]\n",
    "})"
   ]
  },
  {
   "cell_type": "markdown",
   "metadata": {},
   "source": [
    "The nominal power of the generators was set to one because PyPSA internally multiplies p_nom with each value from p_min_pu and p_max_pu to get the dispatched power. Setting p_nom to one offers the possibility to leave the provided data as it is (in MWh)."
   ]
  },
  {
   "cell_type": "code",
   "execution_count": 190,
   "metadata": {},
   "outputs": [],
   "source": [
    "for i in range(len(df_info_wind)):\n",
    "    network.add(\"Generator\",\n",
    "       name=\"Offshore {}\".format(df_info_wind.loc[i, 'name']),\n",
    "       bus=df_info_wind.loc[i, 'bus'],\n",
    "       carrier=\"Wind\",\n",
    "       p_nom=1,\n",
    "       marginal_cost=marginal_costs_carrier[\"Wind\"],\n",
    "       # p_min_pu and p_max_pu have to be the same to ensure fixed amount of dispatched power\n",
    "       p_min_pu=df_info_wind.loc[i, 'dispatch'],\n",
    "       p_max_pu=df_info_wind.loc[i, 'dispatch'],\n",
    "       committable=False) "
   ]
  },
  {
   "cell_type": "markdown",
   "metadata": {},
   "source": [
    "Attaching EE-Generation"
   ]
  },
  {
   "cell_type": "code",
   "execution_count": 191,
   "metadata": {},
   "outputs": [],
   "source": [
    "for i in range(9):\n",
    "    tmp = s_dispatch_ee*laendervert[i]\n",
    "#     print(tmp)\n",
    "    network.add(\"Generator\", \"EE-Generator {}\".format(i),\n",
    "                bus=i,\n",
    "                carrier=\"ee\",\n",
    "                p_nom=1,\n",
    "                marginal_cost=marginal_costs_carrier[\"ee\"],\n",
    "                p_min_pu=tmp,\n",
    "                p_max_pu=tmp,\n",
    "                committable=False)"
   ]
  },
  {
   "cell_type": "markdown",
   "metadata": {},
   "source": [
    "### Attaching Loads"
   ]
  },
  {
   "cell_type": "markdown",
   "metadata": {},
   "source": [
    "Convert demand to different periods if necessary"
   ]
  },
  {
   "cell_type": "code",
   "execution_count": 192,
   "metadata": {},
   "outputs": [],
   "source": [
    "for i in range(9):\n",
    "#     demand_data_real = df_demand.iloc[:, i]\n",
    "    #print(i)\n",
    "    network.add(\"Load\",\n",
    "           \"myload{0}\".format(i),\n",
    "           bus=i,\n",
    "           # take datapoints corresponding to timestamps in network.snapshots\n",
    "           p_set=df_demand.iloc[:,i])"
   ]
  },
  {
   "cell_type": "markdown",
   "metadata": {},
   "source": [
    "## Linear Optimal Power Flow (incl. unit commitment for generators)"
   ]
  },
  {
   "cell_type": "code",
   "execution_count": 193,
   "metadata": {
    "scrolled": true
   },
   "outputs": [
    {
     "name": "stderr",
     "output_type": "stream",
     "text": [
      "INFO:pypsa.pf:Slack bus for sub-network 0 is 9\n",
      "INFO:pypsa.opf:Performed preliminary steps\n",
      "INFO:pypsa.opf:Building pyomo model using `angles` formulation\n",
      "INFO:pypsa.opf:Solving model using gurobi\n",
      "INFO:pypsa.opf:Optimization successful\n"
     ]
    },
    {
     "name": "stdout",
     "output_type": "stream",
     "text": [
      "# ==========================================================\n",
      "# = Solver Results                                         =\n",
      "# ==========================================================\n",
      "# ----------------------------------------------------------\n",
      "#   Problem Information\n",
      "# ----------------------------------------------------------\n",
      "Problem: \n",
      "- Name: x9457\n",
      "  Lower bound: 16954401.0661\n",
      "  Upper bound: 16954401.0661\n",
      "  Number of objectives: 1\n",
      "  Number of constraints: 13490\n",
      "  Number of variables: 9457\n",
      "  Number of binary variables: 1584\n",
      "  Number of integer variables: 1584\n",
      "  Number of continuous variables: 7873\n",
      "  Number of nonzeros: 32798\n",
      "  Sense: minimize\n",
      "# ----------------------------------------------------------\n",
      "#   Solver Information\n",
      "# ----------------------------------------------------------\n",
      "Solver: \n",
      "- Status: ok\n",
      "  Return code: 0\n",
      "  Message: Model was solved to optimality (subject to tolerances), and an optimal solution is available.\n",
      "  Termination condition: optimal\n",
      "  Termination message: Model was solved to optimality (subject to tolerances), and an optimal solution is available.\n",
      "  Wall time: 0.269975662231\n",
      "  Error rc: 0\n",
      "  Time: 0.635765552520752\n",
      "# ----------------------------------------------------------\n",
      "#   Solution Information\n",
      "# ----------------------------------------------------------\n",
      "Solution: \n",
      "- number of solutions: 0\n",
      "  number of solutions displayed: 0\n"
     ]
    },
    {
     "data": {
      "text/plain": [
       "('ok', 'optimal')"
      ]
     },
     "execution_count": 193,
     "metadata": {},
     "output_type": "execute_result"
    }
   ],
   "source": [
    "network.lopf(network.snapshots, solver_name=\"gurobi\")"
   ]
  },
  {
   "cell_type": "code",
   "execution_count": 194,
   "metadata": {},
   "outputs": [
    {
     "name": "stdout",
     "output_type": "stream",
     "text": [
      "Objective: 16,954,401.0661\n"
     ]
    }
   ],
   "source": [
    "print('Objective: ' + '{0:,}'.format(network.objective))"
   ]
  },
  {
   "cell_type": "markdown",
   "metadata": {},
   "source": [
    "## Exporting for Visualization & Analysis"
   ]
  },
  {
   "cell_type": "code",
   "execution_count": 195,
   "metadata": {},
   "outputs": [],
   "source": [
    "path_tmp = path_pickle_data + create_date_format(period)\n",
    "if not os.path.exists(path_tmp):\n",
    "    os.mkdir(path_tmp)"
   ]
  },
  {
   "cell_type": "code",
   "execution_count": 196,
   "metadata": {},
   "outputs": [],
   "source": [
    "filename = path_tmp + \"\\\\network\" + instance_info + \".pickle\"\n",
    "\n",
    "with open(filename, 'wb') as f:\n",
    "    pickle.dump(network, f)"
   ]
  },
  {
   "cell_type": "raw",
   "metadata": {},
   "source": [
    "with open(\"gen_names.pickle\", \"wb\") as f:\n",
    "    pickle.dump(gen_names, f)"
   ]
  },
  {
   "cell_type": "raw",
   "metadata": {},
   "source": [
    "with open(\"network_demand.pickle\", \"wb\") as f:\n",
    "    pickle.dump(df_demand, f)"
   ]
  },
  {
   "cell_type": "markdown",
   "metadata": {},
   "source": [
    "## Visualization"
   ]
  },
  {
   "cell_type": "code",
   "execution_count": 197,
   "metadata": {},
   "outputs": [],
   "source": [
    "gen_outs = network.generators_t.p\n",
    "# No negative values for plotting\n",
    "gen_outs[gen_outs < 0] = 0\n",
    "power_by_carrier = gen_outs.groupby(network.generators.carrier, axis=1).sum()"
   ]
  },
  {
   "cell_type": "code",
   "execution_count": 198,
   "metadata": {},
   "outputs": [],
   "source": [
    "graph_colors = {\"Erdgas\":\"orange\",\n",
    "                \"Braunkohle\":\"brown\",\n",
    "                \"Steinkohle\":\"black\",\n",
    "                \"Wind\":\"blue\",\n",
    "                \"ee\":\"green\",\n",
    "                \"Import\":\"red\"}\n",
    "\n",
    "col_order = [\"Wind\", \"ee\", \"Braunkohle\", \"Steinkohle\", \"Erdgas\", \"Import\"]\n",
    "power_by_carrier = power_by_carrier[col_order]"
   ]
  },
  {
   "cell_type": "code",
   "execution_count": 199,
   "metadata": {
    "scrolled": false
   },
   "outputs": [
    {
     "data": {
      "text/plain": [
       "Text(0,0.5,'MWh')"
      ]
     },
     "execution_count": 199,
     "metadata": {},
     "output_type": "execute_result"
    },
    {
     "data": {
      "image/png": "[encoded data removed]",
      "text/plain": [
       "<Figure size 2160x720 with 1 Axes>"
      ]
     },
     "metadata": {},
     "output_type": "display_data"
    }
   ],
   "source": [
    "fig,ax = plt.subplots(1,1)\n",
    "fig.set_size_inches(30,10)\n",
    "\n",
    "power_by_carrier.plot(kind=\"area\",ax=ax, grid=True, color=[graph_colors[i] for i in power_by_carrier.columns])\n",
    "\n",
    "ax.set_xlabel(\"Date\")\n",
    "ax.set_ylabel(\"MWh\")"
   ]
  },
  {
   "cell_type": "code",
   "execution_count": 200,
   "metadata": {},
   "outputs": [
    {
     "name": "stdout",
     "output_type": "stream",
     "text": [
      "Hello World\n"
     ]
    }
   ],
   "source": [
    "print(\"Hello World\")"
   ]
  }
 ],
 "metadata": {
  "kernelspec": {
   "display_name": "Python 3",
   "language": "python",
   "name": "python3"
  },
  "language_info": {
   "codemirror_mode": {
    "name": "ipython",
    "version": 3
   },
   "file_extension": ".py",
   "mimetype": "text/x-python",
   "name": "python",
   "nbconvert_exporter": "python",
   "pygments_lexer": "ipython3",
   "version": "3.6.4"
  }
 },
 "nbformat": 4,
 "nbformat_minor": 2
}
