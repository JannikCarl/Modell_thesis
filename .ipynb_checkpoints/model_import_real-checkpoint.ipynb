{
 "cells": [
  {
   "cell_type": "markdown",
   "metadata": {},
   "source": [
    "# Import des Netzwerks für das Modell"
   ]
  },
  {
   "cell_type": "markdown",
   "metadata": {},
   "source": [
    "### Einrichtung"
   ]
  },
  {
   "cell_type": "code",
   "execution_count": 2,
   "metadata": {},
   "outputs": [],
   "source": [
    "from __future__ import print_function, division\n",
    "import numpy as np\n",
    "import pandas as pd\n",
    "import matplotlib.pyplot as plt\n",
    "from datetime import datetime\n",
    "import math\n",
    "\n",
    "import pypsa\n",
    "\n",
    "%matplotlib inline"
   ]
  },
  {
   "cell_type": "markdown",
   "metadata": {},
   "source": [
    "## Setup"
   ]
  },
  {
   "cell_type": "markdown",
   "metadata": {},
   "source": [
    "Einrichtung aller wichtigen Kompnenten und Einlesen der Daten\n",
    "\n",
    "Die jeweiligen Daten entstammen einer anderen Bachelorarbeit und werden über die von pandas zur Verfügung gestellten Funktionen aus Excel-Dateien eingelesen und als Dataframe gespeichert. Aus diesem werden dann wiederum nur die benötigten Werte verwendet."
   ]
  },
  {
   "cell_type": "markdown",
   "metadata": {},
   "source": [
    "### Variablen"
   ]
  },
  {
   "cell_type": "code",
   "execution_count": 3,
   "metadata": {},
   "outputs": [],
   "source": [
    "nw = pypsa.Network()"
   ]
  },
  {
   "cell_type": "code",
   "execution_count": 4,
   "metadata": {},
   "outputs": [],
   "source": [
    "dates = pd.date_range(\"2015-11-01T04:00:00Z\", periods=5, freq=\"4H\")\n",
    "\n",
    "nw.set_snapshots(dates)"
   ]
  },
  {
   "cell_type": "code",
   "execution_count": 5,
   "metadata": {},
   "outputs": [],
   "source": [
    "cur_path = r\"C:\\Users\\janni\\OneDrive\\TU Berlin\\4 - Abschlussarbeiten\\01 - Bachelorarbeit\\modell\\data\\\\\""
   ]
  },
  {
   "cell_type": "markdown",
   "metadata": {},
   "source": [
    "### Einlesen der Datenbanken"
   ]
  },
  {
   "cell_type": "markdown",
   "metadata": {},
   "source": [
    "### Knotenpunkte"
   ]
  },
  {
   "cell_type": "code",
   "execution_count": 6,
   "metadata": {},
   "outputs": [],
   "source": [
    "ex1 = pd.ExcelFile(cur_path + \"map_cities.xlsx\")\n",
    "ex2 = pd.ExcelFile(cur_path + \"map_countries.xlsx\")\n",
    "\n",
    "all_gens = pd.read_excel(cur_path + \"Kraftwerksliste_ÜNB_Entwurf_Szenariorahmen_2030_V2019.xlsx\")"
   ]
  },
  {
   "cell_type": "code",
   "execution_count": 7,
   "metadata": {},
   "outputs": [
    {
     "name": "stderr",
     "output_type": "stream",
     "text": [
      "C:\\Users\\janni\\Anaconda3\\lib\\site-packages\\ipykernel_launcher.py:1: FutureWarning: the 'parse_cols' keyword is deprecated, use 'usecols' instead\n",
      "  \"\"\"Entry point for launching an IPython kernel.\n",
      "C:\\Users\\janni\\Anaconda3\\lib\\site-packages\\pandas\\util\\_decorators.py:118: FutureWarning: The `sheetname` keyword is deprecated, use `sheet_name` instead\n",
      "  return func(*args, **kwargs)\n",
      "C:\\Users\\janni\\Anaconda3\\lib\\site-packages\\ipykernel_launcher.py:2: FutureWarning: the 'parse_cols' keyword is deprecated, use 'usecols' instead\n",
      "  \n"
     ]
    }
   ],
   "source": [
    "df_cities = pd.read_excel(ex1, sheetname=\"buses\", header=0, parse_cols=\"B:D\")\n",
    "df_countries = pd.read_excel(ex2, sheetname=\"buses\", header=0, parse_cols=\"B:D\")\n",
    "df_buses = df_cities.append(df_countries).reset_index(drop=True)"
   ]
  },
  {
   "cell_type": "code",
   "execution_count": 8,
   "metadata": {},
   "outputs": [],
   "source": [
    "pypsa.io.import_components_from_dataframe(nw, df_buses, \"Bus\")"
   ]
  },
  {
   "cell_type": "markdown",
   "metadata": {},
   "source": [
    "### Leitungen"
   ]
  },
  {
   "cell_type": "code",
   "execution_count": 9,
   "metadata": {},
   "outputs": [
    {
     "name": "stderr",
     "output_type": "stream",
     "text": [
      "C:\\Users\\janni\\Anaconda3\\lib\\site-packages\\ipykernel_launcher.py:1: FutureWarning: the 'parse_cols' keyword is deprecated, use 'usecols' instead\n",
      "  \"\"\"Entry point for launching an IPython kernel.\n",
      "C:\\Users\\janni\\Anaconda3\\lib\\site-packages\\pandas\\util\\_decorators.py:118: FutureWarning: The `sheetname` keyword is deprecated, use `sheet_name` instead\n",
      "  return func(*args, **kwargs)\n",
      "C:\\Users\\janni\\Anaconda3\\lib\\site-packages\\ipykernel_launcher.py:2: FutureWarning: the 'parse_cols' keyword is deprecated, use 'usecols' instead\n",
      "  \n"
     ]
    }
   ],
   "source": [
    "df_cities_lines = pd.read_excel(ex1, sheetname=\"lines\", header=0, parse_cols=\"B:D\")\n",
    "df_countries_lines = pd.read_excel(ex2, sheetname=\"lines\", header=0, parse_cols=\"B:D\")\n",
    "df_lines = df_cities_lines.append(df_countries_lines).reset_index(drop=True)"
   ]
  },
  {
   "cell_type": "markdown",
   "metadata": {},
   "source": [
    "Calculating the length of each line by Pythagoras.\n",
    "The factor enables converting the distance in lattitude/longitude to kilometers"
   ]
  },
  {
   "cell_type": "code",
   "execution_count": 10,
   "metadata": {},
   "outputs": [],
   "source": [
    "df_lines[\"length\"] = 0\n",
    "factor_coords_to_km = 111\n",
    "\n",
    "for i in range(len(df_lines)):\n",
    "    x_val = df_buses[\"x\"][df_lines[\"bus0\"][i]] - df_buses[\"x\"][df_lines[\"bus1\"][i]]\n",
    "    y_val = df_buses[\"y\"][df_lines[\"bus0\"][i]] - df_buses[\"y\"][df_lines[\"bus1\"][i]]\n",
    "    df_lines.at[i, \"length\"] = (math.sqrt(x_val**2 + y_val**2) * factor_coords_to_km)"
   ]
  },
  {
   "cell_type": "code",
   "execution_count": 11,
   "metadata": {},
   "outputs": [],
   "source": [
    "pypsa.io.import_components_from_dataframe(nw, df_lines, \"Line\")"
   ]
  },
  {
   "cell_type": "code",
   "execution_count": 15,
   "metadata": {},
   "outputs": [
    {
     "data": {
      "text/plain": [
       "(<matplotlib.collections.PathCollection at 0x18d24331240>,\n",
       " <matplotlib.collections.LineCollection at 0x18d24331a20>)"
      ]
     },
     "execution_count": 15,
     "metadata": {},
     "output_type": "execute_result"
    },
    {
     "data": {
      "image/png": "[encoded data removed]",
      "text/plain": [
       "<matplotlib.figure.Figure at 0x18d2431c6a0>"
      ]
     },
     "metadata": {},
     "output_type": "display_data"
    }
   ],
   "source": [
    "fig,ax=plt.subplots(1,1)\n",
    "fig.set_size_inches(6,6)\n",
    "\n",
    "nw.plot(bus_sizes=20, title=\"Aufbau\")"
   ]
  },
  {
   "cell_type": "markdown",
   "metadata": {},
   "source": [
    "### Generators"
   ]
  },
  {
   "cell_type": "code",
   "execution_count": 22,
   "metadata": {},
   "outputs": [
    {
     "data": {
      "text/html": [
       "<div>\n",
       "<style scoped>\n",
       "    .dataframe tbody tr th:only-of-type {\n",
       "        vertical-align: middle;\n",
       "    }\n",
       "\n",
       "    .dataframe tbody tr th {\n",
       "        vertical-align: top;\n",
       "    }\n",
       "\n",
       "    .dataframe thead th {\n",
       "        text-align: right;\n",
       "    }\n",
       "</style>\n",
       "<table border=\"1\" class=\"dataframe\">\n",
       "  <thead>\n",
       "    <tr style=\"text-align: right;\">\n",
       "      <th></th>\n",
       "      <th></th>\n",
       "      <th>Annahmen ÜNB:\n",
       "Industriekraftwerk (Ja/Nein)</th>\n",
       "      <th>Betreiber</th>\n",
       "      <th>Bundesland</th>\n",
       "      <th>Energieträger</th>\n",
       "      <th>Inbetriebnahme (Jahr)</th>\n",
       "      <th>Kraftwerkskategorie gemäß Annahme ÜNB (Basisannahme)</th>\n",
       "      <th>Nettoleistung 31.12.2016 [MW]</th>\n",
       "      <th>Nettonennleistung A2030 [MW]</th>\n",
       "      <th>Nettonennleistung B2030 [MW]</th>\n",
       "      <th>Nettonennleistung B2035 [MW]</th>\n",
       "      <th>Nettonennleistung C2030 [MW]</th>\n",
       "      <th>Ort</th>\n",
       "      <th>Status 31.12.2016</th>\n",
       "      <th>Wärmeauskopplung KWK (Ja/Nein)</th>\n",
       "      <th>ÜNB</th>\n",
       "    </tr>\n",
       "    <tr>\n",
       "      <th>Energieträger</th>\n",
       "      <th>ÜNB</th>\n",
       "      <th></th>\n",
       "      <th></th>\n",
       "      <th></th>\n",
       "      <th></th>\n",
       "      <th></th>\n",
       "      <th></th>\n",
       "      <th></th>\n",
       "      <th></th>\n",
       "      <th></th>\n",
       "      <th></th>\n",
       "      <th></th>\n",
       "      <th></th>\n",
       "      <th></th>\n",
       "      <th></th>\n",
       "      <th></th>\n",
       "    </tr>\n",
       "  </thead>\n",
       "  <tbody>\n",
       "    <tr>\n",
       "      <th rowspan=\"3\" valign=\"top\">Braunkohle</th>\n",
       "      <th>50Hertz</th>\n",
       "      <td>Nein</td>\n",
       "      <td>eins - energie in sachsen GmbH &amp; Co. KG</td>\n",
       "      <td>Sachsen-Anhalt</td>\n",
       "      <td>Braunkohle</td>\n",
       "      <td>2012</td>\n",
       "      <td>Strommarktbasiert</td>\n",
       "      <td>875.0</td>\n",
       "      <td>875.0</td>\n",
       "      <td>875.0</td>\n",
       "      <td>875.0</td>\n",
       "      <td>875.0</td>\n",
       "      <td>Zeitz</td>\n",
       "      <td>In Betrieb</td>\n",
       "      <td>Nein</td>\n",
       "      <td>50Hertz</td>\n",
       "    </tr>\n",
       "    <tr>\n",
       "      <th>Amprion</th>\n",
       "      <td>Nein</td>\n",
       "      <td>Smurfit Kappa Zülpich Papier GmbH</td>\n",
       "      <td>Nordrhein-Westfalen</td>\n",
       "      <td>Braunkohle</td>\n",
       "      <td>2013</td>\n",
       "      <td>Strommarktbasiert</td>\n",
       "      <td>1060.0</td>\n",
       "      <td>1060.0</td>\n",
       "      <td>1060.0</td>\n",
       "      <td>1060.0</td>\n",
       "      <td>1060.0</td>\n",
       "      <td>Zülpich</td>\n",
       "      <td>In Betrieb</td>\n",
       "      <td>Nein</td>\n",
       "      <td>Amprion</td>\n",
       "    </tr>\n",
       "    <tr>\n",
       "      <th>TenneT</th>\n",
       "      <td>Nein</td>\n",
       "      <td>Städtische Werke Energie + Wärme GmbH</td>\n",
       "      <td>Hessen</td>\n",
       "      <td>Braunkohle</td>\n",
       "      <td>1988</td>\n",
       "      <td>Kraft-Wärme-Kopplung (KWK)</td>\n",
       "      <td>33.5</td>\n",
       "      <td>33.5</td>\n",
       "      <td>33.5</td>\n",
       "      <td>0.0</td>\n",
       "      <td>0.0</td>\n",
       "      <td>Kassel</td>\n",
       "      <td>In Betrieb</td>\n",
       "      <td>Ja</td>\n",
       "      <td>TenneT</td>\n",
       "    </tr>\n",
       "    <tr>\n",
       "      <th rowspan=\"4\" valign=\"top\">Erdgas</th>\n",
       "      <th>50Hertz</th>\n",
       "      <td>Nein</td>\n",
       "      <td>envia THERM GmbH</td>\n",
       "      <td>Thüringen</td>\n",
       "      <td>Erdgas</td>\n",
       "      <td>2017</td>\n",
       "      <td>Strommarktbasiert</td>\n",
       "      <td>444.0</td>\n",
       "      <td>444.0</td>\n",
       "      <td>444.0</td>\n",
       "      <td>444.0</td>\n",
       "      <td>444.0</td>\n",
       "      <td>Zwickau</td>\n",
       "      <td>In Betrieb</td>\n",
       "      <td>Nein</td>\n",
       "      <td>50Hertz</td>\n",
       "    </tr>\n",
       "    <tr>\n",
       "      <th>Amprion</th>\n",
       "      <td>Nein</td>\n",
       "      <td>ZF Friedrichshafen AG</td>\n",
       "      <td>Saarland</td>\n",
       "      <td>Erdgas</td>\n",
       "      <td>2016</td>\n",
       "      <td>Strommarktbasiert</td>\n",
       "      <td>595.0</td>\n",
       "      <td>595.0</td>\n",
       "      <td>595.0</td>\n",
       "      <td>595.0</td>\n",
       "      <td>595.0</td>\n",
       "      <td>Zülpich</td>\n",
       "      <td>In Betrieb</td>\n",
       "      <td>Nein</td>\n",
       "      <td>Amprion</td>\n",
       "    </tr>\n",
       "    <tr>\n",
       "      <th>TenneT</th>\n",
       "      <td>Nein</td>\n",
       "      <td>Wacker Chemie AG</td>\n",
       "      <td>Schleswig-Holstein</td>\n",
       "      <td>Erdgas</td>\n",
       "      <td>2016</td>\n",
       "      <td>Strommarktbasiert</td>\n",
       "      <td>444.5</td>\n",
       "      <td>444.5</td>\n",
       "      <td>444.5</td>\n",
       "      <td>444.5</td>\n",
       "      <td>444.5</td>\n",
       "      <td>Würzburg</td>\n",
       "      <td>In Betrieb</td>\n",
       "      <td>nein</td>\n",
       "      <td>TenneT</td>\n",
       "    </tr>\n",
       "    <tr>\n",
       "      <th>TransnetBW</th>\n",
       "      <td>Nein</td>\n",
       "      <td>entfällt</td>\n",
       "      <td>Baden-Württemberg</td>\n",
       "      <td>Erdgas</td>\n",
       "      <td>2017</td>\n",
       "      <td>Strommarktbasiert</td>\n",
       "      <td>228.0</td>\n",
       "      <td>228.0</td>\n",
       "      <td>228.0</td>\n",
       "      <td>228.0</td>\n",
       "      <td>228.0</td>\n",
       "      <td>Tübingen</td>\n",
       "      <td>In Betrieb</td>\n",
       "      <td>Nein</td>\n",
       "      <td>TransnetBW</td>\n",
       "    </tr>\n",
       "    <tr>\n",
       "      <th rowspan=\"4\" valign=\"top\">Steinkohle</th>\n",
       "      <th>50Hertz</th>\n",
       "      <td>Nein</td>\n",
       "      <td>Vattenfall Heizkraftwerk Moorburg GmbH</td>\n",
       "      <td>Schleswig-Holstein</td>\n",
       "      <td>Steinkohle</td>\n",
       "      <td>2015</td>\n",
       "      <td>Strommarktbasiert</td>\n",
       "      <td>800.0</td>\n",
       "      <td>800.0</td>\n",
       "      <td>800.0</td>\n",
       "      <td>800.0</td>\n",
       "      <td>800.0</td>\n",
       "      <td>Wedel</td>\n",
       "      <td>In Betrieb</td>\n",
       "      <td>Nein</td>\n",
       "      <td>50Hertz</td>\n",
       "    </tr>\n",
       "    <tr>\n",
       "      <th>Amprion</th>\n",
       "      <td>ja</td>\n",
       "      <td>WSW Energie &amp; Wasser AG</td>\n",
       "      <td>Saarland</td>\n",
       "      <td>Steinkohle</td>\n",
       "      <td>2014</td>\n",
       "      <td>Strommarktbasiert</td>\n",
       "      <td>794.0</td>\n",
       "      <td>794.0</td>\n",
       "      <td>763.7</td>\n",
       "      <td>763.7</td>\n",
       "      <td>763.7</td>\n",
       "      <td>Wuppertal</td>\n",
       "      <td>In Betrieb</td>\n",
       "      <td>Nein</td>\n",
       "      <td>Amprion</td>\n",
       "    </tr>\n",
       "    <tr>\n",
       "      <th>TenneT</th>\n",
       "      <td>Nein</td>\n",
       "      <td>swb Erzeugung GmbH &amp; Co. KG</td>\n",
       "      <td>Schleswig-Holstein</td>\n",
       "      <td>Steinkohle</td>\n",
       "      <td>2014</td>\n",
       "      <td>Strommarktbasiert</td>\n",
       "      <td>875.0</td>\n",
       "      <td>875.0</td>\n",
       "      <td>875.0</td>\n",
       "      <td>510.0</td>\n",
       "      <td>510.0</td>\n",
       "      <td>Zolling</td>\n",
       "      <td>In Betrieb</td>\n",
       "      <td>Nein</td>\n",
       "      <td>TenneT</td>\n",
       "    </tr>\n",
       "    <tr>\n",
       "      <th>TransnetBW</th>\n",
       "      <td>Nein</td>\n",
       "      <td>Koehler SE</td>\n",
       "      <td>Baden-Württemberg</td>\n",
       "      <td>Steinkohle</td>\n",
       "      <td>2015</td>\n",
       "      <td>Kraft-Wärme-Kopplung (KWK)</td>\n",
       "      <td>843.0</td>\n",
       "      <td>843.0</td>\n",
       "      <td>843.0</td>\n",
       "      <td>843.0</td>\n",
       "      <td>843.0</td>\n",
       "      <td>Ulm</td>\n",
       "      <td>In Betrieb</td>\n",
       "      <td>Ja</td>\n",
       "      <td>TransnetBW</td>\n",
       "    </tr>\n",
       "  </tbody>\n",
       "</table>\n",
       "</div>"
      ],
      "text/plain": [
       "                         Annahmen ÜNB:\\nIndustriekraftwerk (Ja/Nein)  \\\n",
       "Energieträger ÜNB                                                      \n",
       "Braunkohle    50Hertz                                           Nein   \n",
       "              Amprion                                           Nein   \n",
       "              TenneT                                            Nein   \n",
       "Erdgas        50Hertz                                           Nein   \n",
       "              Amprion                                           Nein   \n",
       "              TenneT                                            Nein   \n",
       "              TransnetBW                                        Nein   \n",
       "Steinkohle    50Hertz                                           Nein   \n",
       "              Amprion                                             ja   \n",
       "              TenneT                                            Nein   \n",
       "              TransnetBW                                        Nein   \n",
       "\n",
       "                                                        Betreiber  \\\n",
       "Energieträger ÜNB                                                   \n",
       "Braunkohle    50Hertz     eins - energie in sachsen GmbH & Co. KG   \n",
       "              Amprion           Smurfit Kappa Zülpich Papier GmbH   \n",
       "              TenneT        Städtische Werke Energie + Wärme GmbH   \n",
       "Erdgas        50Hertz                            envia THERM GmbH   \n",
       "              Amprion                       ZF Friedrichshafen AG   \n",
       "              TenneT                             Wacker Chemie AG   \n",
       "              TransnetBW                                 entfällt   \n",
       "Steinkohle    50Hertz      Vattenfall Heizkraftwerk Moorburg GmbH   \n",
       "              Amprion                     WSW Energie & Wasser AG   \n",
       "              TenneT                  swb Erzeugung GmbH & Co. KG   \n",
       "              TransnetBW                               Koehler SE   \n",
       "\n",
       "                                   Bundesland Energieträger  \\\n",
       "Energieträger ÜNB                                             \n",
       "Braunkohle    50Hertz          Sachsen-Anhalt    Braunkohle   \n",
       "              Amprion     Nordrhein-Westfalen    Braunkohle   \n",
       "              TenneT                   Hessen    Braunkohle   \n",
       "Erdgas        50Hertz               Thüringen        Erdgas   \n",
       "              Amprion                Saarland        Erdgas   \n",
       "              TenneT       Schleswig-Holstein        Erdgas   \n",
       "              TransnetBW    Baden-Württemberg        Erdgas   \n",
       "Steinkohle    50Hertz      Schleswig-Holstein    Steinkohle   \n",
       "              Amprion                Saarland    Steinkohle   \n",
       "              TenneT       Schleswig-Holstein    Steinkohle   \n",
       "              TransnetBW    Baden-Württemberg    Steinkohle   \n",
       "\n",
       "                          Inbetriebnahme (Jahr)  \\\n",
       "Energieträger ÜNB                                 \n",
       "Braunkohle    50Hertz                      2012   \n",
       "              Amprion                      2013   \n",
       "              TenneT                       1988   \n",
       "Erdgas        50Hertz                      2017   \n",
       "              Amprion                      2016   \n",
       "              TenneT                       2016   \n",
       "              TransnetBW                   2017   \n",
       "Steinkohle    50Hertz                      2015   \n",
       "              Amprion                      2014   \n",
       "              TenneT                       2014   \n",
       "              TransnetBW                   2015   \n",
       "\n",
       "                         Kraftwerkskategorie gemäß Annahme ÜNB (Basisannahme)  \\\n",
       "Energieträger ÜNB                                                               \n",
       "Braunkohle    50Hertz                                     Strommarktbasiert     \n",
       "              Amprion                                     Strommarktbasiert     \n",
       "              TenneT                             Kraft-Wärme-Kopplung (KWK)     \n",
       "Erdgas        50Hertz                                     Strommarktbasiert     \n",
       "              Amprion                                     Strommarktbasiert     \n",
       "              TenneT                                      Strommarktbasiert     \n",
       "              TransnetBW                                  Strommarktbasiert     \n",
       "Steinkohle    50Hertz                                     Strommarktbasiert     \n",
       "              Amprion                                     Strommarktbasiert     \n",
       "              TenneT                                      Strommarktbasiert     \n",
       "              TransnetBW                         Kraft-Wärme-Kopplung (KWK)     \n",
       "\n",
       "                          Nettoleistung 31.12.2016 [MW]  \\\n",
       "Energieträger ÜNB                                         \n",
       "Braunkohle    50Hertz                             875.0   \n",
       "              Amprion                            1060.0   \n",
       "              TenneT                               33.5   \n",
       "Erdgas        50Hertz                             444.0   \n",
       "              Amprion                             595.0   \n",
       "              TenneT                              444.5   \n",
       "              TransnetBW                          228.0   \n",
       "Steinkohle    50Hertz                             800.0   \n",
       "              Amprion                             794.0   \n",
       "              TenneT                              875.0   \n",
       "              TransnetBW                          843.0   \n",
       "\n",
       "                          Nettonennleistung A2030 [MW]  \\\n",
       "Energieträger ÜNB                                        \n",
       "Braunkohle    50Hertz                            875.0   \n",
       "              Amprion                           1060.0   \n",
       "              TenneT                              33.5   \n",
       "Erdgas        50Hertz                            444.0   \n",
       "              Amprion                            595.0   \n",
       "              TenneT                             444.5   \n",
       "              TransnetBW                         228.0   \n",
       "Steinkohle    50Hertz                            800.0   \n",
       "              Amprion                            794.0   \n",
       "              TenneT                             875.0   \n",
       "              TransnetBW                         843.0   \n",
       "\n",
       "                          Nettonennleistung B2030 [MW]  \\\n",
       "Energieträger ÜNB                                        \n",
       "Braunkohle    50Hertz                            875.0   \n",
       "              Amprion                           1060.0   \n",
       "              TenneT                              33.5   \n",
       "Erdgas        50Hertz                            444.0   \n",
       "              Amprion                            595.0   \n",
       "              TenneT                             444.5   \n",
       "              TransnetBW                         228.0   \n",
       "Steinkohle    50Hertz                            800.0   \n",
       "              Amprion                            763.7   \n",
       "              TenneT                             875.0   \n",
       "              TransnetBW                         843.0   \n",
       "\n",
       "                          Nettonennleistung B2035 [MW]  \\\n",
       "Energieträger ÜNB                                        \n",
       "Braunkohle    50Hertz                            875.0   \n",
       "              Amprion                           1060.0   \n",
       "              TenneT                               0.0   \n",
       "Erdgas        50Hertz                            444.0   \n",
       "              Amprion                            595.0   \n",
       "              TenneT                             444.5   \n",
       "              TransnetBW                         228.0   \n",
       "Steinkohle    50Hertz                            800.0   \n",
       "              Amprion                            763.7   \n",
       "              TenneT                             510.0   \n",
       "              TransnetBW                         843.0   \n",
       "\n",
       "                          Nettonennleistung C2030 [MW]        Ort  \\\n",
       "Energieträger ÜNB                                                   \n",
       "Braunkohle    50Hertz                            875.0      Zeitz   \n",
       "              Amprion                           1060.0    Zülpich   \n",
       "              TenneT                               0.0     Kassel   \n",
       "Erdgas        50Hertz                            444.0    Zwickau   \n",
       "              Amprion                            595.0    Zülpich   \n",
       "              TenneT                             444.5   Würzburg   \n",
       "              TransnetBW                         228.0   Tübingen   \n",
       "Steinkohle    50Hertz                            800.0      Wedel   \n",
       "              Amprion                            763.7  Wuppertal   \n",
       "              TenneT                             510.0    Zolling   \n",
       "              TransnetBW                         843.0        Ulm   \n",
       "\n",
       "                         Status 31.12.2016 Wärmeauskopplung KWK (Ja/Nein)  \\\n",
       "Energieträger ÜNB                                                           \n",
       "Braunkohle    50Hertz           In Betrieb                           Nein   \n",
       "              Amprion           In Betrieb                           Nein   \n",
       "              TenneT            In Betrieb                             Ja   \n",
       "Erdgas        50Hertz           In Betrieb                           Nein   \n",
       "              Amprion           In Betrieb                           Nein   \n",
       "              TenneT            In Betrieb                           nein   \n",
       "              TransnetBW        In Betrieb                           Nein   \n",
       "Steinkohle    50Hertz           In Betrieb                           Nein   \n",
       "              Amprion           In Betrieb                           Nein   \n",
       "              TenneT            In Betrieb                           Nein   \n",
       "              TransnetBW        In Betrieb                             Ja   \n",
       "\n",
       "                                 ÜNB  \n",
       "Energieträger ÜNB                     \n",
       "Braunkohle    50Hertz        50Hertz  \n",
       "              Amprion        Amprion  \n",
       "              TenneT          TenneT  \n",
       "Erdgas        50Hertz        50Hertz  \n",
       "              Amprion        Amprion  \n",
       "              TenneT          TenneT  \n",
       "              TransnetBW  TransnetBW  \n",
       "Steinkohle    50Hertz        50Hertz  \n",
       "              Amprion        Amprion  \n",
       "              TenneT          TenneT  \n",
       "              TransnetBW  TransnetBW  "
      ]
     },
     "execution_count": 22,
     "metadata": {},
     "output_type": "execute_result"
    }
   ],
   "source": [
    "# only active generators\n",
    "filtered = all_gens.loc[all_gens[\"Status 31.12.2016\"]==\"In Betrieb\"]\n",
    "# take the most powerful of each type of generator for each of the ÜNB\n",
    "filtered = filtered.groupby([all_gens[\"Energieträger\"], all_gens[\"ÜNB\"]]).max()\n",
    "# only 3 kinds of energiesource\n",
    "classic_gens = filtered[(filtered.Energieträger==\"Braunkohle\") | (filtered.Energieträger==\"Steinkohle\") | (filtered.Energieträger==\"Erdgas\")]\n",
    "# get rid of multiple index columns\n",
    "# classic_gens.reset_index(drop=True, inplace=True)\n",
    "classic_gens"
   ]
  },
  {
   "cell_type": "code",
   "execution_count": 19,
   "metadata": {},
   "outputs": [
    {
     "data": {
      "text/html": [
       "<div>\n",
       "<style scoped>\n",
       "    .dataframe tbody tr th:only-of-type {\n",
       "        vertical-align: middle;\n",
       "    }\n",
       "\n",
       "    .dataframe tbody tr th {\n",
       "        vertical-align: top;\n",
       "    }\n",
       "\n",
       "    .dataframe thead th {\n",
       "        text-align: right;\n",
       "    }\n",
       "</style>\n",
       "<table border=\"1\" class=\"dataframe\">\n",
       "  <thead>\n",
       "    <tr style=\"text-align: right;\">\n",
       "      <th></th>\n",
       "      <th>Annahmen ÜNB:\n",
       "Industriekraftwerk (Ja/Nein)</th>\n",
       "      <th>Betreiber</th>\n",
       "      <th>Bundesland</th>\n",
       "      <th>Energieträger</th>\n",
       "      <th>Inbetriebnahme (Jahr)</th>\n",
       "      <th>Kraftwerkskategorie gemäß Annahme ÜNB (Basisannahme)</th>\n",
       "      <th>Nettoleistung 31.12.2016 [MW]</th>\n",
       "      <th>Nettonennleistung A2030 [MW]</th>\n",
       "      <th>Nettonennleistung B2030 [MW]</th>\n",
       "      <th>Nettonennleistung B2035 [MW]</th>\n",
       "      <th>Nettonennleistung C2030 [MW]</th>\n",
       "      <th>Ort</th>\n",
       "      <th>Status 31.12.2016</th>\n",
       "      <th>Wärmeauskopplung KWK (Ja/Nein)</th>\n",
       "      <th>ÜNB</th>\n",
       "    </tr>\n",
       "  </thead>\n",
       "  <tbody>\n",
       "    <tr>\n",
       "      <th>0</th>\n",
       "      <td>Nein</td>\n",
       "      <td>eins - energie in sachsen GmbH &amp; Co. KG</td>\n",
       "      <td>Sachsen-Anhalt</td>\n",
       "      <td>Braunkohle</td>\n",
       "      <td>2012</td>\n",
       "      <td>Strommarktbasiert</td>\n",
       "      <td>875.0</td>\n",
       "      <td>875.0</td>\n",
       "      <td>875.0</td>\n",
       "      <td>875.0</td>\n",
       "      <td>875.0</td>\n",
       "      <td>Zeitz</td>\n",
       "      <td>In Betrieb</td>\n",
       "      <td>Nein</td>\n",
       "      <td>50Hertz</td>\n",
       "    </tr>\n",
       "    <tr>\n",
       "      <th>1</th>\n",
       "      <td>Nein</td>\n",
       "      <td>Smurfit Kappa Zülpich Papier GmbH</td>\n",
       "      <td>Nordrhein-Westfalen</td>\n",
       "      <td>Braunkohle</td>\n",
       "      <td>2013</td>\n",
       "      <td>Strommarktbasiert</td>\n",
       "      <td>1060.0</td>\n",
       "      <td>1060.0</td>\n",
       "      <td>1060.0</td>\n",
       "      <td>1060.0</td>\n",
       "      <td>1060.0</td>\n",
       "      <td>Zülpich</td>\n",
       "      <td>In Betrieb</td>\n",
       "      <td>Nein</td>\n",
       "      <td>Amprion</td>\n",
       "    </tr>\n",
       "    <tr>\n",
       "      <th>2</th>\n",
       "      <td>Nein</td>\n",
       "      <td>Städtische Werke Energie + Wärme GmbH</td>\n",
       "      <td>Hessen</td>\n",
       "      <td>Braunkohle</td>\n",
       "      <td>1988</td>\n",
       "      <td>Kraft-Wärme-Kopplung (KWK)</td>\n",
       "      <td>33.5</td>\n",
       "      <td>33.5</td>\n",
       "      <td>33.5</td>\n",
       "      <td>0.0</td>\n",
       "      <td>0.0</td>\n",
       "      <td>Kassel</td>\n",
       "      <td>In Betrieb</td>\n",
       "      <td>Ja</td>\n",
       "      <td>TenneT</td>\n",
       "    </tr>\n",
       "    <tr>\n",
       "      <th>3</th>\n",
       "      <td>Nein</td>\n",
       "      <td>envia THERM GmbH</td>\n",
       "      <td>Thüringen</td>\n",
       "      <td>Erdgas</td>\n",
       "      <td>2017</td>\n",
       "      <td>Strommarktbasiert</td>\n",
       "      <td>444.0</td>\n",
       "      <td>444.0</td>\n",
       "      <td>444.0</td>\n",
       "      <td>444.0</td>\n",
       "      <td>444.0</td>\n",
       "      <td>Zwickau</td>\n",
       "      <td>In Betrieb</td>\n",
       "      <td>Nein</td>\n",
       "      <td>50Hertz</td>\n",
       "    </tr>\n",
       "    <tr>\n",
       "      <th>4</th>\n",
       "      <td>Nein</td>\n",
       "      <td>ZF Friedrichshafen AG</td>\n",
       "      <td>Saarland</td>\n",
       "      <td>Erdgas</td>\n",
       "      <td>2016</td>\n",
       "      <td>Strommarktbasiert</td>\n",
       "      <td>595.0</td>\n",
       "      <td>595.0</td>\n",
       "      <td>595.0</td>\n",
       "      <td>595.0</td>\n",
       "      <td>595.0</td>\n",
       "      <td>Zülpich</td>\n",
       "      <td>In Betrieb</td>\n",
       "      <td>Nein</td>\n",
       "      <td>Amprion</td>\n",
       "    </tr>\n",
       "    <tr>\n",
       "      <th>5</th>\n",
       "      <td>Nein</td>\n",
       "      <td>Wacker Chemie AG</td>\n",
       "      <td>Schleswig-Holstein</td>\n",
       "      <td>Erdgas</td>\n",
       "      <td>2016</td>\n",
       "      <td>Strommarktbasiert</td>\n",
       "      <td>444.5</td>\n",
       "      <td>444.5</td>\n",
       "      <td>444.5</td>\n",
       "      <td>444.5</td>\n",
       "      <td>444.5</td>\n",
       "      <td>Würzburg</td>\n",
       "      <td>In Betrieb</td>\n",
       "      <td>nein</td>\n",
       "      <td>TenneT</td>\n",
       "    </tr>\n",
       "    <tr>\n",
       "      <th>6</th>\n",
       "      <td>Nein</td>\n",
       "      <td>entfällt</td>\n",
       "      <td>Baden-Württemberg</td>\n",
       "      <td>Erdgas</td>\n",
       "      <td>2017</td>\n",
       "      <td>Strommarktbasiert</td>\n",
       "      <td>228.0</td>\n",
       "      <td>228.0</td>\n",
       "      <td>228.0</td>\n",
       "      <td>228.0</td>\n",
       "      <td>228.0</td>\n",
       "      <td>Tübingen</td>\n",
       "      <td>In Betrieb</td>\n",
       "      <td>Nein</td>\n",
       "      <td>TransnetBW</td>\n",
       "    </tr>\n",
       "    <tr>\n",
       "      <th>7</th>\n",
       "      <td>Nein</td>\n",
       "      <td>Vattenfall Heizkraftwerk Moorburg GmbH</td>\n",
       "      <td>Schleswig-Holstein</td>\n",
       "      <td>Steinkohle</td>\n",
       "      <td>2015</td>\n",
       "      <td>Strommarktbasiert</td>\n",
       "      <td>800.0</td>\n",
       "      <td>800.0</td>\n",
       "      <td>800.0</td>\n",
       "      <td>800.0</td>\n",
       "      <td>800.0</td>\n",
       "      <td>Wedel</td>\n",
       "      <td>In Betrieb</td>\n",
       "      <td>Nein</td>\n",
       "      <td>50Hertz</td>\n",
       "    </tr>\n",
       "    <tr>\n",
       "      <th>8</th>\n",
       "      <td>ja</td>\n",
       "      <td>WSW Energie &amp; Wasser AG</td>\n",
       "      <td>Saarland</td>\n",
       "      <td>Steinkohle</td>\n",
       "      <td>2014</td>\n",
       "      <td>Strommarktbasiert</td>\n",
       "      <td>794.0</td>\n",
       "      <td>794.0</td>\n",
       "      <td>763.7</td>\n",
       "      <td>763.7</td>\n",
       "      <td>763.7</td>\n",
       "      <td>Wuppertal</td>\n",
       "      <td>In Betrieb</td>\n",
       "      <td>Nein</td>\n",
       "      <td>Amprion</td>\n",
       "    </tr>\n",
       "    <tr>\n",
       "      <th>9</th>\n",
       "      <td>Nein</td>\n",
       "      <td>swb Erzeugung GmbH &amp; Co. KG</td>\n",
       "      <td>Schleswig-Holstein</td>\n",
       "      <td>Steinkohle</td>\n",
       "      <td>2014</td>\n",
       "      <td>Strommarktbasiert</td>\n",
       "      <td>875.0</td>\n",
       "      <td>875.0</td>\n",
       "      <td>875.0</td>\n",
       "      <td>510.0</td>\n",
       "      <td>510.0</td>\n",
       "      <td>Zolling</td>\n",
       "      <td>In Betrieb</td>\n",
       "      <td>Nein</td>\n",
       "      <td>TenneT</td>\n",
       "    </tr>\n",
       "    <tr>\n",
       "      <th>10</th>\n",
       "      <td>Nein</td>\n",
       "      <td>Koehler SE</td>\n",
       "      <td>Baden-Württemberg</td>\n",
       "      <td>Steinkohle</td>\n",
       "      <td>2015</td>\n",
       "      <td>Kraft-Wärme-Kopplung (KWK)</td>\n",
       "      <td>843.0</td>\n",
       "      <td>843.0</td>\n",
       "      <td>843.0</td>\n",
       "      <td>843.0</td>\n",
       "      <td>843.0</td>\n",
       "      <td>Ulm</td>\n",
       "      <td>In Betrieb</td>\n",
       "      <td>Ja</td>\n",
       "      <td>TransnetBW</td>\n",
       "    </tr>\n",
       "  </tbody>\n",
       "</table>\n",
       "</div>"
      ],
      "text/plain": [
       "   Annahmen ÜNB:\\nIndustriekraftwerk (Ja/Nein)  \\\n",
       "0                                         Nein   \n",
       "1                                         Nein   \n",
       "2                                         Nein   \n",
       "3                                         Nein   \n",
       "4                                         Nein   \n",
       "5                                         Nein   \n",
       "6                                         Nein   \n",
       "7                                         Nein   \n",
       "8                                           ja   \n",
       "9                                         Nein   \n",
       "10                                        Nein   \n",
       "\n",
       "                                  Betreiber           Bundesland  \\\n",
       "0   eins - energie in sachsen GmbH & Co. KG       Sachsen-Anhalt   \n",
       "1         Smurfit Kappa Zülpich Papier GmbH  Nordrhein-Westfalen   \n",
       "2     Städtische Werke Energie + Wärme GmbH               Hessen   \n",
       "3                          envia THERM GmbH            Thüringen   \n",
       "4                     ZF Friedrichshafen AG             Saarland   \n",
       "5                          Wacker Chemie AG   Schleswig-Holstein   \n",
       "6                                  entfällt    Baden-Württemberg   \n",
       "7    Vattenfall Heizkraftwerk Moorburg GmbH   Schleswig-Holstein   \n",
       "8                   WSW Energie & Wasser AG             Saarland   \n",
       "9               swb Erzeugung GmbH & Co. KG   Schleswig-Holstein   \n",
       "10                               Koehler SE    Baden-Württemberg   \n",
       "\n",
       "   Energieträger  Inbetriebnahme (Jahr)  \\\n",
       "0     Braunkohle                   2012   \n",
       "1     Braunkohle                   2013   \n",
       "2     Braunkohle                   1988   \n",
       "3         Erdgas                   2017   \n",
       "4         Erdgas                   2016   \n",
       "5         Erdgas                   2016   \n",
       "6         Erdgas                   2017   \n",
       "7     Steinkohle                   2015   \n",
       "8     Steinkohle                   2014   \n",
       "9     Steinkohle                   2014   \n",
       "10    Steinkohle                   2015   \n",
       "\n",
       "   Kraftwerkskategorie gemäß Annahme ÜNB (Basisannahme)  \\\n",
       "0                                   Strommarktbasiert     \n",
       "1                                   Strommarktbasiert     \n",
       "2                          Kraft-Wärme-Kopplung (KWK)     \n",
       "3                                   Strommarktbasiert     \n",
       "4                                   Strommarktbasiert     \n",
       "5                                   Strommarktbasiert     \n",
       "6                                   Strommarktbasiert     \n",
       "7                                   Strommarktbasiert     \n",
       "8                                   Strommarktbasiert     \n",
       "9                                   Strommarktbasiert     \n",
       "10                         Kraft-Wärme-Kopplung (KWK)     \n",
       "\n",
       "    Nettoleistung 31.12.2016 [MW]  Nettonennleistung A2030 [MW]  \\\n",
       "0                           875.0                         875.0   \n",
       "1                          1060.0                        1060.0   \n",
       "2                            33.5                          33.5   \n",
       "3                           444.0                         444.0   \n",
       "4                           595.0                         595.0   \n",
       "5                           444.5                         444.5   \n",
       "6                           228.0                         228.0   \n",
       "7                           800.0                         800.0   \n",
       "8                           794.0                         794.0   \n",
       "9                           875.0                         875.0   \n",
       "10                          843.0                         843.0   \n",
       "\n",
       "    Nettonennleistung B2030 [MW]  Nettonennleistung B2035 [MW]  \\\n",
       "0                          875.0                         875.0   \n",
       "1                         1060.0                        1060.0   \n",
       "2                           33.5                           0.0   \n",
       "3                          444.0                         444.0   \n",
       "4                          595.0                         595.0   \n",
       "5                          444.5                         444.5   \n",
       "6                          228.0                         228.0   \n",
       "7                          800.0                         800.0   \n",
       "8                          763.7                         763.7   \n",
       "9                          875.0                         510.0   \n",
       "10                         843.0                         843.0   \n",
       "\n",
       "    Nettonennleistung C2030 [MW]        Ort Status 31.12.2016  \\\n",
       "0                          875.0      Zeitz        In Betrieb   \n",
       "1                         1060.0    Zülpich        In Betrieb   \n",
       "2                            0.0     Kassel        In Betrieb   \n",
       "3                          444.0    Zwickau        In Betrieb   \n",
       "4                          595.0    Zülpich        In Betrieb   \n",
       "5                          444.5   Würzburg        In Betrieb   \n",
       "6                          228.0   Tübingen        In Betrieb   \n",
       "7                          800.0      Wedel        In Betrieb   \n",
       "8                          763.7  Wuppertal        In Betrieb   \n",
       "9                          510.0    Zolling        In Betrieb   \n",
       "10                         843.0        Ulm        In Betrieb   \n",
       "\n",
       "   Wärmeauskopplung KWK (Ja/Nein)         ÜNB  \n",
       "0                            Nein     50Hertz  \n",
       "1                            Nein     Amprion  \n",
       "2                              Ja      TenneT  \n",
       "3                            Nein     50Hertz  \n",
       "4                            Nein     Amprion  \n",
       "5                            nein      TenneT  \n",
       "6                            Nein  TransnetBW  \n",
       "7                            Nein     50Hertz  \n",
       "8                            Nein     Amprion  \n",
       "9                            Nein      TenneT  \n",
       "10                             Ja  TransnetBW  "
      ]
     },
     "execution_count": 19,
     "metadata": {},
     "output_type": "execute_result"
    }
   ],
   "source": [
    "classic_gens.reset_index(drop=True)"
   ]
  },
  {
   "cell_type": "markdown",
   "metadata": {},
   "source": [
    "Zuerst werden die zur Verfügung gestellten Daten eingelesen, danach werden diese noch um einige benötigte Werte von Hand erweitert, die zur Durchführung des Unit Commitment nötig sind"
   ]
  },
  {
   "cell_type": "raw",
   "metadata": {
    "collapsed": true
   },
   "source": [
    "# Einlesen der Kraftwerke\n",
    "gen_data = [pd.DataFrame for i in range(2)]\n",
    "ex = pd.ExcelFile(cur_path + \"Technische Daten Gaskraftwerke.xlsx\")\n",
    "\n",
    "for i in range(len(gen_data)):\n",
    "    # Extract last two columns from worksheet and only rows 5-14\n",
    "    gen_data[i] = ex.parse(i).iloc[4:13,[-2,-1]]\n",
    "    # Use values from first column as index\n",
    "    gen_data[i].index = gen_data[i].iloc[:,0]\n",
    "    # Delete column in the middle\n",
    "    gen_data[i] = gen_data[i].iloc[:, -1]\n",
    "    gen_data[i].set_value(\"committable\", True)"
   ]
  },
  {
   "cell_type": "raw",
   "metadata": {
    "collapsed": true
   },
   "source": [
    "# Einlesen der Wind- und Lastdaten\n",
    "wind_data = pd.read_excel(cur_path + \"Stromlast und Windeinspeisung.xlsx\",\n",
    "                    sheet_name=\"Tabelle1\",\n",
    "                    header=3,\n",
    "                    index_col=0,\n",
    "                    parse_cols=\"A:F\")\n",
    "\n",
    "# Extract only the first day, every Xh\n",
    "intervall = 16\n",
    "wind_data_modell = wind_data.iloc[intervall::intervall,[0,1]].head((96//intervall)-1)"
   ]
  },
  {
   "cell_type": "markdown",
   "metadata": {},
   "source": [
    "### Temporary Additional code\n",
    "### ================================================"
   ]
  },
  {
   "cell_type": "raw",
   "metadata": {
    "collapsed": true
   },
   "source": [
    "filenames = [\"vertices\", \"lines\", \"loads_modell\"]\n",
    "units = [\"Bus\", \"Line\", \"Load\"]\n",
    "components = [pd.DataFrame for i in range(len(filenames))]"
   ]
  },
  {
   "cell_type": "raw",
   "metadata": {
    "collapsed": true
   },
   "source": [
    "# importing the other components as DataFrames\n",
    "for i in range(len(components)):\n",
    "    components[i] = pd.read_csv(cur_path + filenames[i] + \".csv\")\n",
    "    components[i].fillna(0,inplace=True)\n",
    "\n",
    "components[1].rename(columns={\"wid\":\"x\",\"len\":\"length\",\"cap\":\"s_nom\"},inplace=True)"
   ]
  },
  {
   "cell_type": "raw",
   "metadata": {
    "collapsed": true
   },
   "source": [
    "#adapting the load-data\n",
    "wind_data_modell[\"Last\"] = wind_data_modell[\"Last\"]/7\n",
    "gen_data[1][1] = gen_data[1][1]*3"
   ]
  },
  {
   "cell_type": "markdown",
   "metadata": {},
   "source": [
    "### ================================================"
   ]
  },
  {
   "cell_type": "markdown",
   "metadata": {},
   "source": [
    "Einlesen der als *.csv gespeicherten Daten in ein pandas DataFrame, alle NaN werden durch 0 ersetzt"
   ]
  },
  {
   "cell_type": "markdown",
   "metadata": {},
   "source": [
    "Uebertragen der Daten von pandas in das Netzwerk"
   ]
  },
  {
   "cell_type": "code",
   "execution_count": 14,
   "metadata": {},
   "outputs": [
    {
     "ename": "NameError",
     "evalue": "name 'components' is not defined",
     "output_type": "error",
     "traceback": [
      "\u001b[1;31m---------------------------------------------------------------------------\u001b[0m",
      "\u001b[1;31mNameError\u001b[0m                                 Traceback (most recent call last)",
      "\u001b[1;32m<ipython-input-14-af4b154ed1a1>\u001b[0m in \u001b[0;36m<module>\u001b[1;34m()\u001b[0m\n\u001b[1;32m----> 1\u001b[1;33m \u001b[1;32mfor\u001b[0m \u001b[0mi\u001b[0m \u001b[1;32min\u001b[0m \u001b[0mrange\u001b[0m\u001b[1;33m(\u001b[0m\u001b[0mlen\u001b[0m\u001b[1;33m(\u001b[0m\u001b[0mcomponents\u001b[0m\u001b[1;33m)\u001b[0m\u001b[1;33m)\u001b[0m\u001b[1;33m:\u001b[0m\u001b[1;33m\u001b[0m\u001b[0m\n\u001b[0m\u001b[0;32m      2\u001b[0m     \u001b[0mpypsa\u001b[0m\u001b[1;33m.\u001b[0m\u001b[0mio\u001b[0m\u001b[1;33m.\u001b[0m\u001b[0mimport_components_from_dataframe\u001b[0m\u001b[1;33m(\u001b[0m\u001b[0mnw\u001b[0m\u001b[1;33m,\u001b[0m \u001b[0mcomponents\u001b[0m\u001b[1;33m[\u001b[0m\u001b[0mi\u001b[0m\u001b[1;33m]\u001b[0m\u001b[1;33m,\u001b[0m \u001b[0munits\u001b[0m\u001b[1;33m[\u001b[0m\u001b[0mi\u001b[0m\u001b[1;33m]\u001b[0m\u001b[1;33m)\u001b[0m\u001b[1;33m\u001b[0m\u001b[0m\n",
      "\u001b[1;31mNameError\u001b[0m: name 'components' is not defined"
     ]
    }
   ],
   "source": [
    "for i in range(len(components)):\n",
    "    pypsa.io.import_components_from_dataframe(nw, components[i], units[i])"
   ]
  },
  {
   "cell_type": "code",
   "execution_count": null,
   "metadata": {},
   "outputs": [],
   "source": [
    "gen_temp_df = pd.DataFrame({1:gen_data[0], 2:gen_data[1]})"
   ]
  },
  {
   "cell_type": "code",
   "execution_count": null,
   "metadata": {},
   "outputs": [],
   "source": [
    "pypsa.io.import_components_from_dataframe(nw, gen_temp_df.T, \"Generator\")"
   ]
  },
  {
   "cell_type": "code",
   "execution_count": null,
   "metadata": {},
   "outputs": [],
   "source": [
    "gen_temp_df.T"
   ]
  },
  {
   "cell_type": "code",
   "execution_count": null,
   "metadata": {},
   "outputs": [],
   "source": [
    "nw.add(\"Generator\", \"0\",\n",
    "       bus=2,\n",
    "       carrier=\"wind\",\n",
    "       p_nom=\"3000\",\n",
    "       committable=True,\n",
    "       efficiency=0.95,\n",
    "       ramp_limit_up=100,\n",
    "       ramp_limit_down=100,\n",
    "       marginal_cost=5,\n",
    "       p_min=\"5\")"
   ]
  },
  {
   "cell_type": "code",
   "execution_count": null,
   "metadata": {},
   "outputs": [],
   "source": [
    "# wind_temp_df"
   ]
  },
  {
   "cell_type": "code",
   "execution_count": null,
   "metadata": {},
   "outputs": [],
   "source": [
    "nw.buses"
   ]
  },
  {
   "cell_type": "code",
   "execution_count": null,
   "metadata": {},
   "outputs": [],
   "source": [
    "nw.lines"
   ]
  },
  {
   "cell_type": "code",
   "execution_count": null,
   "metadata": {},
   "outputs": [],
   "source": [
    "nw.generators.T[[\"0\", \"1\", \"2\"]]"
   ]
  },
  {
   "cell_type": "markdown",
   "metadata": {},
   "source": [
    "Einlesen der Werte pro Zeitintervall"
   ]
  },
  {
   "cell_type": "code",
   "execution_count": null,
   "metadata": {},
   "outputs": [],
   "source": [
    "wind_temp_df = pd.DataFrame({\"0\":wind_data_modell[\"Windeinspeisung Original\"]})\n",
    "wind_temp_df.index = nw.snapshots\n",
    "# nw.import_series_from_dataframe(wind_temp_df, \"Generator\", \"p_set\")"
   ]
  },
  {
   "cell_type": "code",
   "execution_count": null,
   "metadata": {},
   "outputs": [],
   "source": [
    "nw.generators_t.p_set[\"0\"] = wind_temp_df[\"0\"]"
   ]
  },
  {
   "cell_type": "code",
   "execution_count": null,
   "metadata": {},
   "outputs": [],
   "source": [
    "load_temp_df = pd.DataFrame({\"0\":wind_data_modell[\"Last\"]})\n",
    "load_temp_df.index = nw.snapshots\n",
    "# nw.import_series_from_dataframe(load_temp_df, \"Load\", \"p_set\")\n",
    "nw.loads_t.p_set[\"0\"] = load_temp_df[\"0\"]"
   ]
  },
  {
   "cell_type": "markdown",
   "metadata": {},
   "source": [
    "## Aufbereitung der Daten"
   ]
  },
  {
   "cell_type": "code",
   "execution_count": null,
   "metadata": {},
   "outputs": [],
   "source": [
    "nw.lopf()"
   ]
  },
  {
   "cell_type": "markdown",
   "metadata": {},
   "source": [
    "## Visualization"
   ]
  },
  {
   "cell_type": "code",
   "execution_count": null,
   "metadata": {},
   "outputs": [],
   "source": [
    "gen_outs = nw.generators_t.p\n",
    "caps_by_carrier = nw.generators.groupby(\"carrier\")[\"p_nom\"].sum()\n",
    "gen_pot_remaining = nw.generators.p_nom - gen_outs"
   ]
  },
  {
   "cell_type": "markdown",
   "metadata": {},
   "source": [
    "Line graph to display the dispatched amount of energy per plant"
   ]
  },
  {
   "cell_type": "code",
   "execution_count": null,
   "metadata": {},
   "outputs": [],
   "source": [
    "gen_plot = gen_outs.plot(kind=\"area\",grid=True)\n",
    "lines, labels = gen_plot.get_legend_handles_labels()\n",
    "gen_plot.legend(lines[:len(nw.generators)], nw.generators['name'].values.tolist(), loc='best')\n",
    "plt.ylabel(\"MW\")"
   ]
  },
  {
   "cell_type": "markdown",
   "metadata": {},
   "source": [
    "network graph showing the distribution of buses etc."
   ]
  },
  {
   "cell_type": "code",
   "execution_count": null,
   "metadata": {},
   "outputs": [],
   "source": [
    "nw.generators_t.p_nom_opt"
   ]
  },
  {
   "cell_type": "code",
   "execution_count": null,
   "metadata": {},
   "outputs": [],
   "source": [
    "bmplot.plot(nw, title=\"Aufbau Netz\")\n",
    "plt.xlim([0,120])\n",
    "plt.ylim([0,120])"
   ]
  }
 ],
 "metadata": {
  "kernelspec": {
   "display_name": "Python 3",
   "language": "python",
   "name": "python3"
  }
 },
 "nbformat": 4,
 "nbformat_minor": 2
}
