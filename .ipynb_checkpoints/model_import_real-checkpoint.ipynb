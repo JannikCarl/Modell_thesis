{
 "cells": [
  {
   "cell_type": "markdown",
   "metadata": {},
   "source": [
    "# Import des Netzwerks für das Modell"
   ]
  },
  {
   "cell_type": "markdown",
   "metadata": {},
   "source": [
    "### Einrichtung"
   ]
  },
  {
   "cell_type": "code",
   "execution_count": 1,
   "metadata": {},
   "outputs": [],
   "source": [
    "from __future__ import print_function, division\n",
    "import numpy as np\n",
    "import pandas as pd\n",
    "import matplotlib.pyplot as plt\n",
    "from datetime import datetime\n",
    "import math\n",
    "\n",
    "import pypsa\n",
    "\n",
    "%matplotlib inline"
   ]
  },
  {
   "cell_type": "markdown",
   "metadata": {},
   "source": [
    "## Setup"
   ]
  },
  {
   "cell_type": "markdown",
   "metadata": {},
   "source": [
    "Einrichtung aller wichtigen Kompnenten und Einlesen der Daten\n",
    "\n",
    "Die jeweiligen Daten entstammen einer anderen Bachelorarbeit und werden über die von pandas zur Verfügung gestellten Funktionen aus Excel-Dateien eingelesen und als Dataframe gespeichert. Aus diesem werden dann wiederum nur die benötigten Werte verwendet."
   ]
  },
  {
   "cell_type": "markdown",
   "metadata": {},
   "source": [
    "### Variablen"
   ]
  },
  {
   "cell_type": "code",
   "execution_count": 2,
   "metadata": {},
   "outputs": [],
   "source": [
    "nw = pypsa.Network()"
   ]
  },
  {
   "cell_type": "code",
   "execution_count": 3,
   "metadata": {},
   "outputs": [],
   "source": [
    "dates = pd.date_range(\"2015-11-01T04:00:00Z\", periods=5, freq=\"4H\")\n",
    "\n",
    "nw.set_snapshots(dates)"
   ]
  },
  {
   "cell_type": "code",
   "execution_count": 4,
   "metadata": {},
   "outputs": [],
   "source": [
    "cur_path = r\"C:\\Users\\janni\\OneDrive\\TU Berlin\\4 - Abschlussarbeiten\\01 - Bachelorarbeit\\modell\\data\\\\\""
   ]
  },
  {
   "cell_type": "markdown",
   "metadata": {},
   "source": [
    "### Einlesen der Datenbanken"
   ]
  },
  {
   "cell_type": "markdown",
   "metadata": {},
   "source": [
    "### Knotenpunkte"
   ]
  },
  {
   "cell_type": "code",
   "execution_count": 5,
   "metadata": {},
   "outputs": [],
   "source": [
    "ex1 = pd.ExcelFile(cur_path + \"map_cities.xlsx\")\n",
    "ex2 = pd.ExcelFile(cur_path + \"map_countries.xlsx\")\n",
    "\n",
    "all_gens = pd.read_excel(cur_path + \"Kraftwerksliste_ÜNB_Entwurf_Szenariorahmen_2030_V2019.xlsx\")"
   ]
  },
  {
   "cell_type": "code",
   "execution_count": 6,
   "metadata": {},
   "outputs": [
    {
     "name": "stderr",
     "output_type": "stream",
     "text": [
      "C:\\Users\\janni\\Anaconda3\\lib\\site-packages\\ipykernel_launcher.py:1: FutureWarning: the 'parse_cols' keyword is deprecated, use 'usecols' instead\n",
      "  \"\"\"Entry point for launching an IPython kernel.\n",
      "C:\\Users\\janni\\Anaconda3\\lib\\site-packages\\pandas\\util\\_decorators.py:118: FutureWarning: The `sheetname` keyword is deprecated, use `sheet_name` instead\n",
      "  return func(*args, **kwargs)\n",
      "C:\\Users\\janni\\Anaconda3\\lib\\site-packages\\ipykernel_launcher.py:2: FutureWarning: the 'parse_cols' keyword is deprecated, use 'usecols' instead\n",
      "  \n"
     ]
    }
   ],
   "source": [
    "df_cities = pd.read_excel(ex1, sheetname=\"buses\", header=0, parse_cols=\"B:D\")\n",
    "df_countries = pd.read_excel(ex2, sheetname=\"buses\", header=0, parse_cols=\"B:D\")\n",
    "df_buses = df_cities.append(df_countries).reset_index(drop=True)"
   ]
  },
  {
   "cell_type": "code",
   "execution_count": 7,
   "metadata": {},
   "outputs": [],
   "source": [
    "pypsa.io.import_components_from_dataframe(nw, df_buses, \"Bus\")"
   ]
  },
  {
   "cell_type": "markdown",
   "metadata": {},
   "source": [
    "### Leitungen"
   ]
  },
  {
   "cell_type": "code",
   "execution_count": 8,
   "metadata": {},
   "outputs": [
    {
     "name": "stderr",
     "output_type": "stream",
     "text": [
      "C:\\Users\\janni\\Anaconda3\\lib\\site-packages\\ipykernel_launcher.py:1: FutureWarning: the 'parse_cols' keyword is deprecated, use 'usecols' instead\n",
      "  \"\"\"Entry point for launching an IPython kernel.\n",
      "C:\\Users\\janni\\Anaconda3\\lib\\site-packages\\pandas\\util\\_decorators.py:118: FutureWarning: The `sheetname` keyword is deprecated, use `sheet_name` instead\n",
      "  return func(*args, **kwargs)\n",
      "C:\\Users\\janni\\Anaconda3\\lib\\site-packages\\ipykernel_launcher.py:2: FutureWarning: the 'parse_cols' keyword is deprecated, use 'usecols' instead\n",
      "  \n"
     ]
    }
   ],
   "source": [
    "df_cities_lines = pd.read_excel(ex1, sheetname=\"lines\", header=0, parse_cols=\"B:D\")\n",
    "df_countries_lines = pd.read_excel(ex2, sheetname=\"lines\", header=0, parse_cols=\"B:D\")\n",
    "df_lines = df_cities_lines.append(df_countries_lines).reset_index(drop=True)"
   ]
  },
  {
   "cell_type": "markdown",
   "metadata": {},
   "source": [
    "Calculating the length of each line by Pythagoras.\n",
    "The factor enables converting the distance in lattitude/longitude to kilometers"
   ]
  },
  {
   "cell_type": "code",
   "execution_count": 9,
   "metadata": {},
   "outputs": [],
   "source": [
    "df_lines[\"length\"] = 0\n",
    "factor_coords_to_km = 111\n",
    "\n",
    "for i in range(len(df_lines)):\n",
    "    x_val = df_buses[\"x\"][df_lines[\"bus0\"][i]] - df_buses[\"x\"][df_lines[\"bus1\"][i]]\n",
    "    y_val = df_buses[\"y\"][df_lines[\"bus0\"][i]] - df_buses[\"y\"][df_lines[\"bus1\"][i]]\n",
    "    df_lines.at[i, \"length\"] = (math.sqrt(x_val**2 + y_val**2) * factor_coords_to_km)"
   ]
  },
  {
   "cell_type": "code",
   "execution_count": 10,
   "metadata": {},
   "outputs": [],
   "source": [
    "pypsa.io.import_components_from_dataframe(nw, df_lines, \"Line\")"
   ]
  },
  {
   "cell_type": "code",
   "execution_count": 11,
   "metadata": {},
   "outputs": [
    {
     "data": {
      "text/plain": [
       "(<matplotlib.collections.PathCollection at 0x22419013828>,\n",
       " <matplotlib.collections.LineCollection at 0x22419013198>)"
      ]
     },
     "execution_count": 11,
     "metadata": {},
     "output_type": "execute_result"
    },
    {
     "data": {
      "image/png": "[encoded data removed]",
      "text/plain": [
       "<matplotlib.figure.Figure at 0x22418f60a20>"
      ]
     },
     "metadata": {},
     "output_type": "display_data"
    }
   ],
   "source": [
    "fig,ax=plt.subplots(1,1)\n",
    "fig.set_size_inches(6,6)\n",
    "\n",
    "nw.plot(bus_sizes=20, title=\"Aufbau\")"
   ]
  },
  {
   "cell_type": "markdown",
   "metadata": {},
   "source": [
    "### Generators"
   ]
  },
  {
   "cell_type": "code",
   "execution_count": 17,
   "metadata": {},
   "outputs": [],
   "source": [
    "# only active generators\n",
    "filtered = all_gens.loc[all_gens[\"Status 31.12.2016\"]==\"In Betrieb\"]\n",
    "# take the most powerful of each type of generator for each of the ÜNB\n",
    "filtered = filtered.groupby([all_gens[\"Energieträger\"], all_gens[\"ÜNB\"]]).max()\n",
    "# only 3 kinds of energysource\n",
    "classic_gens = filtered[(filtered.Energieträger==\"Braunkohle\") | (filtered.Energieträger==\"Steinkohle\") | (filtered.Energieträger==\"Erdgas\")]\n",
    "# get rid of multiple index columns\n",
    "classic_gens.reset_index(drop=True, inplace=True)\n",
    "# Vereinfachung der Indizes\n",
    "classic_gens = classic_gens[[\"Betreiber\", \"Energieträger\", \"ÜNB\", \"Bundesland\", \"Nettoleistung 31.12.2016 [MW]\"]].copy()"
   ]
  },
  {
   "cell_type": "code",
   "execution_count": 21,
   "metadata": {},
   "outputs": [
    {
     "data": {
      "text/html": [
       "<div>\n",
       "<style scoped>\n",
       "    .dataframe tbody tr th:only-of-type {\n",
       "        vertical-align: middle;\n",
       "    }\n",
       "\n",
       "    .dataframe tbody tr th {\n",
       "        vertical-align: top;\n",
       "    }\n",
       "\n",
       "    .dataframe thead th {\n",
       "        text-align: right;\n",
       "    }\n",
       "</style>\n",
       "<table border=\"1\" class=\"dataframe\">\n",
       "  <thead>\n",
       "    <tr style=\"text-align: right;\">\n",
       "      <th></th>\n",
       "      <th>name</th>\n",
       "      <th>carrier</th>\n",
       "      <th>ÜNB</th>\n",
       "      <th>Bundesland</th>\n",
       "      <th>p_nom</th>\n",
       "      <th>bus</th>\n",
       "      <th>committable</th>\n",
       "    </tr>\n",
       "  </thead>\n",
       "  <tbody>\n",
       "    <tr>\n",
       "      <th>0</th>\n",
       "      <td>eins - energie in sachsen GmbH &amp; Co. KG</td>\n",
       "      <td>Braunkohle</td>\n",
       "      <td>50Hertz</td>\n",
       "      <td>Sachsen-Anhalt</td>\n",
       "      <td>875.0</td>\n",
       "      <td>8</td>\n",
       "      <td>True</td>\n",
       "    </tr>\n",
       "    <tr>\n",
       "      <th>1</th>\n",
       "      <td>Smurfit Kappa Zülpich Papier GmbH</td>\n",
       "      <td>Braunkohle</td>\n",
       "      <td>Amprion</td>\n",
       "      <td>Nordrhein-Westfalen</td>\n",
       "      <td>1060.0</td>\n",
       "      <td>3</td>\n",
       "      <td>True</td>\n",
       "    </tr>\n",
       "    <tr>\n",
       "      <th>2</th>\n",
       "      <td>Städtische Werke Energie + Wärme GmbH</td>\n",
       "      <td>Braunkohle</td>\n",
       "      <td>TenneT</td>\n",
       "      <td>Hessen</td>\n",
       "      <td>33.5</td>\n",
       "      <td>5</td>\n",
       "      <td>True</td>\n",
       "    </tr>\n",
       "    <tr>\n",
       "      <th>3</th>\n",
       "      <td>envia THERM GmbH</td>\n",
       "      <td>Erdgas</td>\n",
       "      <td>50Hertz</td>\n",
       "      <td>Thüringen</td>\n",
       "      <td>444.0</td>\n",
       "      <td>8</td>\n",
       "      <td>True</td>\n",
       "    </tr>\n",
       "    <tr>\n",
       "      <th>4</th>\n",
       "      <td>ZF Friedrichshafen AG</td>\n",
       "      <td>Erdgas</td>\n",
       "      <td>Amprion</td>\n",
       "      <td>Saarland</td>\n",
       "      <td>595.0</td>\n",
       "      <td>4</td>\n",
       "      <td>True</td>\n",
       "    </tr>\n",
       "    <tr>\n",
       "      <th>5</th>\n",
       "      <td>Wacker Chemie AG</td>\n",
       "      <td>Erdgas</td>\n",
       "      <td>TenneT</td>\n",
       "      <td>Schleswig-Holstein</td>\n",
       "      <td>444.5</td>\n",
       "      <td>0</td>\n",
       "      <td>True</td>\n",
       "    </tr>\n",
       "    <tr>\n",
       "      <th>6</th>\n",
       "      <td>entfällt</td>\n",
       "      <td>Erdgas</td>\n",
       "      <td>TransnetBW</td>\n",
       "      <td>Baden-Württemberg</td>\n",
       "      <td>228.0</td>\n",
       "      <td>6</td>\n",
       "      <td>True</td>\n",
       "    </tr>\n",
       "    <tr>\n",
       "      <th>7</th>\n",
       "      <td>Vattenfall Heizkraftwerk Moorburg GmbH</td>\n",
       "      <td>Steinkohle</td>\n",
       "      <td>50Hertz</td>\n",
       "      <td>Schleswig-Holstein</td>\n",
       "      <td>800.0</td>\n",
       "      <td>0</td>\n",
       "      <td>True</td>\n",
       "    </tr>\n",
       "    <tr>\n",
       "      <th>8</th>\n",
       "      <td>WSW Energie &amp; Wasser AG</td>\n",
       "      <td>Steinkohle</td>\n",
       "      <td>Amprion</td>\n",
       "      <td>Saarland</td>\n",
       "      <td>794.0</td>\n",
       "      <td>4</td>\n",
       "      <td>True</td>\n",
       "    </tr>\n",
       "    <tr>\n",
       "      <th>9</th>\n",
       "      <td>swb Erzeugung GmbH &amp; Co. KG</td>\n",
       "      <td>Steinkohle</td>\n",
       "      <td>TenneT</td>\n",
       "      <td>Schleswig-Holstein</td>\n",
       "      <td>875.0</td>\n",
       "      <td>0</td>\n",
       "      <td>True</td>\n",
       "    </tr>\n",
       "    <tr>\n",
       "      <th>10</th>\n",
       "      <td>Koehler SE</td>\n",
       "      <td>Steinkohle</td>\n",
       "      <td>TransnetBW</td>\n",
       "      <td>Baden-Württemberg</td>\n",
       "      <td>843.0</td>\n",
       "      <td>6</td>\n",
       "      <td>True</td>\n",
       "    </tr>\n",
       "  </tbody>\n",
       "</table>\n",
       "</div>"
      ],
      "text/plain": [
       "                                       name     carrier         ÜNB  \\\n",
       "0   eins - energie in sachsen GmbH & Co. KG  Braunkohle     50Hertz   \n",
       "1         Smurfit Kappa Zülpich Papier GmbH  Braunkohle     Amprion   \n",
       "2     Städtische Werke Energie + Wärme GmbH  Braunkohle      TenneT   \n",
       "3                          envia THERM GmbH      Erdgas     50Hertz   \n",
       "4                     ZF Friedrichshafen AG      Erdgas     Amprion   \n",
       "5                          Wacker Chemie AG      Erdgas      TenneT   \n",
       "6                                  entfällt      Erdgas  TransnetBW   \n",
       "7    Vattenfall Heizkraftwerk Moorburg GmbH  Steinkohle     50Hertz   \n",
       "8                   WSW Energie & Wasser AG  Steinkohle     Amprion   \n",
       "9               swb Erzeugung GmbH & Co. KG  Steinkohle      TenneT   \n",
       "10                               Koehler SE  Steinkohle  TransnetBW   \n",
       "\n",
       "             Bundesland   p_nom  bus  committable  \n",
       "0        Sachsen-Anhalt   875.0    8         True  \n",
       "1   Nordrhein-Westfalen  1060.0    3         True  \n",
       "2                Hessen    33.5    5         True  \n",
       "3             Thüringen   444.0    8         True  \n",
       "4              Saarland   595.0    4         True  \n",
       "5    Schleswig-Holstein   444.5    0         True  \n",
       "6     Baden-Württemberg   228.0    6         True  \n",
       "7    Schleswig-Holstein   800.0    0         True  \n",
       "8              Saarland   794.0    4         True  \n",
       "9    Schleswig-Holstein   875.0    0         True  \n",
       "10    Baden-Württemberg   843.0    6         True  "
      ]
     },
     "execution_count": 21,
     "metadata": {},
     "output_type": "execute_result"
    }
   ],
   "source": [
    "classic_gens"
   ]
  },
  {
   "cell_type": "markdown",
   "metadata": {},
   "source": [
    "Add correct busnumber to each generator by comparing regions from df with buses"
   ]
  },
  {
   "cell_type": "code",
   "execution_count": 18,
   "metadata": {
    "scrolled": true
   },
   "outputs": [],
   "source": [
    "classic_gens[\"bus\"] = 0\n",
    "\n",
    "for j in range(len(classic_gens)):\n",
    "    # find out index of \"Bundesland\" of each generator\n",
    "    indices = [i for i, s in enumerate(nw.buses.name) if classic_gens[\"Bundesland\"][j] in s]\n",
    "    classic_gens.at[j, \"bus\"] = indices[0]"
   ]
  },
  {
   "cell_type": "code",
   "execution_count": 20,
   "metadata": {},
   "outputs": [],
   "source": [
    "classic_gens.rename(columns={\"Betreiber\":\"name\",\n",
    "                             \"Energieträger\":\"carrier\",\n",
    "                             \"Nettoleistung 31.12.2016 [MW]\":\"p_nom\"}, inplace=True)\n",
    "classic_gens[\"committable\"] = True"
   ]
  },
  {
   "cell_type": "code",
   "execution_count": 22,
   "metadata": {},
   "outputs": [],
   "source": [
    "pypsa.io.import_components_from_dataframe(nw, classic_gens, \"Generator\")"
   ]
  },
  {
   "cell_type": "code",
   "execution_count": 23,
   "metadata": {
    "collapsed": true
   },
   "outputs": [
    {
     "data": {
      "text/html": [
       "<div>\n",
       "<style scoped>\n",
       "    .dataframe tbody tr th:only-of-type {\n",
       "        vertical-align: middle;\n",
       "    }\n",
       "\n",
       "    .dataframe tbody tr th {\n",
       "        vertical-align: top;\n",
       "    }\n",
       "\n",
       "    .dataframe thead th {\n",
       "        text-align: right;\n",
       "    }\n",
       "</style>\n",
       "<table border=\"1\" class=\"dataframe\">\n",
       "  <thead>\n",
       "    <tr style=\"text-align: right;\">\n",
       "      <th></th>\n",
       "      <th>name</th>\n",
       "      <th>carrier</th>\n",
       "      <th>ÜNB</th>\n",
       "      <th>Bundesland</th>\n",
       "      <th>p_nom</th>\n",
       "      <th>bus</th>\n",
       "      <th>committable</th>\n",
       "      <th>control</th>\n",
       "      <th>type</th>\n",
       "      <th>p_nom_extendable</th>\n",
       "      <th>...</th>\n",
       "      <th>start_up_cost</th>\n",
       "      <th>shut_down_cost</th>\n",
       "      <th>min_up_time</th>\n",
       "      <th>min_down_time</th>\n",
       "      <th>initial_status</th>\n",
       "      <th>ramp_limit_up</th>\n",
       "      <th>ramp_limit_down</th>\n",
       "      <th>ramp_limit_start_up</th>\n",
       "      <th>ramp_limit_shut_down</th>\n",
       "      <th>p_nom_opt</th>\n",
       "    </tr>\n",
       "  </thead>\n",
       "  <tbody>\n",
       "    <tr>\n",
       "      <th>0</th>\n",
       "      <td>eins - energie in sachsen GmbH &amp; Co. KG</td>\n",
       "      <td>Braunkohle</td>\n",
       "      <td>50Hertz</td>\n",
       "      <td>Sachsen-Anhalt</td>\n",
       "      <td>875.0</td>\n",
       "      <td>8</td>\n",
       "      <td>True</td>\n",
       "      <td>PQ</td>\n",
       "      <td></td>\n",
       "      <td>False</td>\n",
       "      <td>...</td>\n",
       "      <td>0.0</td>\n",
       "      <td>0.0</td>\n",
       "      <td>0</td>\n",
       "      <td>0</td>\n",
       "      <td>1</td>\n",
       "      <td>NaN</td>\n",
       "      <td>NaN</td>\n",
       "      <td>1.0</td>\n",
       "      <td>1.0</td>\n",
       "      <td>0.0</td>\n",
       "    </tr>\n",
       "    <tr>\n",
       "      <th>1</th>\n",
       "      <td>Smurfit Kappa Zülpich Papier GmbH</td>\n",
       "      <td>Braunkohle</td>\n",
       "      <td>Amprion</td>\n",
       "      <td>Nordrhein-Westfalen</td>\n",
       "      <td>1060.0</td>\n",
       "      <td>3</td>\n",
       "      <td>True</td>\n",
       "      <td>PQ</td>\n",
       "      <td></td>\n",
       "      <td>False</td>\n",
       "      <td>...</td>\n",
       "      <td>0.0</td>\n",
       "      <td>0.0</td>\n",
       "      <td>0</td>\n",
       "      <td>0</td>\n",
       "      <td>1</td>\n",
       "      <td>NaN</td>\n",
       "      <td>NaN</td>\n",
       "      <td>1.0</td>\n",
       "      <td>1.0</td>\n",
       "      <td>0.0</td>\n",
       "    </tr>\n",
       "    <tr>\n",
       "      <th>2</th>\n",
       "      <td>Städtische Werke Energie + Wärme GmbH</td>\n",
       "      <td>Braunkohle</td>\n",
       "      <td>TenneT</td>\n",
       "      <td>Hessen</td>\n",
       "      <td>33.5</td>\n",
       "      <td>5</td>\n",
       "      <td>True</td>\n",
       "      <td>PQ</td>\n",
       "      <td></td>\n",
       "      <td>False</td>\n",
       "      <td>...</td>\n",
       "      <td>0.0</td>\n",
       "      <td>0.0</td>\n",
       "      <td>0</td>\n",
       "      <td>0</td>\n",
       "      <td>1</td>\n",
       "      <td>NaN</td>\n",
       "      <td>NaN</td>\n",
       "      <td>1.0</td>\n",
       "      <td>1.0</td>\n",
       "      <td>0.0</td>\n",
       "    </tr>\n",
       "    <tr>\n",
       "      <th>3</th>\n",
       "      <td>envia THERM GmbH</td>\n",
       "      <td>Erdgas</td>\n",
       "      <td>50Hertz</td>\n",
       "      <td>Thüringen</td>\n",
       "      <td>444.0</td>\n",
       "      <td>8</td>\n",
       "      <td>True</td>\n",
       "      <td>PQ</td>\n",
       "      <td></td>\n",
       "      <td>False</td>\n",
       "      <td>...</td>\n",
       "      <td>0.0</td>\n",
       "      <td>0.0</td>\n",
       "      <td>0</td>\n",
       "      <td>0</td>\n",
       "      <td>1</td>\n",
       "      <td>NaN</td>\n",
       "      <td>NaN</td>\n",
       "      <td>1.0</td>\n",
       "      <td>1.0</td>\n",
       "      <td>0.0</td>\n",
       "    </tr>\n",
       "    <tr>\n",
       "      <th>4</th>\n",
       "      <td>ZF Friedrichshafen AG</td>\n",
       "      <td>Erdgas</td>\n",
       "      <td>Amprion</td>\n",
       "      <td>Saarland</td>\n",
       "      <td>595.0</td>\n",
       "      <td>4</td>\n",
       "      <td>True</td>\n",
       "      <td>PQ</td>\n",
       "      <td></td>\n",
       "      <td>False</td>\n",
       "      <td>...</td>\n",
       "      <td>0.0</td>\n",
       "      <td>0.0</td>\n",
       "      <td>0</td>\n",
       "      <td>0</td>\n",
       "      <td>1</td>\n",
       "      <td>NaN</td>\n",
       "      <td>NaN</td>\n",
       "      <td>1.0</td>\n",
       "      <td>1.0</td>\n",
       "      <td>0.0</td>\n",
       "    </tr>\n",
       "    <tr>\n",
       "      <th>5</th>\n",
       "      <td>Wacker Chemie AG</td>\n",
       "      <td>Erdgas</td>\n",
       "      <td>TenneT</td>\n",
       "      <td>Schleswig-Holstein</td>\n",
       "      <td>444.5</td>\n",
       "      <td>0</td>\n",
       "      <td>True</td>\n",
       "      <td>PQ</td>\n",
       "      <td></td>\n",
       "      <td>False</td>\n",
       "      <td>...</td>\n",
       "      <td>0.0</td>\n",
       "      <td>0.0</td>\n",
       "      <td>0</td>\n",
       "      <td>0</td>\n",
       "      <td>1</td>\n",
       "      <td>NaN</td>\n",
       "      <td>NaN</td>\n",
       "      <td>1.0</td>\n",
       "      <td>1.0</td>\n",
       "      <td>0.0</td>\n",
       "    </tr>\n",
       "    <tr>\n",
       "      <th>6</th>\n",
       "      <td>entfällt</td>\n",
       "      <td>Erdgas</td>\n",
       "      <td>TransnetBW</td>\n",
       "      <td>Baden-Württemberg</td>\n",
       "      <td>228.0</td>\n",
       "      <td>6</td>\n",
       "      <td>True</td>\n",
       "      <td>PQ</td>\n",
       "      <td></td>\n",
       "      <td>False</td>\n",
       "      <td>...</td>\n",
       "      <td>0.0</td>\n",
       "      <td>0.0</td>\n",
       "      <td>0</td>\n",
       "      <td>0</td>\n",
       "      <td>1</td>\n",
       "      <td>NaN</td>\n",
       "      <td>NaN</td>\n",
       "      <td>1.0</td>\n",
       "      <td>1.0</td>\n",
       "      <td>0.0</td>\n",
       "    </tr>\n",
       "    <tr>\n",
       "      <th>7</th>\n",
       "      <td>Vattenfall Heizkraftwerk Moorburg GmbH</td>\n",
       "      <td>Steinkohle</td>\n",
       "      <td>50Hertz</td>\n",
       "      <td>Schleswig-Holstein</td>\n",
       "      <td>800.0</td>\n",
       "      <td>0</td>\n",
       "      <td>True</td>\n",
       "      <td>PQ</td>\n",
       "      <td></td>\n",
       "      <td>False</td>\n",
       "      <td>...</td>\n",
       "      <td>0.0</td>\n",
       "      <td>0.0</td>\n",
       "      <td>0</td>\n",
       "      <td>0</td>\n",
       "      <td>1</td>\n",
       "      <td>NaN</td>\n",
       "      <td>NaN</td>\n",
       "      <td>1.0</td>\n",
       "      <td>1.0</td>\n",
       "      <td>0.0</td>\n",
       "    </tr>\n",
       "    <tr>\n",
       "      <th>8</th>\n",
       "      <td>WSW Energie &amp; Wasser AG</td>\n",
       "      <td>Steinkohle</td>\n",
       "      <td>Amprion</td>\n",
       "      <td>Saarland</td>\n",
       "      <td>794.0</td>\n",
       "      <td>4</td>\n",
       "      <td>True</td>\n",
       "      <td>PQ</td>\n",
       "      <td></td>\n",
       "      <td>False</td>\n",
       "      <td>...</td>\n",
       "      <td>0.0</td>\n",
       "      <td>0.0</td>\n",
       "      <td>0</td>\n",
       "      <td>0</td>\n",
       "      <td>1</td>\n",
       "      <td>NaN</td>\n",
       "      <td>NaN</td>\n",
       "      <td>1.0</td>\n",
       "      <td>1.0</td>\n",
       "      <td>0.0</td>\n",
       "    </tr>\n",
       "    <tr>\n",
       "      <th>9</th>\n",
       "      <td>swb Erzeugung GmbH &amp; Co. KG</td>\n",
       "      <td>Steinkohle</td>\n",
       "      <td>TenneT</td>\n",
       "      <td>Schleswig-Holstein</td>\n",
       "      <td>875.0</td>\n",
       "      <td>0</td>\n",
       "      <td>True</td>\n",
       "      <td>PQ</td>\n",
       "      <td></td>\n",
       "      <td>False</td>\n",
       "      <td>...</td>\n",
       "      <td>0.0</td>\n",
       "      <td>0.0</td>\n",
       "      <td>0</td>\n",
       "      <td>0</td>\n",
       "      <td>1</td>\n",
       "      <td>NaN</td>\n",
       "      <td>NaN</td>\n",
       "      <td>1.0</td>\n",
       "      <td>1.0</td>\n",
       "      <td>0.0</td>\n",
       "    </tr>\n",
       "    <tr>\n",
       "      <th>10</th>\n",
       "      <td>Koehler SE</td>\n",
       "      <td>Steinkohle</td>\n",
       "      <td>TransnetBW</td>\n",
       "      <td>Baden-Württemberg</td>\n",
       "      <td>843.0</td>\n",
       "      <td>6</td>\n",
       "      <td>True</td>\n",
       "      <td>PQ</td>\n",
       "      <td></td>\n",
       "      <td>False</td>\n",
       "      <td>...</td>\n",
       "      <td>0.0</td>\n",
       "      <td>0.0</td>\n",
       "      <td>0</td>\n",
       "      <td>0</td>\n",
       "      <td>1</td>\n",
       "      <td>NaN</td>\n",
       "      <td>NaN</td>\n",
       "      <td>1.0</td>\n",
       "      <td>1.0</td>\n",
       "      <td>0.0</td>\n",
       "    </tr>\n",
       "  </tbody>\n",
       "</table>\n",
       "<p>11 rows × 30 columns</p>\n",
       "</div>"
      ],
      "text/plain": [
       "                                       name     carrier         ÜNB  \\\n",
       "0   eins - energie in sachsen GmbH & Co. KG  Braunkohle     50Hertz   \n",
       "1         Smurfit Kappa Zülpich Papier GmbH  Braunkohle     Amprion   \n",
       "2     Städtische Werke Energie + Wärme GmbH  Braunkohle      TenneT   \n",
       "3                          envia THERM GmbH      Erdgas     50Hertz   \n",
       "4                     ZF Friedrichshafen AG      Erdgas     Amprion   \n",
       "5                          Wacker Chemie AG      Erdgas      TenneT   \n",
       "6                                  entfällt      Erdgas  TransnetBW   \n",
       "7    Vattenfall Heizkraftwerk Moorburg GmbH  Steinkohle     50Hertz   \n",
       "8                   WSW Energie & Wasser AG  Steinkohle     Amprion   \n",
       "9               swb Erzeugung GmbH & Co. KG  Steinkohle      TenneT   \n",
       "10                               Koehler SE  Steinkohle  TransnetBW   \n",
       "\n",
       "             Bundesland   p_nom bus  committable control type  \\\n",
       "0        Sachsen-Anhalt   875.0   8         True      PQ        \n",
       "1   Nordrhein-Westfalen  1060.0   3         True      PQ        \n",
       "2                Hessen    33.5   5         True      PQ        \n",
       "3             Thüringen   444.0   8         True      PQ        \n",
       "4              Saarland   595.0   4         True      PQ        \n",
       "5    Schleswig-Holstein   444.5   0         True      PQ        \n",
       "6     Baden-Württemberg   228.0   6         True      PQ        \n",
       "7    Schleswig-Holstein   800.0   0         True      PQ        \n",
       "8              Saarland   794.0   4         True      PQ        \n",
       "9    Schleswig-Holstein   875.0   0         True      PQ        \n",
       "10    Baden-Württemberg   843.0   6         True      PQ        \n",
       "\n",
       "    p_nom_extendable    ...      start_up_cost  shut_down_cost  min_up_time  \\\n",
       "0              False    ...                0.0             0.0            0   \n",
       "1              False    ...                0.0             0.0            0   \n",
       "2              False    ...                0.0             0.0            0   \n",
       "3              False    ...                0.0             0.0            0   \n",
       "4              False    ...                0.0             0.0            0   \n",
       "5              False    ...                0.0             0.0            0   \n",
       "6              False    ...                0.0             0.0            0   \n",
       "7              False    ...                0.0             0.0            0   \n",
       "8              False    ...                0.0             0.0            0   \n",
       "9              False    ...                0.0             0.0            0   \n",
       "10             False    ...                0.0             0.0            0   \n",
       "\n",
       "    min_down_time  initial_status  ramp_limit_up  ramp_limit_down  \\\n",
       "0               0               1            NaN              NaN   \n",
       "1               0               1            NaN              NaN   \n",
       "2               0               1            NaN              NaN   \n",
       "3               0               1            NaN              NaN   \n",
       "4               0               1            NaN              NaN   \n",
       "5               0               1            NaN              NaN   \n",
       "6               0               1            NaN              NaN   \n",
       "7               0               1            NaN              NaN   \n",
       "8               0               1            NaN              NaN   \n",
       "9               0               1            NaN              NaN   \n",
       "10              0               1            NaN              NaN   \n",
       "\n",
       "    ramp_limit_start_up  ramp_limit_shut_down  p_nom_opt  \n",
       "0                   1.0                   1.0        0.0  \n",
       "1                   1.0                   1.0        0.0  \n",
       "2                   1.0                   1.0        0.0  \n",
       "3                   1.0                   1.0        0.0  \n",
       "4                   1.0                   1.0        0.0  \n",
       "5                   1.0                   1.0        0.0  \n",
       "6                   1.0                   1.0        0.0  \n",
       "7                   1.0                   1.0        0.0  \n",
       "8                   1.0                   1.0        0.0  \n",
       "9                   1.0                   1.0        0.0  \n",
       "10                  1.0                   1.0        0.0  \n",
       "\n",
       "[11 rows x 30 columns]"
      ]
     },
     "execution_count": 23,
     "metadata": {},
     "output_type": "execute_result"
    }
   ],
   "source": [
    "nw.generators"
   ]
  },
  {
   "cell_type": "markdown",
   "metadata": {},
   "source": [
    "Zuerst werden die zur Verfügung gestellten Daten eingelesen, danach werden diese noch um einige benötigte Werte von Hand erweitert, die zur Durchführung des Unit Commitment nötig sind"
   ]
  },
  {
   "cell_type": "raw",
   "metadata": {
    "collapsed": true
   },
   "source": [
    "# Einlesen der Kraftwerke\n",
    "gen_data = [pd.DataFrame for i in range(2)]\n",
    "ex = pd.ExcelFile(cur_path + \"Technische Daten Gaskraftwerke.xlsx\")\n",
    "\n",
    "for i in range(len(gen_data)):\n",
    "    # Extract last two columns from worksheet and only rows 5-14\n",
    "    gen_data[i] = ex.parse(i).iloc[4:13,[-2,-1]]\n",
    "    # Use values from first column as index\n",
    "    gen_data[i].index = gen_data[i].iloc[:,0]\n",
    "    # Delete column in the middle\n",
    "    gen_data[i] = gen_data[i].iloc[:, -1]\n",
    "    gen_data[i].set_value(\"committable\", True)"
   ]
  },
  {
   "cell_type": "raw",
   "metadata": {
    "collapsed": true
   },
   "source": [
    "# Einlesen der Wind- und Lastdaten\n",
    "wind_data = pd.read_excel(cur_path + \"Stromlast und Windeinspeisung.xlsx\",\n",
    "                    sheet_name=\"Tabelle1\",\n",
    "                    header=3,\n",
    "                    index_col=0,\n",
    "                    parse_cols=\"A:F\")\n",
    "\n",
    "# Extract only the first day, every Xh\n",
    "intervall = 16\n",
    "wind_data_modell = wind_data.iloc[intervall::intervall,[0,1]].head((96//intervall)-1)"
   ]
  },
  {
   "cell_type": "markdown",
   "metadata": {},
   "source": [
    "### Temporary Additional code\n",
    "### ================================================"
   ]
  },
  {
   "cell_type": "raw",
   "metadata": {
    "collapsed": true
   },
   "source": [
    "filenames = [\"vertices\", \"lines\", \"loads_modell\"]\n",
    "units = [\"Bus\", \"Line\", \"Load\"]\n",
    "components = [pd.DataFrame for i in range(len(filenames))]"
   ]
  },
  {
   "cell_type": "raw",
   "metadata": {
    "collapsed": true
   },
   "source": [
    "# importing the other components as DataFrames\n",
    "for i in range(len(components)):\n",
    "    components[i] = pd.read_csv(cur_path + filenames[i] + \".csv\")\n",
    "    components[i].fillna(0,inplace=True)\n",
    "\n",
    "components[1].rename(columns={\"wid\":\"x\",\"len\":\"length\",\"cap\":\"s_nom\"},inplace=True)"
   ]
  },
  {
   "cell_type": "raw",
   "metadata": {
    "collapsed": true
   },
   "source": [
    "#adapting the load-data\n",
    "wind_data_modell[\"Last\"] = wind_data_modell[\"Last\"]/7\n",
    "gen_data[1][1] = gen_data[1][1]*3"
   ]
  },
  {
   "cell_type": "markdown",
   "metadata": {},
   "source": [
    "### ================================================"
   ]
  },
  {
   "cell_type": "markdown",
   "metadata": {},
   "source": [
    "Einlesen der als *.csv gespeicherten Daten in ein pandas DataFrame, alle NaN werden durch 0 ersetzt"
   ]
  },
  {
   "cell_type": "markdown",
   "metadata": {},
   "source": [
    "Uebertragen der Daten von pandas in das Netzwerk"
   ]
  },
  {
   "cell_type": "code",
   "execution_count": null,
   "metadata": {},
   "outputs": [],
   "source": [
    "gen_temp_df = pd.DataFrame({1:gen_data[0], 2:gen_data[1]})"
   ]
  },
  {
   "cell_type": "code",
   "execution_count": null,
   "metadata": {},
   "outputs": [],
   "source": [
    "pypsa.io.import_components_from_dataframe(nw, gen_temp_df.T, \"Generator\")"
   ]
  },
  {
   "cell_type": "code",
   "execution_count": null,
   "metadata": {},
   "outputs": [],
   "source": [
    "gen_temp_df.T"
   ]
  },
  {
   "cell_type": "code",
   "execution_count": null,
   "metadata": {},
   "outputs": [],
   "source": [
    "nw.add(\"Generator\", \"0\",\n",
    "       bus=2,\n",
    "       carrier=\"wind\",\n",
    "       p_nom=\"3000\",\n",
    "       committable=True,\n",
    "       efficiency=0.95,\n",
    "       ramp_limit_up=100,\n",
    "       ramp_limit_down=100,\n",
    "       marginal_cost=5,\n",
    "       p_min=\"5\")"
   ]
  },
  {
   "cell_type": "code",
   "execution_count": null,
   "metadata": {},
   "outputs": [],
   "source": [
    "# wind_temp_df"
   ]
  },
  {
   "cell_type": "code",
   "execution_count": null,
   "metadata": {},
   "outputs": [],
   "source": [
    "nw.buses"
   ]
  },
  {
   "cell_type": "code",
   "execution_count": null,
   "metadata": {},
   "outputs": [],
   "source": [
    "nw.lines"
   ]
  },
  {
   "cell_type": "code",
   "execution_count": null,
   "metadata": {},
   "outputs": [],
   "source": [
    "nw.generators.T[[\"0\", \"1\", \"2\"]]"
   ]
  },
  {
   "cell_type": "markdown",
   "metadata": {},
   "source": [
    "Einlesen der Werte pro Zeitintervall"
   ]
  },
  {
   "cell_type": "code",
   "execution_count": null,
   "metadata": {},
   "outputs": [],
   "source": [
    "wind_temp_df = pd.DataFrame({\"0\":wind_data_modell[\"Windeinspeisung Original\"]})\n",
    "wind_temp_df.index = nw.snapshots\n",
    "# nw.import_series_from_dataframe(wind_temp_df, \"Generator\", \"p_set\")"
   ]
  },
  {
   "cell_type": "code",
   "execution_count": null,
   "metadata": {},
   "outputs": [],
   "source": [
    "nw.generators_t.p_set[\"0\"] = wind_temp_df[\"0\"]"
   ]
  },
  {
   "cell_type": "code",
   "execution_count": null,
   "metadata": {},
   "outputs": [],
   "source": [
    "load_temp_df = pd.DataFrame({\"0\":wind_data_modell[\"Last\"]})\n",
    "load_temp_df.index = nw.snapshots\n",
    "# nw.import_series_from_dataframe(load_temp_df, \"Load\", \"p_set\")\n",
    "nw.loads_t.p_set[\"0\"] = load_temp_df[\"0\"]"
   ]
  },
  {
   "cell_type": "markdown",
   "metadata": {},
   "source": [
    "## Aufbereitung der Daten"
   ]
  },
  {
   "cell_type": "code",
   "execution_count": null,
   "metadata": {},
   "outputs": [],
   "source": [
    "nw.lopf()"
   ]
  },
  {
   "cell_type": "markdown",
   "metadata": {},
   "source": [
    "## Visualization"
   ]
  },
  {
   "cell_type": "code",
   "execution_count": null,
   "metadata": {},
   "outputs": [],
   "source": [
    "gen_outs = nw.generators_t.p\n",
    "caps_by_carrier = nw.generators.groupby(\"carrier\")[\"p_nom\"].sum()\n",
    "gen_pot_remaining = nw.generators.p_nom - gen_outs"
   ]
  },
  {
   "cell_type": "markdown",
   "metadata": {},
   "source": [
    "Line graph to display the dispatched amount of energy per plant"
   ]
  },
  {
   "cell_type": "code",
   "execution_count": null,
   "metadata": {},
   "outputs": [],
   "source": [
    "gen_plot = gen_outs.plot(kind=\"area\",grid=True)\n",
    "lines, labels = gen_plot.get_legend_handles_labels()\n",
    "gen_plot.legend(lines[:len(nw.generators)], nw.generators['name'].values.tolist(), loc='best')\n",
    "plt.ylabel(\"MW\")"
   ]
  },
  {
   "cell_type": "markdown",
   "metadata": {},
   "source": [
    "network graph showing the distribution of buses etc."
   ]
  },
  {
   "cell_type": "code",
   "execution_count": null,
   "metadata": {},
   "outputs": [],
   "source": [
    "nw.generators_t.p_nom_opt"
   ]
  }
 ],
 "metadata": {
  "kernelspec": {
   "display_name": "Python 3",
   "language": "python",
   "name": "python3"
  },
  "language_info": {
   "codemirror_mode": {
    "name": "ipython",
    "version": 3
   },
   "file_extension": ".py",
   "mimetype": "text/x-python",
   "name": "python",
   "nbconvert_exporter": "python",
   "pygments_lexer": "ipython3",
   "version": "3.6.4"
  }
 },
 "nbformat": 4,
 "nbformat_minor": 2
}
