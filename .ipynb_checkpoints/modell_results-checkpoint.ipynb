{
 "cells": [
  {
   "cell_type": "markdown",
   "metadata": {},
   "source": [
    "# Modell zur Bachelorarbeit"
   ]
  },
  {
   "cell_type": "markdown",
   "metadata": {},
   "source": [
    "## Import of the previously created network"
   ]
  },
  {
   "cell_type": "code",
   "execution_count": null,
   "metadata": {
    "collapsed": true
   },
   "outputs": [],
   "source": []
  },
  {
   "cell_type": "markdown",
   "metadata": {},
   "source": [
    "## Optimierung"
   ]
  },
  {
   "cell_type": "code",
   "execution_count": 21,
   "metadata": {},
   "outputs": [
    {
     "name": "stderr",
     "output_type": "stream",
     "text": [
      "INFO:pypsa.pf:Slack bus for sub-network 0 is 2\n",
      "INFO:pypsa.opf:Performed preliminary steps\n",
      "INFO:pypsa.opf:Building pyomo model using `angles` formulation\n",
      "INFO:pypsa.opf:Solving model using glpk\n"
     ]
    },
    {
     "ename": "AssertionError",
     "evalue": "",
     "output_type": "error",
     "traceback": [
      "\u001b[1;31m---------------------------------------------------------------------------\u001b[0m",
      "\u001b[1;31mAssertionError\u001b[0m                            Traceback (most recent call last)",
      "\u001b[1;32m<ipython-input-21-033121711182>\u001b[0m in \u001b[0;36m<module>\u001b[1;34m()\u001b[0m\n\u001b[1;32m----> 1\u001b[1;33m \u001b[0mnw\u001b[0m\u001b[1;33m.\u001b[0m\u001b[0mlopf\u001b[0m\u001b[1;33m(\u001b[0m\u001b[1;33m)\u001b[0m\u001b[1;33m\u001b[0m\u001b[0m\n\u001b[0m",
      "\u001b[1;32m~\\Anaconda3\\lib\\site-packages\\pypsa\\opf.py\u001b[0m in \u001b[0;36mnetwork_lopf\u001b[1;34m(network, snapshots, solver_name, solver_io, skip_pre, extra_functionality, solver_options, keep_files, formulation, ptdf_tolerance, free_memory)\u001b[0m\n\u001b[0;32m   1483\u001b[0m     \u001b[0mnetwork_lopf_prepare_solver\u001b[0m\u001b[1;33m(\u001b[0m\u001b[0mnetwork\u001b[0m\u001b[1;33m,\u001b[0m \u001b[0msolver_name\u001b[0m\u001b[1;33m=\u001b[0m\u001b[0msolver_name\u001b[0m\u001b[1;33m,\u001b[0m \u001b[0msolver_io\u001b[0m\u001b[1;33m=\u001b[0m\u001b[0msolver_io\u001b[0m\u001b[1;33m)\u001b[0m\u001b[1;33m\u001b[0m\u001b[0m\n\u001b[0;32m   1484\u001b[0m \u001b[1;33m\u001b[0m\u001b[0m\n\u001b[1;32m-> 1485\u001b[1;33m     \u001b[1;32mreturn\u001b[0m \u001b[0mnetwork_lopf_solve\u001b[0m\u001b[1;33m(\u001b[0m\u001b[0mnetwork\u001b[0m\u001b[1;33m,\u001b[0m \u001b[0msnapshots\u001b[0m\u001b[1;33m,\u001b[0m \u001b[0mformulation\u001b[0m\u001b[1;33m=\u001b[0m\u001b[0mformulation\u001b[0m\u001b[1;33m,\u001b[0m \u001b[0msolver_options\u001b[0m\u001b[1;33m=\u001b[0m\u001b[0msolver_options\u001b[0m\u001b[1;33m,\u001b[0m \u001b[0mkeep_files\u001b[0m\u001b[1;33m=\u001b[0m\u001b[0mkeep_files\u001b[0m\u001b[1;33m,\u001b[0m \u001b[0mfree_memory\u001b[0m\u001b[1;33m=\u001b[0m\u001b[0mfree_memory\u001b[0m\u001b[1;33m)\u001b[0m\u001b[1;33m\u001b[0m\u001b[0m\n\u001b[0m",
      "\u001b[1;32m~\\Anaconda3\\lib\\site-packages\\pypsa\\opf.py\u001b[0m in \u001b[0;36mnetwork_lopf_solve\u001b[1;34m(network, snapshots, formulation, solver_options, keep_files, free_memory)\u001b[0m\n\u001b[0;32m   1408\u001b[0m             \u001b[0mnetwork\u001b[0m\u001b[1;33m.\u001b[0m\u001b[0mresults\u001b[0m \u001b[1;33m=\u001b[0m \u001b[0mnetwork\u001b[0m\u001b[1;33m.\u001b[0m\u001b[0mopt\u001b[0m\u001b[1;33m.\u001b[0m\u001b[0msolve\u001b[0m\u001b[1;33m(\u001b[0m\u001b[1;33m*\u001b[0m\u001b[0margs\u001b[0m\u001b[1;33m,\u001b[0m \u001b[0msuffixes\u001b[0m\u001b[1;33m=\u001b[0m\u001b[1;33m[\u001b[0m\u001b[1;34m\"dual\"\u001b[0m\u001b[1;33m]\u001b[0m\u001b[1;33m,\u001b[0m \u001b[0mkeepfiles\u001b[0m\u001b[1;33m=\u001b[0m\u001b[0mkeep_files\u001b[0m\u001b[1;33m,\u001b[0m \u001b[0moptions\u001b[0m\u001b[1;33m=\u001b[0m\u001b[0msolver_options\u001b[0m\u001b[1;33m)\u001b[0m\u001b[1;33m\u001b[0m\u001b[0m\n\u001b[0;32m   1409\u001b[0m     \u001b[1;32melse\u001b[0m\u001b[1;33m:\u001b[0m\u001b[1;33m\u001b[0m\u001b[0m\n\u001b[1;32m-> 1410\u001b[1;33m         \u001b[0mnetwork\u001b[0m\u001b[1;33m.\u001b[0m\u001b[0mresults\u001b[0m \u001b[1;33m=\u001b[0m \u001b[0mnetwork\u001b[0m\u001b[1;33m.\u001b[0m\u001b[0mopt\u001b[0m\u001b[1;33m.\u001b[0m\u001b[0msolve\u001b[0m\u001b[1;33m(\u001b[0m\u001b[1;33m*\u001b[0m\u001b[0margs\u001b[0m\u001b[1;33m,\u001b[0m \u001b[0msuffixes\u001b[0m\u001b[1;33m=\u001b[0m\u001b[1;33m[\u001b[0m\u001b[1;34m\"dual\"\u001b[0m\u001b[1;33m]\u001b[0m\u001b[1;33m,\u001b[0m \u001b[0mkeepfiles\u001b[0m\u001b[1;33m=\u001b[0m\u001b[0mkeep_files\u001b[0m\u001b[1;33m,\u001b[0m \u001b[0moptions\u001b[0m\u001b[1;33m=\u001b[0m\u001b[0msolver_options\u001b[0m\u001b[1;33m)\u001b[0m\u001b[1;33m\u001b[0m\u001b[0m\n\u001b[0m\u001b[0;32m   1411\u001b[0m \u001b[1;33m\u001b[0m\u001b[0m\n\u001b[0;32m   1412\u001b[0m     \u001b[1;32mif\u001b[0m \u001b[0mlogger\u001b[0m\u001b[1;33m.\u001b[0m\u001b[0misEnabledFor\u001b[0m\u001b[1;33m(\u001b[0m\u001b[0mlogging\u001b[0m\u001b[1;33m.\u001b[0m\u001b[0mINFO\u001b[0m\u001b[1;33m)\u001b[0m\u001b[1;33m:\u001b[0m\u001b[1;33m\u001b[0m\u001b[0m\n",
      "\u001b[1;32m~\\Anaconda3\\lib\\site-packages\\pyomo\\opt\\base\\solvers.py\u001b[0m in \u001b[0;36msolve\u001b[1;34m(self, *args, **kwds)\u001b[0m\n\u001b[0;32m    594\u001b[0m             \u001b[0minitial_time\u001b[0m \u001b[1;33m=\u001b[0m \u001b[0mtime\u001b[0m\u001b[1;33m.\u001b[0m\u001b[0mtime\u001b[0m\u001b[1;33m(\u001b[0m\u001b[1;33m)\u001b[0m\u001b[1;33m\u001b[0m\u001b[0m\n\u001b[0;32m    595\u001b[0m \u001b[1;33m\u001b[0m\u001b[0m\n\u001b[1;32m--> 596\u001b[1;33m             \u001b[0mself\u001b[0m\u001b[1;33m.\u001b[0m\u001b[0m_presolve\u001b[0m\u001b[1;33m(\u001b[0m\u001b[1;33m*\u001b[0m\u001b[0margs\u001b[0m\u001b[1;33m,\u001b[0m \u001b[1;33m**\u001b[0m\u001b[0mkwds\u001b[0m\u001b[1;33m)\u001b[0m\u001b[1;33m\u001b[0m\u001b[0m\n\u001b[0m\u001b[0;32m    597\u001b[0m \u001b[1;33m\u001b[0m\u001b[0m\n\u001b[0;32m    598\u001b[0m             \u001b[0mpresolve_completion_time\u001b[0m \u001b[1;33m=\u001b[0m \u001b[0mtime\u001b[0m\u001b[1;33m.\u001b[0m\u001b[0mtime\u001b[0m\u001b[1;33m(\u001b[0m\u001b[1;33m)\u001b[0m\u001b[1;33m\u001b[0m\u001b[0m\n",
      "\u001b[1;32m~\\Anaconda3\\lib\\site-packages\\pyomo\\opt\\solver\\shellcmd.py\u001b[0m in \u001b[0;36m_presolve\u001b[1;34m(self, *args, **kwds)\u001b[0m\n\u001b[0;32m    194\u001b[0m         \u001b[0mself\u001b[0m\u001b[1;33m.\u001b[0m\u001b[0m_keepfiles\u001b[0m \u001b[1;33m=\u001b[0m \u001b[0mkwds\u001b[0m\u001b[1;33m.\u001b[0m\u001b[0mpop\u001b[0m\u001b[1;33m(\u001b[0m\u001b[1;34m\"keepfiles\"\u001b[0m\u001b[1;33m,\u001b[0m \u001b[1;32mFalse\u001b[0m\u001b[1;33m)\u001b[0m\u001b[1;33m\u001b[0m\u001b[0m\n\u001b[0;32m    195\u001b[0m \u001b[1;33m\u001b[0m\u001b[0m\n\u001b[1;32m--> 196\u001b[1;33m         \u001b[0mOptSolver\u001b[0m\u001b[1;33m.\u001b[0m\u001b[0m_presolve\u001b[0m\u001b[1;33m(\u001b[0m\u001b[0mself\u001b[0m\u001b[1;33m,\u001b[0m \u001b[1;33m*\u001b[0m\u001b[0margs\u001b[0m\u001b[1;33m,\u001b[0m \u001b[1;33m**\u001b[0m\u001b[0mkwds\u001b[0m\u001b[1;33m)\u001b[0m\u001b[1;33m\u001b[0m\u001b[0m\n\u001b[0m\u001b[0;32m    197\u001b[0m \u001b[1;33m\u001b[0m\u001b[0m\n\u001b[0;32m    198\u001b[0m         \u001b[1;31m#\u001b[0m\u001b[1;33m\u001b[0m\u001b[1;33m\u001b[0m\u001b[0m\n",
      "\u001b[1;32m~\\Anaconda3\\lib\\site-packages\\pyomo\\opt\\base\\solvers.py\u001b[0m in \u001b[0;36m_presolve\u001b[1;34m(self, *args, **kwds)\u001b[0m\n\u001b[0;32m    691\u001b[0m                                       \u001b[0mself\u001b[0m\u001b[1;33m.\u001b[0m\u001b[0m_problem_format\u001b[0m\u001b[1;33m,\u001b[0m\u001b[1;33m\u001b[0m\u001b[0m\n\u001b[0;32m    692\u001b[0m                                       \u001b[0mself\u001b[0m\u001b[1;33m.\u001b[0m\u001b[0m_valid_problem_formats\u001b[0m\u001b[1;33m,\u001b[0m\u001b[1;33m\u001b[0m\u001b[0m\n\u001b[1;32m--> 693\u001b[1;33m                                       **kwds)\n\u001b[0m\u001b[0;32m    694\u001b[0m             \u001b[0mtotal_time\u001b[0m \u001b[1;33m=\u001b[0m \u001b[0mtime\u001b[0m\u001b[1;33m.\u001b[0m\u001b[0mtime\u001b[0m\u001b[1;33m(\u001b[0m\u001b[1;33m)\u001b[0m \u001b[1;33m-\u001b[0m \u001b[0mwrite_start_time\u001b[0m\u001b[1;33m\u001b[0m\u001b[0m\n\u001b[0;32m    695\u001b[0m             \u001b[1;32mif\u001b[0m \u001b[0mself\u001b[0m\u001b[1;33m.\u001b[0m\u001b[0m_report_timing\u001b[0m\u001b[1;33m:\u001b[0m\u001b[1;33m\u001b[0m\u001b[0m\n",
      "\u001b[1;32m~\\Anaconda3\\lib\\site-packages\\pyomo\\opt\\base\\solvers.py\u001b[0m in \u001b[0;36m_convert_problem\u001b[1;34m(self, args, problem_format, valid_problem_formats, **kwds)\u001b[0m\n\u001b[0;32m    762\u001b[0m                                \u001b[0mvalid_problem_formats\u001b[0m\u001b[1;33m,\u001b[0m\u001b[1;33m\u001b[0m\u001b[0m\n\u001b[0;32m    763\u001b[0m                                \u001b[0mself\u001b[0m\u001b[1;33m.\u001b[0m\u001b[0mhas_capability\u001b[0m\u001b[1;33m,\u001b[0m\u001b[1;33m\u001b[0m\u001b[0m\n\u001b[1;32m--> 764\u001b[1;33m                                **kwds)\n\u001b[0m\u001b[0;32m    765\u001b[0m \u001b[1;33m\u001b[0m\u001b[0m\n\u001b[0;32m    766\u001b[0m     \u001b[1;32mdef\u001b[0m \u001b[0m_default_results_format\u001b[0m\u001b[1;33m(\u001b[0m\u001b[0mself\u001b[0m\u001b[1;33m,\u001b[0m \u001b[0mprob_format\u001b[0m\u001b[1;33m)\u001b[0m\u001b[1;33m:\u001b[0m\u001b[1;33m\u001b[0m\u001b[0m\n",
      "\u001b[1;32m~\\Anaconda3\\lib\\site-packages\\pyomo\\opt\\base\\convert.py\u001b[0m in \u001b[0;36mconvert_problem\u001b[1;34m(args, target_problem_type, valid_problem_types, has_capability, **kwds)\u001b[0m\n\u001b[0;32m    108\u001b[0m                     \u001b[0mtmpkw\u001b[0m \u001b[1;33m=\u001b[0m \u001b[0mkwds\u001b[0m\u001b[1;33m\u001b[0m\u001b[0m\n\u001b[0;32m    109\u001b[0m                     \u001b[0mtmpkw\u001b[0m\u001b[1;33m[\u001b[0m\u001b[1;34m'capabilities'\u001b[0m\u001b[1;33m]\u001b[0m \u001b[1;33m=\u001b[0m \u001b[0mhas_capability\u001b[0m\u001b[1;33m\u001b[0m\u001b[0m\n\u001b[1;32m--> 110\u001b[1;33m                     \u001b[0mproblem_files\u001b[0m\u001b[1;33m,\u001b[0m \u001b[0msymbol_map\u001b[0m \u001b[1;33m=\u001b[0m \u001b[0mconverter\u001b[0m\u001b[1;33m.\u001b[0m\u001b[0mapply\u001b[0m\u001b[1;33m(\u001b[0m\u001b[1;33m*\u001b[0m\u001b[0mtmp\u001b[0m\u001b[1;33m,\u001b[0m \u001b[1;33m**\u001b[0m\u001b[0mtmpkw\u001b[0m\u001b[1;33m)\u001b[0m\u001b[1;33m\u001b[0m\u001b[0m\n\u001b[0m\u001b[0;32m    111\u001b[0m                     \u001b[1;32mreturn\u001b[0m \u001b[0mproblem_files\u001b[0m\u001b[1;33m,\u001b[0m \u001b[0mptype\u001b[0m\u001b[1;33m,\u001b[0m \u001b[0msymbol_map\u001b[0m\u001b[1;33m\u001b[0m\u001b[0m\n\u001b[0;32m    112\u001b[0m \u001b[1;33m\u001b[0m\u001b[0m\n",
      "\u001b[1;32m~\\Anaconda3\\lib\\site-packages\\pyomo\\solvers\\plugins\\converter\\model.py\u001b[0m in \u001b[0;36mapply\u001b[1;34m(self, *args, **kwds)\u001b[0m\n\u001b[0;32m     94\u001b[0m                             \u001b[0mformat\u001b[0m\u001b[1;33m=\u001b[0m\u001b[0mProblemFormat\u001b[0m\u001b[1;33m.\u001b[0m\u001b[0mcpxlp\u001b[0m\u001b[1;33m,\u001b[0m\u001b[1;33m\u001b[0m\u001b[0m\n\u001b[0;32m     95\u001b[0m                             \u001b[0msolver_capability\u001b[0m\u001b[1;33m=\u001b[0m\u001b[0mcapabilities\u001b[0m\u001b[1;33m,\u001b[0m\u001b[1;33m\u001b[0m\u001b[0m\n\u001b[1;32m---> 96\u001b[1;33m                             io_options=io_options)\n\u001b[0m\u001b[0;32m     97\u001b[0m                 \u001b[1;32mreturn\u001b[0m \u001b[1;33m(\u001b[0m\u001b[0mproblem_filename\u001b[0m\u001b[1;33m,\u001b[0m\u001b[1;33m)\u001b[0m\u001b[1;33m,\u001b[0m \u001b[0msymbol_map_id\u001b[0m\u001b[1;33m\u001b[0m\u001b[0m\n\u001b[0;32m     98\u001b[0m             \u001b[1;32melse\u001b[0m\u001b[1;33m:\u001b[0m\u001b[1;33m\u001b[0m\u001b[0m\n",
      "\u001b[1;32m~\\Anaconda3\\lib\\site-packages\\pyomo\\core\\base\\block.py\u001b[0m in \u001b[0;36mwrite\u001b[1;34m(self, filename, format, solver_capability, io_options)\u001b[0m\n\u001b[0;32m   1645\u001b[0m                                           \u001b[0mfilename\u001b[0m\u001b[1;33m,\u001b[0m\u001b[1;33m\u001b[0m\u001b[0m\n\u001b[0;32m   1646\u001b[0m                                           \u001b[0msolver_capability\u001b[0m\u001b[1;33m,\u001b[0m\u001b[1;33m\u001b[0m\u001b[0m\n\u001b[1;32m-> 1647\u001b[1;33m                                           io_options)\n\u001b[0m\u001b[0;32m   1648\u001b[0m         \u001b[0msmap_id\u001b[0m \u001b[1;33m=\u001b[0m \u001b[0mid\u001b[0m\u001b[1;33m(\u001b[0m\u001b[0msmap\u001b[0m\u001b[1;33m)\u001b[0m\u001b[1;33m\u001b[0m\u001b[0m\n\u001b[0;32m   1649\u001b[0m         \u001b[1;32mif\u001b[0m \u001b[1;32mnot\u001b[0m \u001b[0mhasattr\u001b[0m\u001b[1;33m(\u001b[0m\u001b[0mself\u001b[0m\u001b[1;33m,\u001b[0m \u001b[1;34m'solutions'\u001b[0m\u001b[1;33m)\u001b[0m\u001b[1;33m:\u001b[0m\u001b[1;33m\u001b[0m\u001b[0m\n",
      "\u001b[1;32m~\\Anaconda3\\lib\\site-packages\\pyomo\\repn\\plugins\\cpxlp.py\u001b[0m in \u001b[0;36m__call__\u001b[1;34m(self, model, output_filename, solver_capability, io_options)\u001b[0m\n\u001b[0;32m    174\u001b[0m                     \u001b[0mskip_trivial_constraints\u001b[0m\u001b[1;33m=\u001b[0m\u001b[0mskip_trivial_constraints\u001b[0m\u001b[1;33m,\u001b[0m\u001b[1;33m\u001b[0m\u001b[0m\n\u001b[0;32m    175\u001b[0m                     \u001b[0mforce_objective_constant\u001b[0m\u001b[1;33m=\u001b[0m\u001b[0mforce_objective_constant\u001b[0m\u001b[1;33m,\u001b[0m\u001b[1;33m\u001b[0m\u001b[0m\n\u001b[1;32m--> 176\u001b[1;33m                     include_all_variable_bounds=include_all_variable_bounds)\n\u001b[0m\u001b[0;32m    177\u001b[0m \u001b[1;33m\u001b[0m\u001b[0m\n\u001b[0;32m    178\u001b[0m         \u001b[0mself\u001b[0m\u001b[1;33m.\u001b[0m\u001b[0m_referenced_variable_ids\u001b[0m\u001b[1;33m.\u001b[0m\u001b[0mclear\u001b[0m\u001b[1;33m(\u001b[0m\u001b[1;33m)\u001b[0m\u001b[1;33m\u001b[0m\u001b[0m\n",
      "\u001b[1;32m~\\Anaconda3\\lib\\site-packages\\pyomo\\repn\\plugins\\cpxlp.py\u001b[0m in \u001b[0;36m_print_model_LP\u001b[1;34m(self, model, output_file, solver_capability, labeler, output_fixed_variable_bounds, file_determinism, row_order, column_order, skip_trivial_constraints, force_objective_constant, include_all_variable_bounds)\u001b[0m\n\u001b[0;32m    735\u001b[0m             \u001b[1;32mif\u001b[0m \u001b[0mconstraint_data\u001b[0m\u001b[1;33m.\u001b[0m\u001b[0mequality\u001b[0m\u001b[1;33m:\u001b[0m\u001b[1;33m\u001b[0m\u001b[0m\n\u001b[0;32m    736\u001b[0m                 \u001b[1;32massert\u001b[0m \u001b[0mvalue\u001b[0m\u001b[1;33m(\u001b[0m\u001b[0mconstraint_data\u001b[0m\u001b[1;33m.\u001b[0m\u001b[0mlower\u001b[0m\u001b[1;33m)\u001b[0m \u001b[1;33m==\u001b[0m\u001b[0;31m \u001b[0m\u001b[0;31m\\\u001b[0m\u001b[1;33m\u001b[0m\u001b[0m\n\u001b[1;32m--> 737\u001b[1;33m                     \u001b[0mvalue\u001b[0m\u001b[1;33m(\u001b[0m\u001b[0mconstraint_data\u001b[0m\u001b[1;33m.\u001b[0m\u001b[0mupper\u001b[0m\u001b[1;33m)\u001b[0m\u001b[1;33m\u001b[0m\u001b[0m\n\u001b[0m\u001b[0;32m    738\u001b[0m                 \u001b[0mlabel\u001b[0m \u001b[1;33m=\u001b[0m \u001b[1;34m'c_e_'\u001b[0m \u001b[1;33m+\u001b[0m \u001b[0mcon_symbol\u001b[0m \u001b[1;33m+\u001b[0m \u001b[1;34m'_'\u001b[0m\u001b[1;33m\u001b[0m\u001b[0m\n\u001b[0;32m    739\u001b[0m                 \u001b[0malias_symbol_func\u001b[0m\u001b[1;33m(\u001b[0m\u001b[0msymbol_map\u001b[0m\u001b[1;33m,\u001b[0m \u001b[0mconstraint_data\u001b[0m\u001b[1;33m,\u001b[0m \u001b[0mlabel\u001b[0m\u001b[1;33m)\u001b[0m\u001b[1;33m\u001b[0m\u001b[0m\n",
      "\u001b[1;31mAssertionError\u001b[0m: "
     ]
    }
   ],
   "source": [
    "nw.lopf()"
   ]
  },
  {
   "cell_type": "markdown",
   "metadata": {},
   "source": [
    "## Aufbereitung der Daten"
   ]
  },
  {
   "cell_type": "code",
   "execution_count": null,
   "metadata": {
    "collapsed": true
   },
   "outputs": [],
   "source": [
    "gen_outs = nw.generators_t.p\n",
    "caps_by_carrier = nw.generators.groupby(\"carrier\")[\"p_nom\"].sum()\n",
    "gen_pot_remaining = nw.generators.p_nom - gen_outs\n",
    "print(gen_outs)"
   ]
  },
  {
   "cell_type": "code",
   "execution_count": null,
   "metadata": {
    "collapsed": true
   },
   "outputs": [],
   "source": [
    "#dates = pd.date_range(\"2017-01-01\", periods=6, freq=\"4H\")\n",
    "#dates"
   ]
  },
  {
   "cell_type": "code",
   "execution_count": null,
   "metadata": {
    "collapsed": true
   },
   "outputs": [],
   "source": [
    "gen_pot_remaining"
   ]
  },
  {
   "cell_type": "markdown",
   "metadata": {},
   "source": [
    "## Visualization"
   ]
  },
  {
   "cell_type": "code",
   "execution_count": null,
   "metadata": {
    "collapsed": true
   },
   "outputs": [],
   "source": [
    "diag_rows = len(nw.generators)\n",
    "diag_cols = len(nw.snapshots)\n",
    "diag_inches = 4\n",
    "\n",
    "fig, axes = plt.subplots(nrows=diag_rows, ncols=diag_cols)\n",
    "fig.set_size_inches(diag_inches*diag_cols, diag_inches*diag_cols)\n",
    "\n",
    "for i in range(diag_rows):\n",
    "    for j in range(diag_cols):\n",
    "        perc_labels = [\"Available\", \"Dispatched\"]\n",
    "        sizes = [gen_pot_remaining.loc[dates[j],\"{0}\".format(i)],\n",
    "                 gen_outs.loc[dates[j],\"{0}\".format(i)]]\n",
    "        colors = [\"green\", \"blue\"]\n",
    "\n",
    "        axes[i,j].pie(sizes, labels=perc_labels, colors=colors, autopct=\"%1.1f%%\")\n",
    "        axes[i,j].axis(\"equal\")\n",
    "        axes[0,j].set_title(dates[j])\n",
    "        axes[i,0].set_ylabel(components[2][\"name\"][i])\n",
    "        plt.subplots_adjust(wspace=0.7, hspace=0.2)\n",
    "        #plt.pie(fig, labels=perc_labels, colors=colors, autopct=\"%1.1f%%\")\n",
    "        #plt.axis(\"equal\")"
   ]
  },
  {
   "cell_type": "code",
   "execution_count": null,
   "metadata": {
    "collapsed": true
   },
   "outputs": [],
   "source": [
    "workload_rows = len(nw.generators)\n",
    "workload_inches = 4\n",
    "\n",
    "# 3 columns to \n",
    "fig, axes = plt.subplots(nrows=math.ceil(workload_rows/3), ncols=3)\n",
    "fig.set_size_inches(diag_inches*diag_cols, diag_inches*diag_cols)"
   ]
  },
  {
   "cell_type": "markdown",
   "metadata": {},
   "source": [
    "Line graph to display the dispatched amount of energy per plant"
   ]
  },
  {
   "cell_type": "code",
   "execution_count": null,
   "metadata": {
    "collapsed": true
   },
   "outputs": [],
   "source": [
    "gen_plot = gen_outs.plot(kind=\"area\",grid=True)\n",
    "lines, labels = gen_plot.get_legend_handles_labels()\n",
    "gen_plot.legend(lines[:len(nw.generators)], components[2]['name'].values.tolist(), loc='best')\n",
    "plt.ylabel(\"MW\")"
   ]
  },
  {
   "cell_type": "markdown",
   "metadata": {},
   "source": [
    "network graph showing the distribution of buses etc."
   ]
  },
  {
   "cell_type": "code",
   "execution_count": null,
   "metadata": {
    "collapsed": true
   },
   "outputs": [],
   "source": [
    "bmplot.plot(nw, title=\"Aufbau Netz\")\n",
    "plt.xlim([0,120])\n",
    "plt.ylim([0,120])"
   ]
  }
 ],
 "metadata": {
  "kernelspec": {
   "display_name": "Python 3",
   "language": "python",
   "name": "python3"
  },
  "language_info": {
   "codemirror_mode": {
    "name": "ipython",
    "version": 3
   },
   "file_extension": ".py",
   "mimetype": "text/x-python",
   "name": "python",
   "nbconvert_exporter": "python",
   "pygments_lexer": "ipython3",
   "version": "3.6.3"
  }
 },
 "nbformat": 4,
 "nbformat_minor": 2
}
